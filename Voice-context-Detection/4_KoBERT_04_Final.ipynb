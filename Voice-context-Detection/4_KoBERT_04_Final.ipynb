{
 "cells": [
  {
   "cell_type": "markdown",
   "id": "955a8dde-ba68-4681-a119-b4164af4d11f",
   "metadata": {},
   "source": [
    "## KorCCVi 데이터 + STT 데이터 합친 병합 데이터 사용해서 모델 학습"
   ]
  },
  {
   "cell_type": "markdown",
   "id": "4bb8eee1-ed2c-4cca-bcd6-d95c0cc8bad3",
   "metadata": {},
   "source": [
    "## 🔧 1. 라이브러리 임포트"
   ]
  },
  {
   "cell_type": "code",
   "execution_count": 8,
   "id": "b926b41f-8117-41a2-959e-cd24ccac2ec3",
   "metadata": {},
   "outputs": [
    {
     "name": "stderr",
     "output_type": "stream",
     "text": [
      "C:\\downloads\\anaconda3\\Lib\\site-packages\\torch\\utils\\_pytree.py:185: FutureWarning: optree is installed but the version is too old to support PyTorch Dynamo in C++ pytree. C++ pytree support is disabled. Please consider upgrading optree using `python3 -m pip install --upgrade 'optree>=0.13.0'`.\n",
      "  warnings.warn(\n"
     ]
    }
   ],
   "source": [
    "import torch  # GPU 사용을 위한 PyTorch\n",
    "from torch import nn  # 신경망 모델 구성용\n",
    "from torch.utils.data import Dataset, DataLoader  # 데이터셋 및 배치 구성\n",
    "\n",
    "from transformers import BertTokenizer, BertModel  # HuggingFace용 KoBERT 모델\n",
    "from kobert_transformers import get_tokenizer, get_kobert_model  # KoBERT용 전용 함수\n",
    "\n",
    "import numpy as np  # 수치 연산\n",
    "import pandas as pd  # 데이터프레임 처리\n",
    "from sklearn.model_selection import train_test_split  # 학습/테스트 분리\n",
    "from tqdm import tqdm  # 진행바 시각화\n",
    "from konlpy.tag import Okt  # 키워드 추출을 위한 형태소 분석기\n",
    "from torch.optim import AdamW # HuggingFace transformers에서 import\n",
    "from collections import Counter # 훈련셋 + 테스트셋 라벨 분포 확인 코드\n",
    "from transformers import get_cosine_schedule_with_warmup"
   ]
  },
  {
   "cell_type": "markdown",
   "id": "fe99616f-f29e-4a51-86df-0cc9d998bb53",
   "metadata": {},
   "source": [
    "### 📂 2. CSV 데이터 로딩 및 확인"
   ]
  },
  {
   "cell_type": "code",
   "execution_count": 6,
   "id": "95aa9aab-19c9-4fee-8bf1-823669ae5099",
   "metadata": {},
   "outputs": [
    {
     "name": "stdout",
     "output_type": "stream",
     "text": [
      "📊 라벨 분포:\n",
      " Label\n",
      "1    709\n",
      "0    709\n",
      "Name: count, dtype: int64\n",
      "\n",
      "📁 출처 분포:\n",
      " Filename\n",
      "KorCCViD                                                   1218\n",
      "phishing_기타_대출빙자형 사례 2_정부지원자금 대출을 받기 위한 공증서 발급비용 요구.wav       1\n",
      "phishing_대출사기형_124.wav                                        1\n",
      "phishing_수사기관_사칭형_220.wav                                     1\n",
      "phishing_수사기관_사칭형_163.wav                                     1\n",
      "                                                           ... \n",
      "normal_normal_318.wav                                         1\n",
      "normal_normal_550.wav                                         1\n",
      "normal_normal_298.wav                                         1\n",
      "normal_normal_567.wav                                         1\n",
      "phishing_기타_6번_3차례 신고된 남성 전화금융사기범 (음성_6).wav                  1\n",
      "Name: count, Length: 201, dtype: int64\n"
     ]
    }
   ],
   "source": [
    "import pandas as pd\n",
    "\n",
    "# 병합된 KorCCVi + STT 데이터 로드\n",
    "df = pd.read_csv('D:/2025_work/2025_VoicePhshing_Detection_Model/dataset/KorCCVi_stt_merged.csv')\n",
    "\n",
    "# 라벨 분포 및 출처 확인\n",
    "print(\"📊 라벨 분포:\\n\", df['Label'].value_counts())\n",
    "print(\"\\n📁 출처 분포:\\n\", df['Filename'].value_counts())"
   ]
  },
  {
   "cell_type": "markdown",
   "id": "32ccd99b-f9d0-47c3-acaf-6bef04cd7682",
   "metadata": {},
   "source": [
    "### 📑 3. 텍스트와 라벨 분리 후 train/test 나누기"
   ]
  },
  {
   "cell_type": "code",
   "execution_count": 17,
   "id": "c39a01ea-2695-420c-a0ba-fb30684584d3",
   "metadata": {},
   "outputs": [],
   "source": [
    "texts = df['Transcript'].tolist()\n",
    "labels = df['Label'].tolist()\n",
    "train_texts, test_texts, train_labels, test_labels = train_test_split(\n",
    "    texts, labels, test_size=0.2, stratify=labels, random_state=42\n",
    ")"
   ]
  },
  {
   "cell_type": "markdown",
   "id": "c908e770-83eb-4bf5-b525-2cac09e6b6e9",
   "metadata": {},
   "source": [
    "🧪 라벨 분포 출력"
   ]
  },
  {
   "cell_type": "code",
   "execution_count": 21,
   "id": "4baebb01-64f8-4d20-be09-ab804034bc80",
   "metadata": {},
   "outputs": [
    {
     "name": "stdout",
     "output_type": "stream",
     "text": [
      "\n",
      "🔧 훈련셋 라벨 분포: Counter({0: 567, 1: 567})\n",
      "🧪 테스트셋 라벨 분포: Counter({1: 142, 0: 142})\n"
     ]
    }
   ],
   "source": [
    "print(\"\\n🔧 훈련셋 라벨 분포:\", Counter(train_labels))\n",
    "print(\"🧪 테스트셋 라벨 분포:\", Counter(test_labels))"
   ]
  },
  {
   "cell_type": "markdown",
   "id": "ce6339dd-3065-4072-88c8-bd513d87e5bb",
   "metadata": {},
   "source": [
    "### 🔠 4. 토크나이저 및 Dataset 정의"
   ]
  },
  {
   "cell_type": "code",
   "execution_count": 24,
   "id": "89411e51-88aa-4929-a5dd-0c8ba44709fe",
   "metadata": {},
   "outputs": [],
   "source": [
    "MAX_LEN = 128\n",
    "kobert_tokenizer = get_tokenizer()\n",
    "\n",
    "class BERTDataset(Dataset):\n",
    "    def __init__(self, texts, labels, tokenizer, max_len):\n",
    "        self.texts = texts\n",
    "        self.labels = labels\n",
    "        self.tokenizer = tokenizer\n",
    "        self.max_len = max_len\n",
    "\n",
    "    def __getitem__(self, idx):\n",
    "        encoded = self.tokenizer(\n",
    "            self.texts[idx],\n",
    "            padding='max_length',\n",
    "            truncation=True,\n",
    "            max_length=self.max_len,\n",
    "            return_tensors='pt'\n",
    "        )\n",
    "        item = {key: val.squeeze(0) for key, val in encoded.items()}\n",
    "        item['labels'] = torch.tensor(self.labels[idx])\n",
    "        return item\n",
    "\n",
    "    def __len__(self):\n",
    "        return len(self.texts)\n",
    "\n",
    "train_dataset = BERTDataset(train_texts, train_labels, kobert_tokenizer, MAX_LEN)\n",
    "test_dataset = BERTDataset(test_texts, test_labels, kobert_tokenizer, MAX_LEN)\n",
    "\n",
    "train_loader = DataLoader(train_dataset, batch_size=16, shuffle=True)\n",
    "test_loader = DataLoader(test_dataset, batch_size=16)"
   ]
  },
  {
   "cell_type": "markdown",
   "id": "2941630b-c66d-4151-a3d3-ca505f403c1c",
   "metadata": {},
   "source": [
    "### 🧠 5. KoBERT 모델 정의"
   ]
  },
  {
   "cell_type": "code",
   "execution_count": 27,
   "id": "98338199-05e8-4893-8986-d37b6c398470",
   "metadata": {},
   "outputs": [],
   "source": [
    "class KoBERTClassifier(nn.Module):\n",
    "    def __init__(self, bert_model, hidden_size=768, num_classes=2, dr_rate=0.3):\n",
    "        super(KoBERTClassifier, self).__init__()\n",
    "        self.bert = bert_model\n",
    "        self.dropout = nn.Dropout(p=dr_rate)\n",
    "        self.classifier = nn.Linear(hidden_size, num_classes)\n",
    "        self.softmax = nn.Softmax(dim=1)\n",
    "\n",
    "    def forward(self, input_ids, attention_mask, token_type_ids):\n",
    "        outputs = self.bert(input_ids=input_ids,\n",
    "                            attention_mask=attention_mask,\n",
    "                            token_type_ids=token_type_ids)\n",
    "        cls_output = self.dropout(outputs.pooler_output)\n",
    "        logits = self.classifier(cls_output)\n",
    "        return self.softmax(logits)"
   ]
  },
  {
   "cell_type": "markdown",
   "id": "a8b82171-d132-414f-bf28-d6e2c2cb37d9",
   "metadata": {},
   "source": [
    "### 🛠️ 6. 학습 준비 (모델, 옵티마이저, 스케줄러)"
   ]
  },
  {
   "cell_type": "code",
   "execution_count": 30,
   "id": "171d079e-96e1-426a-b20d-15181f124a86",
   "metadata": {},
   "outputs": [],
   "source": [
    "kobert_model = get_kobert_model()\n",
    "device = torch.device(\"cuda\" if torch.cuda.is_available() else \"cpu\")\n",
    "model = KoBERTClassifier(kobert_model).to(device)\n",
    "\n",
    "no_decay = ['bias', 'LayerNorm.weight']\n",
    "optimizer_grouped_parameters = [\n",
    "    {'params': [p for n, p in model.named_parameters() if not any(nd in n for nd in no_decay)], 'weight_decay': 0.01},\n",
    "    {'params': [p for n, p in model.named_parameters() if any(nd in n for nd in no_decay)], 'weight_decay': 0.0}\n",
    "]\n",
    "optimizer = AdamW(optimizer_grouped_parameters, lr=2e-5)\n",
    "loss_fn = nn.CrossEntropyLoss()\n",
    "\n",
    "EPOCHS = 5\n",
    "t_total = len(train_loader) * EPOCHS\n",
    "scheduler = get_cosine_schedule_with_warmup(optimizer, num_warmup_steps=int(t_total * 0.1), num_training_steps=t_total)"
   ]
  },
  {
   "cell_type": "markdown",
   "id": "dffe9f57-039f-44a2-8e3f-d25254a41ab8",
   "metadata": {},
   "source": [
    "### 🎯 7. 평가 및 정확도 함수"
   ]
  },
  {
   "cell_type": "code",
   "execution_count": 33,
   "id": "ee290871-c3fd-4d27-bc32-bd46f985b576",
   "metadata": {},
   "outputs": [],
   "source": [
    "def calc_accuracy(preds, labels):\n",
    "    _, predicted = torch.max(preds, 1)\n",
    "    correct = (predicted == labels).sum().item()\n",
    "    return correct / labels.size(0)\n",
    "\n",
    "def get_metrics(preds, labels):\n",
    "    pred_classes = torch.argmax(preds, dim=1).cpu().numpy()\n",
    "    labels = labels.cpu().numpy()\n",
    "    tp = ((pred_classes == 1) & (labels == 1)).sum()\n",
    "    fp = ((pred_classes == 1) & (labels == 0)).sum()\n",
    "    fn = ((pred_classes == 0) & (labels == 1)).sum()\n",
    "    precision = tp / (tp + fp + 1e-8)\n",
    "    recall = tp / (tp + fn + 1e-8)\n",
    "    f1 = 2 * precision * recall / (precision + recall + 1e-8)\n",
    "    return {\"precision\": precision, \"recall\": recall, \"f1\": f1}"
   ]
  },
  {
   "cell_type": "markdown",
   "id": "24d99c85-ea97-448b-93b5-668b8ca948e7",
   "metadata": {},
   "source": [
    "### 🚀 8. 모델 학습 루프"
   ]
  },
  {
   "cell_type": "code",
   "execution_count": 36,
   "id": "6fcd416c-5e4f-4c65-ab30-3f4769191fd4",
   "metadata": {},
   "outputs": [
    {
     "name": "stderr",
     "output_type": "stream",
     "text": [
      "Epoch 1: 100%|█████████████████████████████████████████████████████████████████████████| 71/71 [11:48<00:00,  9.98s/it]\n"
     ]
    },
    {
     "name": "stdout",
     "output_type": "stream",
     "text": [
      "[Epoch 1] 평균 손실: 0.5408 | 평균 정확도: 79.84%\n"
     ]
    },
    {
     "name": "stderr",
     "output_type": "stream",
     "text": [
      "Epoch 2: 100%|█████████████████████████████████████████████████████████████████████████| 71/71 [16:42<00:00, 14.11s/it]\n"
     ]
    },
    {
     "name": "stdout",
     "output_type": "stream",
     "text": [
      "[Epoch 2] 평균 손실: 0.3511 | 평균 정확도: 97.80%\n"
     ]
    },
    {
     "name": "stderr",
     "output_type": "stream",
     "text": [
      "Epoch 3: 100%|█████████████████████████████████████████████████████████████████████████| 71/71 [14:39<00:00, 12.39s/it]\n"
     ]
    },
    {
     "name": "stdout",
     "output_type": "stream",
     "text": [
      "[Epoch 3] 평균 손실: 0.3311 | 평균 정확도: 98.94%\n"
     ]
    },
    {
     "name": "stderr",
     "output_type": "stream",
     "text": [
      "Epoch 4: 100%|█████████████████████████████████████████████████████████████████████████| 71/71 [09:56<00:00,  8.41s/it]\n"
     ]
    },
    {
     "name": "stdout",
     "output_type": "stream",
     "text": [
      "[Epoch 4] 평균 손실: 0.3263 | 평균 정확도: 99.12%\n"
     ]
    },
    {
     "name": "stderr",
     "output_type": "stream",
     "text": [
      "Epoch 5: 100%|█████████████████████████████████████████████████████████████████████████| 71/71 [09:38<00:00,  8.15s/it]"
     ]
    },
    {
     "name": "stdout",
     "output_type": "stream",
     "text": [
      "[Epoch 5] 평균 손실: 0.3233 | 평균 정확도: 99.38%\n"
     ]
    },
    {
     "name": "stderr",
     "output_type": "stream",
     "text": [
      "\n"
     ]
    }
   ],
   "source": [
    "for epoch in range(EPOCHS):\n",
    "    model.train()\n",
    "    total_loss = 0\n",
    "    total_acc = 0\n",
    "\n",
    "    for batch in tqdm(train_loader, desc=f\"Epoch {epoch+1}\"):\n",
    "        input_ids = batch['input_ids'].to(device)\n",
    "        attention_mask = batch['attention_mask'].to(device)\n",
    "        token_type_ids = batch['token_type_ids'].to(device)\n",
    "        labels = batch['labels'].to(device)\n",
    "\n",
    "        preds = model(input_ids, attention_mask, token_type_ids)\n",
    "        loss = loss_fn(preds, labels)\n",
    "\n",
    "        optimizer.zero_grad()\n",
    "        loss.backward()\n",
    "        optimizer.step()\n",
    "        scheduler.step()\n",
    "\n",
    "        total_loss += loss.item()\n",
    "        total_acc += calc_accuracy(preds, labels)\n",
    "\n",
    "    avg_loss = total_loss / len(train_loader)\n",
    "    avg_acc = total_acc / len(train_loader)\n",
    "    print(f\"[Epoch {epoch+1}] 평균 손실: {avg_loss:.4f} | 평균 정확도: {avg_acc*100:.2f}%\")"
   ]
  },
  {
   "cell_type": "markdown",
   "id": "d5b432fd-d066-4567-8d71-4f240c80807b",
   "metadata": {},
   "source": [
    "### 📈 9. 최종 테스트 성능 평가"
   ]
  },
  {
   "cell_type": "code",
   "execution_count": 39,
   "id": "78de206a-d4ed-4293-a0d6-678efd5e321a",
   "metadata": {},
   "outputs": [
    {
     "name": "stdout",
     "output_type": "stream",
     "text": [
      "\n",
      "📊 [최종 테스트 결과]\n",
      "🎯 정확도: 99.65%\n",
      "📌 정밀도: 1.00\n",
      "📌 재현율: 0.99\n",
      "📌 F1-score: 1.00\n"
     ]
    }
   ],
   "source": [
    "model.eval()\n",
    "total_correct = 0\n",
    "total = 0\n",
    "all_preds = []\n",
    "all_labels = []\n",
    "\n",
    "with torch.no_grad():\n",
    "    for batch in test_loader:\n",
    "        input_ids = batch['input_ids'].to(device)\n",
    "        attention_mask = batch['attention_mask'].to(device)\n",
    "        token_type_ids = batch['token_type_ids'].to(device)\n",
    "        labels = batch['labels'].to(device)\n",
    "\n",
    "        preds = model(input_ids, attention_mask, token_type_ids)\n",
    "        total_correct += (preds.argmax(1) == labels).sum().item()\n",
    "        total += labels.size(0)\n",
    "        all_preds.append(preds)\n",
    "        all_labels.append(labels)\n",
    "\n",
    "acc = total_correct / total\n",
    "all_preds_tensor = torch.cat(all_preds, dim=0)\n",
    "all_labels_tensor = torch.cat(all_labels, dim=0)\n",
    "metrics = get_metrics(all_preds_tensor, all_labels_tensor)\n",
    "\n",
    "print(\"\\n📊 [최종 테스트 결과]\")\n",
    "print(f\"🎯 정확도: {acc * 100:.2f}%\")\n",
    "print(f\"📌 정밀도: {metrics['precision']:.2f}\")\n",
    "print(f\"📌 재현율: {metrics['recall']:.2f}\")\n",
    "print(f\"📌 F1-score: {metrics['f1']:.2f}\")"
   ]
  },
  {
   "cell_type": "markdown",
   "id": "00c3e880-99a6-4fd9-995b-ba9cceed306f",
   "metadata": {},
   "source": [
    "## ✅ 기준점(Threshold) 기반 탐지 및 분석 절차"
   ]
  },
  {
   "cell_type": "markdown",
   "id": "c3f39712-66f9-4e4b-9b60-ee3eaaad8a9b",
   "metadata": {},
   "source": [
    "1️⃣ 기준점별 예측 수행 및 CSV 저장"
   ]
  },
  {
   "cell_type": "code",
   "execution_count": 50,
   "id": "c467fd92-f8b2-45fd-96de-42589cc79e38",
   "metadata": {},
   "outputs": [
    {
     "name": "stdout",
     "output_type": "stream",
     "text": [
      "   Threshold  Precision (정상)  Recall (정상)   F1 (정상)  Precision (피싱)  \\\n",
      "0       0.70        0.994358     0.994358  0.994358        0.994358   \n",
      "1       0.80        0.994358     0.994358  0.994358        0.994358   \n",
      "2       0.90        0.992968     0.995769  0.994366        0.995757   \n",
      "3       0.95        0.991585     0.997179  0.994374        0.997163   \n",
      "\n",
      "   Recall (피싱)   F1 (피싱)  Accuracy  \n",
      "0     0.994358  0.994358  0.994358  \n",
      "1     0.994358  0.994358  0.994358  \n",
      "2     0.992948  0.994350  0.994358  \n",
      "3     0.991537  0.994342  0.994358  \n"
     ]
    }
   ],
   "source": [
    "import pandas as pd\n",
    "from sklearn.metrics import classification_report\n",
    "\n",
    "def predict_with_threshold(texts, model, tokenizer, threshold=0.9, max_len=128):\n",
    "    model.eval()\n",
    "    pred_labels, confidences = [], []\n",
    "    with torch.no_grad():\n",
    "        for text in texts:\n",
    "            encoded = tokenizer(text, padding='max_length', truncation=True, max_length=max_len, return_tensors='pt')\n",
    "            input_ids = encoded['input_ids'].to(device)\n",
    "            attention_mask = encoded['attention_mask'].to(device)\n",
    "            token_type_ids = encoded['token_type_ids'].to(device)\n",
    "\n",
    "            output = model(input_ids, attention_mask, token_type_ids)\n",
    "            phishing_score = output[0][1].item()\n",
    "            pred_label = 1 if phishing_score >= threshold else 0\n",
    "            pred_labels.append(pred_label)\n",
    "            confidences.append(phishing_score)\n",
    "    return pred_labels, confidences\n",
    "\n",
    "# 데이터 로딩\n",
    "df = pd.read_csv(\"D:/2025_work/2025_VoicePhshing_Detection_Model/dataset/KorCCVi_stt_merged.csv\")\n",
    "texts = df['Transcript'].tolist()\n",
    "true_labels = df['Label'].tolist()\n",
    "thresholds = [0.7, 0.8, 0.9, 0.95]\n",
    "\n",
    "results = []\n",
    "\n",
    "for t in thresholds:\n",
    "    preds, confidences = predict_with_threshold(texts, model, kobert_tokenizer, threshold=t)\n",
    "    df_copy = df.copy()\n",
    "    df_copy['PredictedLabel'] = preds\n",
    "    df_copy['Confidence'] = confidences\n",
    "    df_copy.to_csv(f\"D:/2025_work/2025_VoicePhshing_Detection_Model/dataset/KorCCVi_stt_predicted_threshold_{int(t*100)}.csv\", index=False)\n",
    "\n",
    "    report = classification_report(true_labels, preds, output_dict=True)\n",
    "    results.append({\n",
    "        'Threshold': t,\n",
    "        'Precision (정상)': report['0']['precision'],\n",
    "        'Recall (정상)': report['0']['recall'],\n",
    "        'F1 (정상)': report['0']['f1-score'],\n",
    "        'Precision (피싱)': report['1']['precision'],\n",
    "        'Recall (피싱)': report['1']['recall'],\n",
    "        'F1 (피싱)': report['1']['f1-score'],\n",
    "        'Accuracy': report['accuracy'],\n",
    "    })\n",
    "\n",
    "df_results = pd.DataFrame(results)\n",
    "print(df_results)"
   ]
  },
  {
   "cell_type": "markdown",
   "id": "064ff46c-66da-413f-9fb9-22c7b9d5205f",
   "metadata": {},
   "source": [
    "2️⃣ FP / FN 분석"
   ]
  },
  {
   "cell_type": "code",
   "execution_count": 49,
   "id": "c2aaa6d7-4832-4567-9685-5378053b9cdf",
   "metadata": {},
   "outputs": [
    {
     "name": "stdout",
     "output_type": "stream",
     "text": [
      "\n",
      "🔎 Threshold = 0.7\n",
      "❌ FP (정상 → 피싱): 4개\n",
      "❌ FN (피싱 → 정상): 4개\n",
      "\n",
      "🔎 Threshold = 0.8\n",
      "❌ FP (정상 → 피싱): 4개\n",
      "❌ FN (피싱 → 정상): 4개\n",
      "\n",
      "🔎 Threshold = 0.9\n",
      "❌ FP (정상 → 피싱): 3개\n",
      "❌ FN (피싱 → 정상): 5개\n",
      "\n",
      "🔎 Threshold = 0.95\n",
      "❌ FP (정상 → 피싱): 2개\n",
      "❌ FN (피싱 → 정상): 6개\n"
     ]
    }
   ],
   "source": [
    "for t in thresholds:\n",
    "    path = f\"D:/2025_work/2025_VoicePhshing_Detection_Model/dataset/KorCCVi_stt_predicted_threshold_{int(t*100)}.csv\"\n",
    "    df_pred = pd.read_csv(path)\n",
    "\n",
    "    false_positives = df_pred[(df_pred['Label'] == 0) & (df_pred['PredictedLabel'] == 1)]\n",
    "    false_negatives = df_pred[(df_pred['Label'] == 1) & (df_pred['PredictedLabel'] == 0)]\n",
    "\n",
    "    print(f\"\\n🔎 Threshold = {t}\")\n",
    "    print(f\"❌ FP (정상 → 피싱): {len(false_positives)}개\")\n",
    "    print(f\"❌ FN (피싱 → 정상): {len(false_negatives)}개\")\n"
   ]
  },
  {
   "cell_type": "markdown",
   "id": "7dc71a53-4316-434e-93d6-53e002b1e384",
   "metadata": {},
   "source": [
    "✅ FP와 FN\n",
    "--------------\n",
    "[ FP (False Positive): ]\n",
    "- 정상 통화인데 보이스 피싱이라고 잘못 판단한 경우\n",
    "- 사용자에게 불필요한 경고를 발생시킴\n",
    "- 사용자 불편 증가\n",
    "\n",
    "[ FN (False Negative): ]\n",
    "- 보이스 피싱인데 정상 통화라고 잘못 판단한 경우\n",
    "- 실제 피싱을 놓치는 위험한 상황\n",
    "- 보안상 큰 문제\n",
    "\n"
   ]
  },
  {
   "cell_type": "markdown",
   "id": "204d22ff-a5b6-44c8-9680-9f86dd1f9e4a",
   "metadata": {},
   "source": [
    "3️⃣ Threshold vs F1-score 그래프 시각화"
   ]
  },
  {
   "cell_type": "code",
   "execution_count": 48,
   "id": "afc508f0-7c31-48f3-88e5-7b4e4bf55ac8",
   "metadata": {},
   "outputs": [
    {
     "name": "stderr",
     "output_type": "stream",
     "text": [
      "C:\\downloads\\anaconda3\\Lib\\site-packages\\IPython\\core\\pylabtools.py:170: UserWarning: Glyph 128200 (\\N{CHART WITH UPWARDS TREND}) missing from current font.\n",
      "  fig.canvas.print_figure(bytes_io, **kw)\n",
      "C:\\downloads\\anaconda3\\Lib\\site-packages\\IPython\\core\\pylabtools.py:170: UserWarning: Glyph 51221 (\\N{HANGUL SYLLABLE JEONG}) missing from current font.\n",
      "  fig.canvas.print_figure(bytes_io, **kw)\n",
      "C:\\downloads\\anaconda3\\Lib\\site-packages\\IPython\\core\\pylabtools.py:170: UserWarning: Glyph 49345 (\\N{HANGUL SYLLABLE SANG}) missing from current font.\n",
      "  fig.canvas.print_figure(bytes_io, **kw)\n",
      "C:\\downloads\\anaconda3\\Lib\\site-packages\\IPython\\core\\pylabtools.py:170: UserWarning: Glyph 53685 (\\N{HANGUL SYLLABLE TONG}) missing from current font.\n",
      "  fig.canvas.print_figure(bytes_io, **kw)\n",
      "C:\\downloads\\anaconda3\\Lib\\site-packages\\IPython\\core\\pylabtools.py:170: UserWarning: Glyph 54868 (\\N{HANGUL SYLLABLE HWA}) missing from current font.\n",
      "  fig.canvas.print_figure(bytes_io, **kw)\n",
      "C:\\downloads\\anaconda3\\Lib\\site-packages\\IPython\\core\\pylabtools.py:170: UserWarning: Glyph 48372 (\\N{HANGUL SYLLABLE BO}) missing from current font.\n",
      "  fig.canvas.print_figure(bytes_io, **kw)\n",
      "C:\\downloads\\anaconda3\\Lib\\site-packages\\IPython\\core\\pylabtools.py:170: UserWarning: Glyph 51060 (\\N{HANGUL SYLLABLE I}) missing from current font.\n",
      "  fig.canvas.print_figure(bytes_io, **kw)\n",
      "C:\\downloads\\anaconda3\\Lib\\site-packages\\IPython\\core\\pylabtools.py:170: UserWarning: Glyph 49828 (\\N{HANGUL SYLLABLE SEU}) missing from current font.\n",
      "  fig.canvas.print_figure(bytes_io, **kw)\n",
      "C:\\downloads\\anaconda3\\Lib\\site-packages\\IPython\\core\\pylabtools.py:170: UserWarning: Glyph 54588 (\\N{HANGUL SYLLABLE PI}) missing from current font.\n",
      "  fig.canvas.print_figure(bytes_io, **kw)\n",
      "C:\\downloads\\anaconda3\\Lib\\site-packages\\IPython\\core\\pylabtools.py:170: UserWarning: Glyph 49905 (\\N{HANGUL SYLLABLE SING}) missing from current font.\n",
      "  fig.canvas.print_figure(bytes_io, **kw)\n"
     ]
    },
    {
     "data": {
      "image/png": "[encoded data removed]",
      "text/plain": [
       "<Figure size 800x500 with 1 Axes>"
      ]
     },
     "metadata": {},
     "output_type": "display_data"
    }
   ],
   "source": [
    "import matplotlib.pyplot as plt\n",
    "\n",
    "plt.figure(figsize=(8, 5))\n",
    "plt.plot(df_results['Threshold'], df_results['F1 (정상)'], label='F1 (정상 통화)', marker='o')\n",
    "plt.plot(df_results['Threshold'], df_results['F1 (피싱)'], label='F1 (보이스 피싱)', marker='o')\n",
    "plt.title(\"📈 Threshold vs F1-score\")\n",
    "plt.xlabel(\"Threshold\")\n",
    "plt.ylabel(\"F1-score\")\n",
    "plt.grid(True)\n",
    "plt.legend()\n",
    "plt.show()"
   ]
  },
  {
   "cell_type": "markdown",
   "id": "8464c535-20a2-4da0-88a4-b6bc9a0d8e55",
   "metadata": {},
   "source": [
    "### 📌기준점 0.80으로 선정"
   ]
  },
  {
   "cell_type": "markdown",
   "id": "45b6664d-7891-4d9c-858b-d09c54f398ed",
   "metadata": {},
   "source": [
    "✅ KorCCViD 기반 데이터에서 예측 정확도 분석 코드"
   ]
  },
  {
   "cell_type": "code",
   "execution_count": 77,
   "id": "0c49473a-54dc-4e3f-bbca-b657277e9862",
   "metadata": {},
   "outputs": [
    {
     "name": "stdout",
     "output_type": "stream",
     "text": [
      "📊 [KorCCVi 데이터 기준점 0.80 예측 통계]\n",
      "총 KorCCVi 샘플 수: 1218\n",
      "정확히 예측한 샘플 수: 1214개 (99.67%)\n",
      "오분류된 샘플 수: 4개 (0.33%)\n"
     ]
    }
   ],
   "source": [
    "import pandas as pd\n",
    "\n",
    "# 📥 CSV 로드 (기준점 0.80 예측 결과)\n",
    "df = pd.read_csv(\"D:/2025_work/2025_VoicePhshing_Detection_Model/dataset/KorCCVi_stt_predicted_threshold_80.csv\")\n",
    "\n",
    "# 🎯 KorCCVi 데이터만 필터링 (Filename이 'KorCCViD')\n",
    "korccvi_df = df[df[\"Filename\"] == \"KorCCViD\"]\n",
    "\n",
    "# ✅ 총 샘플 수\n",
    "total_korccvi = len(korccvi_df)\n",
    "\n",
    "# ✅ 정확히 예측한 샘플 수\n",
    "correct = (korccvi_df[\"Label\"] == korccvi_df[\"PredictedLabel\"]).sum()\n",
    "\n",
    "# ❌ 오분류된 샘플 수\n",
    "incorrect = total_korccvi - correct\n",
    "\n",
    "# 📊 출력\n",
    "print(\"📊 [KorCCVi 데이터 기준점 0.80 예측 통계]\")\n",
    "print(f\"총 KorCCVi 샘플 수: {total_korccvi}\")\n",
    "print(f\"정확히 예측한 샘플 수: {correct}개 ({correct/total_korccvi*100:.2f}%)\")\n",
    "print(f\"오분류된 샘플 수: {incorrect}개 ({incorrect/total_korccvi*100:.2f}%)\")\n"
   ]
  },
  {
   "cell_type": "markdown",
   "id": "47623d4d-d63f-4ef1-a52e-1068dc97e940",
   "metadata": {},
   "source": [
    "✅ STT 기반 데이터에서 예측 정확도 분석 코드"
   ]
  },
  {
   "cell_type": "code",
   "execution_count": 63,
   "id": "5a37f584-7552-42b1-998e-9aee63c5f8e2",
   "metadata": {},
   "outputs": [
    {
     "name": "stdout",
     "output_type": "stream",
     "text": [
      "📊 [STT 데이터 기준점 0.80 예측 통계]\n",
      "총 STT 샘플 수: 200\n",
      "정확히 예측한 샘플 수: 196개 (98.00%)\n",
      "오분류된 샘플 수: 4개 (2.00%)\n"
     ]
    }
   ],
   "source": [
    "import pandas as pd\n",
    "\n",
    "# 📥 CSV 로드 (기준점 0.80 버전)\n",
    "df = pd.read_csv(\"D:/2025_work/2025_VoicePhshing_Detection_Model/dataset/KorCCVi_stt_predicted_threshold_80.csv\")\n",
    "\n",
    "# 🎯 STT 데이터만 필터링 (KorCCViD가 아닌 파일명)\n",
    "stt_df = df[df[\"Filename\"] != \"KorCCViD\"]\n",
    "\n",
    "# ✅ 총 샘플 수\n",
    "total_stt = len(stt_df)\n",
    "\n",
    "# ✅ 정확히 예측한 행만 필터링\n",
    "correct = (stt_df[\"Label\"] == stt_df[\"PredictedLabel\"]).sum()\n",
    "\n",
    "# ❌ 오분류된 샘플 수\n",
    "incorrect = total_stt - correct\n",
    "\n",
    "# 📊 결과 출력\n",
    "print(\"📊 [STT 데이터 기준점 0.80 예측 통계]\")\n",
    "print(f\"총 STT 샘플 수: {total_stt}\")\n",
    "print(f\"정확히 예측한 샘플 수: {correct}개 ({correct/total_stt*100:.2f}%)\")\n",
    "print(f\"오분류된 샘플 수: {incorrect}개 ({incorrect/total_stt*100:.2f}%)\")"
   ]
  },
  {
   "cell_type": "markdown",
   "id": "bb8aeab3-8ba2-40c9-87d7-55f42bd20dbc",
   "metadata": {},
   "source": [
    "✅ KorCCVi 오분류 샘플 출력 코드"
   ]
  },
  {
   "cell_type": "code",
   "execution_count": 80,
   "id": "c5738024-b8e3-4157-a847-154de1994be4",
   "metadata": {},
   "outputs": [
    {
     "name": "stdout",
     "output_type": "stream",
     "text": [
      "❌ 오분류된 KorCCVi 샘플 수: 4개\n",
      "\n",
      "📎 인덱스: 183\n",
      "▶ 텍스트: 사람 한테 연락 벌어지 혹시 그쪽 부대 어떻게 관리 겁니까 선배 으로 연락 바로 직통 으로 연락 대대장 한테 그래 대대장 바로 보급관 호출 보급관 너희 간부 끼리 얘기 얘기 으로 결국 징계 위원회 무마 처리 간부 징계 위원회 열려 간부 대대 에서...\n",
      "✅ 실제 라벨: 정상 통화\n",
      "🔍 예측 라벨: 보이스 피싱\n",
      "📊 확신도: 0.90\n",
      "--------------------------------------------------------------------------------\n",
      "📎 인덱스: 597\n",
      "▶ 텍스트: 중앙 포스 누나 영수증 으면서 해서 고객 상품권 다른 영수증 하나 고요 다른 하나 셔야 돼요 고객 니까 거기 고객 그래요 면서 모르 근데 거기 난동 으니까 고객 얼굴 기억 거기 사람...\n",
      "✅ 실제 라벨: 정상 통화\n",
      "🔍 예측 라벨: 보이스 피싱\n",
      "📊 확신도: 0.97\n",
      "--------------------------------------------------------------------------------\n",
      "📎 인덱스: 806\n",
      "▶ 텍스트: 그래 학원 들어갔 1500 필요 1500 1500 어요 어요 으면 전화 찾아갈 아줌마 한테 전화 전부 인간 으로 전화 겁니다 해치 그치 에서 신고 들어가 거나 시킨 대로 그때 죽인다 1500 전부 현찰 위치 습니다 시키 단계 단계 움직여 준비 라면 으로 된다 먼저 어딘지 필요...\n",
      "✅ 실제 라벨: 보이스 피싱\n",
      "🔍 예측 라벨: 정상 통화\n",
      "📊 확신도: 0.01\n",
      "--------------------------------------------------------------------------------\n",
      "📎 인덱스: 1095\n",
      "▶ 텍스트: 저번 제일 웃겼 내일 자일리톨 많이 냐는 질문 많이 니까 롯데 자일리톨 많이 드세요 해태 자일리톨 많이 드세요 라고 진짜 미치 어떻게 모르 해서 계속 많이 더니 사람 롯데 조금 많이 으시 롯데 많이...\n",
      "✅ 실제 라벨: 정상 통화\n",
      "🔍 예측 라벨: 보이스 피싱\n",
      "📊 확신도: 0.94\n",
      "--------------------------------------------------------------------------------\n"
     ]
    }
   ],
   "source": [
    "import pandas as pd\n",
    "\n",
    "# 🔍 예측 결과 로드\n",
    "csv_path = 'D:/2025_work/2025_VoicePhshing_Detection_Model/dataset/KorCCVi_stt_predicted_threshold_80.csv'\n",
    "df = pd.read_csv(csv_path)\n",
    "\n",
    "# 🎯 KorCCVi 기반 데이터만 필터링\n",
    "korccvi_df = df[df['Filename'] == 'KorCCViD']\n",
    "\n",
    "# ❌ 오분류된 샘플 (Label ≠ PredictedLabel)\n",
    "misclassified = korccvi_df[korccvi_df['Label'] != korccvi_df['PredictedLabel']]\n",
    "\n",
    "# 📋 오분류 샘플 출력\n",
    "print(f\"❌ 오분류된 KorCCVi 샘플 수: {len(misclassified)}개\\n\")\n",
    "for idx, row in misclassified.iterrows():\n",
    "    print(f\"📎 인덱스: {idx}\")\n",
    "    print(f\"▶ 텍스트: {row['Transcript'][:200]}...\")  # 200자까지만 출력\n",
    "    print(f\"✅ 실제 라벨: {'보이스 피싱' if row['Label'] == 1 else '정상 통화'}\")\n",
    "    print(f\"🔍 예측 라벨: {'보이스 피싱' if row['PredictedLabel'] == 1 else '정상 통화'}\")\n",
    "    print(f\"📊 확신도: {row['Confidence']:.2f}\")\n",
    "    print(\"-\" * 80)\n"
   ]
  },
  {
   "cell_type": "markdown",
   "id": "5a41c5ef-3bef-4c87-b0e9-6780ff036471",
   "metadata": {},
   "source": [
    "✅ 오분류된 STT 샘플 확인하기"
   ]
  },
  {
   "cell_type": "code",
   "execution_count": 66,
   "id": "50d771a3-6487-4ed1-b1b0-ec452965491a",
   "metadata": {},
   "outputs": [
    {
     "name": "stdout",
     "output_type": "stream",
     "text": [
      "❌ 오분류된 STT 샘플 수: 4개\n",
      "\n",
      "📎 파일명: normal_normal_545.wav\n",
      "▶ 텍스트: 네 말씀하세요 고객님 제가 확인해 보니까 고객님께서 이미 올해 1월의 대출을 받으신 이력이 있으세요. 코로나 터지기 전인데 그걸 여기서 얘기하면 나보고 어쩌라는 거야? 저희는 보이는 대로 안내를 해드리는 거라서요 대출을 하신지 얼마 안 되셔서 지금은 좀 어렵겠습니다 나 같은 장사꾼들이 올해 1월에 대출 받는 건 올 한해 장사 보고 대출 받는 건데 지금은 특...\n",
      "✅ 실제 라벨: 정상 통화\n",
      "🔍 예측 라벨: 보이스 피싱\n",
      "📊 확신도: 0.99\n",
      "--------------------------------------------------------------------------------\n",
      "📎 파일명: phishing_대출사기형_86.wav\n",
      "▶ 텍스트: 본인 확인 되셨고요, 고객님. 소독활동은 직장생활하시나요? 아니면 개인사 본용지? 본인명이 사업자 등록 중 있으신가요? 주거래은행은 어디이시죠? 이험 매출은 어떻게 되세요? 신용카드 몇 장 사용 중에 있으신가요? 카드론이나 현금차 비스 받으시는 내역도 있으시지? 사금용이나 대법제 사용 중이신 것도 있으시지? 고객님 살고 계시는 거주지, 시일구 동까지만 확인...\n",
      "✅ 실제 라벨: 보이스 피싱\n",
      "🔍 예측 라벨: 정상 통화\n",
      "📊 확신도: 0.05\n",
      "--------------------------------------------------------------------------------\n",
      "📎 파일명: phishing_대출사기형_46.wav\n",
      "▶ 텍스트: 그래, 한 번 못 들어간다. 아 돌아나이스 그냥 대로 한 단계 한 단계씩 움직여 돈을 준비 된 뒤 또 오라면 그 곳으로 오면 된다 알았지? 먼저 어딘지 알게 되었고...\n",
      "✅ 실제 라벨: 보이스 피싱\n",
      "🔍 예측 라벨: 정상 통화\n",
      "📊 확신도: 0.01\n",
      "--------------------------------------------------------------------------------\n",
      "📎 파일명: phishing_기타_출입국 관리 사무국 직원 사칭(여름 휴가철 보이스피싱_1).wav\n",
      "▶ 텍스트: 안녕하세요. 출입국 관리 사무죽입니다. 본인 앞으로 보내드릴 등기 우편물이 있으니 사인하시고 찾아가시기 바랍니다. 다시 들으시려면 0번을 눌러주시고 상담을 원하시면 9번을 눌러주세요. 앞으로 보내드릴 등기 우편물이 있으니 사인하시고 찾아가시기 바랍니다. 다시 들으시려면 0번을 눌러주시고 상담을 원하시면 9번을 눌러주세요. 네. 네, 신청한 적 없는데? 바로...\n",
      "✅ 실제 라벨: 보이스 피싱\n",
      "🔍 예측 라벨: 정상 통화\n",
      "📊 확신도: 0.03\n",
      "--------------------------------------------------------------------------------\n"
     ]
    }
   ],
   "source": [
    "import pandas as pd\n",
    "\n",
    "# 🔍 예측 결과 로드\n",
    "csv_path = 'D:/2025_work/2025_VoicePhshing_Detection_Model/dataset/KorCCVi_stt_predicted_threshold_80.csv'\n",
    "df = pd.read_csv(csv_path)\n",
    "\n",
    "# 🎯 STT 기반 데이터만 필터링\n",
    "stt_df = df[df['Filename'] != 'KorCCViD']\n",
    "\n",
    "# ❌ 오분류된 샘플 (Label ≠ PredictedLabel)\n",
    "misclassified = stt_df[stt_df['Label'] != stt_df['PredictedLabel']]\n",
    "\n",
    "# 📋 오분류 샘플 출력\n",
    "print(f\"❌ 오분류된 STT 샘플 수: {len(misclassified)}개\\n\")\n",
    "for idx, row in misclassified.iterrows():\n",
    "    print(f\"📎 파일명: {row['Filename']}\")\n",
    "    print(f\"▶ 텍스트: {row['Transcript'][:200]}...\")  # 200자까지만 출력\n",
    "    print(f\"✅ 실제 라벨: {'보이스 피싱' if row['Label'] == 1 else '정상 통화'}\")\n",
    "    print(f\"🔍 예측 라벨: {'보이스 피싱' if row['PredictedLabel'] == 1 else '정상 통화'}\")\n",
    "    print(f\"📊 확신도: {row['Confidence']:.2f}\")\n",
    "    print(\"-\" * 80)"
   ]
  },
  {
   "cell_type": "markdown",
   "id": "ded89dac-5aa9-455c-8ba1-1995122c8150",
   "metadata": {},
   "source": [
    "### ✅ 기준점 0.80이 적용된 \"보이스 피싱 탐지 모델\"로 외부에서 사용"
   ]
  },
  {
   "cell_type": "markdown",
   "id": "da25256b-9524-4554-af49-86e20b5b0c32",
   "metadata": {},
   "source": [
    "🔹 모델 저장 코드"
   ]
  },
  {
   "cell_type": "code",
   "execution_count": 72,
   "id": "65a1c10b-c919-4b62-8d7e-564d6f1f179c",
   "metadata": {},
   "outputs": [
    {
     "name": "stdout",
     "output_type": "stream",
     "text": [
      "✅ 모델 저장 완료: voicephishing_model_threshold_080.pt\n"
     ]
    }
   ],
   "source": [
    "# 학습된 모델을 저장\n",
    "torch.save(model.state_dict(), \"voicephishing_model_threshold_080.pt\")\n",
    "print(\"✅ 모델 저장 완료: voicephishing_model_threshold_080.pt\")"
   ]
  },
  {
   "cell_type": "markdown",
   "id": "d3663699-8c23-4d33-aa6b-f29f15f09430",
   "metadata": {},
   "source": [
    "🔹 !외부에서! 사용하는 예측 코드 (threshold 포함)\n",
    "- 외부에서 text만 주어지면 바로 결과를 반환하는 함수로 만들면 이렇게 됨"
   ]
  },
  {
   "cell_type": "code",
   "execution_count": null,
   "id": "f808c53a-8bee-4e9f-8ef3-88860f83256b",
   "metadata": {},
   "outputs": [],
   "source": [
    "# 🔍 threshold=0.80 기준으로 예측하는 함수\n",
    "def detect_voice_phishing(text, model, tokenizer, threshold=0.8, max_len=128):\n",
    "    model.eval()\n",
    "    encoded = tokenizer(\n",
    "        text,\n",
    "        padding='max_length',\n",
    "        truncation=True,\n",
    "        max_length=max_len,\n",
    "        return_tensors='pt'\n",
    "    )\n",
    "    input_ids = encoded['input_ids'].to(device)\n",
    "    attention_mask = encoded['attention_mask'].to(device)\n",
    "    token_type_ids = encoded['token_type_ids'].to(device)\n",
    "\n",
    "    with torch.no_grad():\n",
    "        output = model(input_ids, attention_mask, token_type_ids)\n",
    "        phishing_score = output[0][1].item()\n",
    "\n",
    "        pred_label = 1 if phishing_score >= threshold else 0\n",
    "\n",
    "    return {\n",
    "        'label': pred_label,\n",
    "        'score': phishing_score,\n",
    "        'status': '보이스 피싱' if pred_label == 1 else '정상 통화'\n",
    "    }\n",
    "\n",
    "# 💬 예시 사용법\n",
    "result = detect_voice_phishing(\"안녕하세요 고객님. 대출 관련 안내드립니다.\", model, kobert_tokenizer)\n",
    "print(f\"예측 결과: {result['status']} ({result['score']*100:.2f}%)\")"
   ]
  },
  {
   "cell_type": "markdown",
   "id": "7ad8a419-70df-4c93-b615-0dc98aad69b7",
   "metadata": {},
   "source": [
    "## ✅ 2. 이렇게 사용합니다 (외부 파일 또는 Jupyter에서)"
   ]
  },
  {
   "cell_type": "code",
   "execution_count": null,
   "id": "99e95213-f4a2-4eb8-9ac9-f5a34061be5e",
   "metadata": {},
   "outputs": [],
   "source": [
    "from voicephishing_predictor import predict_phishing\n",
    "\n",
    "# 텍스트 1개 예시\n",
    "text = \"고객님, 대출 가능하십니다. 빠른 확인을 위해 인증번호를 눌러주세요.\"\n",
    "pred, conf = predict_phishing(text)\n",
    "print(\"🕵️ 예측 라벨:\", \"보이스피싱\" if pred[0] == 1 else \"정상 통화\")\n",
    "print(\"🔍 신뢰도:\", f\"{conf[0]:.2f}\")"
   ]
  }
 ],
 "metadata": {
  "kernelspec": {
   "display_name": "Python 3 (ipykernel)",
   "language": "python",
   "name": "python3"
  },
  "language_info": {
   "codemirror_mode": {
    "name": "ipython",
    "version": 3
   },
   "file_extension": ".py",
   "mimetype": "text/x-python",
   "name": "python",
   "nbconvert_exporter": "python",
   "pygments_lexer": "ipython3",
   "version": "3.12.4"
  }
 },
 "nbformat": 4,
 "nbformat_minor": 5
}
