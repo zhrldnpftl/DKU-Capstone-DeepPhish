{
 "cells": [
  {
   "cell_type": "markdown",
   "id": "f72496f1-bd65-45ac-a278-ee3d5702e854",
   "metadata": {},
   "source": [
    "# 6. 전화번호, 계좌번호 경찰청 검색\n",
    "- https://www.counterscam112.go.kr/phishing/searchPhone.do\n",
    "- 해당 사이트를 크롤링하여 이전 단계에서 추출한 전화번호를 입력하여 검색 결과를 가져옴"
   ]
  },
  {
   "cell_type": "markdown",
   "id": "63939629-c8b7-4e12-ac65-70345465159c",
   "metadata": {},
   "source": [
    "## [1] 환경 설정 및 라이브러리 임포트"
   ]
  },
  {
   "cell_type": "code",
   "execution_count": null,
   "id": "7c275886-fc14-459b-ad17-c4b853582577",
   "metadata": {},
   "outputs": [],
   "source": [
    "# !pip install selenium"
   ]
  },
  {
   "cell_type": "code",
   "execution_count": 3,
   "id": "d6d90cac-dbd6-43ad-a329-d1ac5c341df1",
   "metadata": {},
   "outputs": [],
   "source": [
    "from selenium import webdriver\n",
    "from selenium.webdriver.common.by import By\n",
    "from selenium.webdriver.chrome.service import Service\n",
    "from selenium.webdriver.chrome.options import Options\n",
    "from selenium.webdriver.support.ui import WebDriverWait\n",
    "from selenium.webdriver.support import expected_conditions as EC\n",
    "from selenium.common.exceptions import WebDriverException, NoSuchElementException\n",
    "import time"
   ]
  },
  {
   "cell_type": "markdown",
   "id": "1a304240-43f3-4ceb-8a7c-eee2a54cf3e2",
   "metadata": {},
   "source": [
    "### 검색 타입 지정"
   ]
  },
  {
   "cell_type": "code",
   "execution_count": 11,
   "id": "9cdbb520-d3e6-4d37-919a-fcac40e9d791",
   "metadata": {},
   "outputs": [
    {
     "name": "stdout",
     "output_type": "stream",
     "text": [
      "📌 입력창 HTML:\n",
      "<input type=\"number\" id=\"tel_num\" oninput=\"javascript: if (this.value.length > this.maxLength) this.value = this.value.slice(0, this.maxLength);\" placeholder=\"'-' 없이 숫자만 입력\" title=\"전화번호를 -제외하고 입력(ex: 01012341234)\" onkeyup=\"if(window.event.keyCode==13){}\" name=\"voPh\" maxlength=\"30\">\n",
      "📌 검색 버튼 HTML:\n",
      "<button type=\"button\" class=\"ico_sch_btn\" onclick=\"fn_numb_sch();\">검색</button>\n",
      "\n",
      "📌 전체 신고 건수 element:\n",
      "<span id=\"search-totcnt\">3</span>\n",
      "➡ 텍스트: 3\n",
      "\n",
      "📌 음성 신고 건수 element:\n",
      "<span class=\"type_count\" id=\"search-voice-cnt\">3</span>\n",
      "➡ 텍스트: 3\n",
      "\n",
      "📌 문자 신고 건수 element:\n",
      "<span class=\"type_count\" id=\"search-sms-cnt\">0</span>\n",
      "➡ 텍스트: 0\n",
      "\n",
      "📊 총 신고 건수: 3건\n",
      "🔈 음성 신고 건수: 3건\n",
      "💬 문자 신고 건수: 0건\n"
     ]
    }
   ],
   "source": [
    "# ✅ 검색할 전화번호\n",
    "phone_number = \"01058720546\"  # 검색할 번호\n",
    "\n",
    "# ✅ ChromeDriver 설정\n",
    "options = Options()\n",
    "# options.add_argument(\"--headless\")  # 디버깅 시 주석처리\n",
    "options.add_argument(\"--disable-gpu\")\n",
    "options.add_argument(\"--no-sandbox\")\n",
    "service = Service()  # chromedriver가 환경변수에 등록돼 있으면 이대로 OK\n",
    "\n",
    "# ✅ 드라이버 실행\n",
    "try:\n",
    "    driver = webdriver.Chrome(service=service, options=options)\n",
    "    wait = WebDriverWait(driver, 10)\n",
    "\n",
    "    # ✅ 사이트 접속\n",
    "    driver.get(\"https://www.counterscam112.go.kr/phishing/searchPhone.do\")\n",
    "\n",
    "    # ✅ 입력창 대기 및 값 입력\n",
    "    wait.until(EC.presence_of_element_located((By.ID, \"tel_num\")))\n",
    "    input_box = driver.find_element(By.ID, \"tel_num\")\n",
    "    \n",
    "    print(\"📌 입력창 HTML:\")\n",
    "    print(input_box.get_attribute(\"outerHTML\"))\n",
    "    \n",
    "    input_box.clear()\n",
    "    input_box.send_keys(phone_number)\n",
    "    \n",
    "    # ✅ 검색 버튼 클릭\n",
    "    search_btn = driver.find_element(By.CLASS_NAME, \"ico_sch_btn\")\n",
    "    \n",
    "    print(\"📌 검색 버튼 HTML:\")\n",
    "    print(search_btn.get_attribute(\"outerHTML\"))\n",
    "    \n",
    "    search_btn.click()\n",
    "    \n",
    "    # ✅ 결과 로딩 대기\n",
    "    wait.until(EC.presence_of_element_located((By.ID, \"tel_num_result_data\")))\n",
    "    time.sleep(1)\n",
    "    \n",
    "    # ✅ 결과 추출 (요소 자체 및 텍스트 확인)\n",
    "    total_elem = driver.find_element(By.ID, \"search-totcnt\")\n",
    "    voice_elem = driver.find_element(By.ID, \"search-voice-cnt\")\n",
    "    sms_elem = driver.find_element(By.ID, \"search-sms-cnt\")\n",
    "    \n",
    "    print(\"\\n📌 전체 신고 건수 element:\")\n",
    "    print(total_elem.get_attribute(\"outerHTML\"))\n",
    "    print(\"➡ 텍스트:\", total_elem.text.strip())\n",
    "    \n",
    "    print(\"\\n📌 음성 신고 건수 element:\")\n",
    "    print(voice_elem.get_attribute(\"outerHTML\"))\n",
    "    print(\"➡ 텍스트:\", voice_elem.text.strip())\n",
    "    \n",
    "    print(\"\\n📌 문자 신고 건수 element:\")\n",
    "    print(sms_elem.get_attribute(\"outerHTML\"))\n",
    "    print(\"➡ 텍스트:\", sms_elem.text.strip())\n",
    "    \n",
    "    # ✅ 숫자 변환\n",
    "    total_count = int(total_elem.text.strip()) if total_elem.text.strip().isdigit() else 0\n",
    "    voice_count = int(voice_elem.text.strip()) if voice_elem.text.strip().isdigit() else 0\n",
    "    sms_count = int(sms_elem.text.strip()) if sms_elem.text.strip().isdigit() else 0\n",
    "    \n",
    "    # ✅ 최종 출력\n",
    "    print(f\"\\n📊 총 신고 건수: {total_count}건\")\n",
    "    print(f\"🔈 음성 신고 건수: {voice_count}건\")\n",
    "    print(f\"💬 문자 신고 건수: {sms_count}건\")\n",
    "\n",
    "except WebDriverException as e:\n",
    "    print(\"❌ WebDriver 예외 발생:\", str(e))\n",
    "\n",
    "except NoSuchElementException as e:\n",
    "    print(\"❌ 요소를 찾을 수 없습니다:\", str(e))\n",
    "\n",
    "except Exception as e:\n",
    "    print(\"❌ 예기치 못한 오류 발생:\", str(e))\n",
    "\n",
    "finally:\n",
    "    try:\n",
    "        driver.quit()\n",
    "    except:\n",
    "        pass"
   ]
  },
  {
   "cell_type": "markdown",
   "id": "c97b75c8-3af4-40ca-887a-7f0ebe901357",
   "metadata": {},
   "source": [
    "✅ 사용 예시 (다른 파일이나 Jupyter Notebook에서)"
   ]
  },
  {
   "cell_type": "code",
   "execution_count": null,
   "id": "6809b159-1d8a-46ab-b506-874db9dd1203",
   "metadata": {},
   "outputs": [],
   "source": [
    "from phone_checker import check_phone_number\n",
    "\n",
    "result = check_phone_number(\"01012345678\")\n",
    "if result:\n",
    "    print(f\"📊 총 신고 건수: {result['total']}\")\n",
    "    print(f\"🔈 음성 신고 건수: {result['voice']}\")\n",
    "    print(f\"💬 문자 신고 건수: {result['sms']}\")\n",
    "else:\n",
    "    print(\"⚠️ 조회 실패\")"
   ]
  },
  {
   "cell_type": "code",
   "execution_count": null,
   "id": "f0483b86-0c7a-4510-b7e6-4bc514ec79d8",
   "metadata": {},
   "outputs": [],
   "source": []
  },
  {
   "cell_type": "code",
   "execution_count": null,
   "id": "fbbe69f7-ae8a-4610-8e42-d09ee543b5c7",
   "metadata": {},
   "outputs": [],
   "source": []
  },
  {
   "cell_type": "code",
   "execution_count": null,
   "id": "4ff96e94-a46e-4636-a6df-e3277adf1de9",
   "metadata": {},
   "outputs": [],
   "source": []
  },
  {
   "cell_type": "code",
   "execution_count": null,
   "id": "5dff6b08-6c73-4e6e-b79a-f546c3b1bee1",
   "metadata": {},
   "outputs": [],
   "source": []
  },
  {
   "cell_type": "code",
   "execution_count": null,
   "id": "ee83eda8-1a25-4f6d-bf1c-6f4c5a4d44ea",
   "metadata": {},
   "outputs": [],
   "source": []
  }
 ],
 "metadata": {
  "kernelspec": {
   "display_name": "Python 3 (ipykernel)",
   "language": "python",
   "name": "python3"
  },
  "language_info": {
   "codemirror_mode": {
    "name": "ipython",
    "version": 3
   },
   "file_extension": ".py",
   "mimetype": "text/x-python",
   "name": "python",
   "nbconvert_exporter": "python",
   "pygments_lexer": "ipython3",
   "version": "3.12.4"
  }
 },
 "nbformat": 4,
 "nbformat_minor": 5
}
