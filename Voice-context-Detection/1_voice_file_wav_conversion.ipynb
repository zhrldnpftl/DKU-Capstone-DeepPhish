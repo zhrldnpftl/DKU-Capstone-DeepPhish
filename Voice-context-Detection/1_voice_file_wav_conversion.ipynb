{
  "nbformat": 4,
  "nbformat_minor": 0,
  "metadata": {
    "colab": {
      "provenance": [],
      "gpuType": "T4",
      "mount_file_id": "1w3qW1stD2jlYNedZEUzCbldsqQrVeknD",
      "authorship_tag": "ABX9TyM6Rh60Nyu7gBRRJsJ6oxbm",
      "include_colab_link": true
    },
    "kernelspec": {
      "name": "python3",
      "display_name": "Python 3"
    },
    "language_info": {
      "name": "python"
    },
    "accelerator": "GPU"
  },
  "cells": [
    {
      "cell_type": "markdown",
      "metadata": {
        "id": "view-in-github",
        "colab_type": "text"
      },
      "source": [
        "<a href=\"https://colab.research.google.com/github/zhrldnpftl/DKU-Capstone-DeepPhish/blob/main/Voice-context-Detection/1_voice_file_wav_conversion.ipynb\" target=\"_parent\"><img src=\"https://colab.research.google.com/assets/colab-badge.svg\" alt=\"Open In Colab\"/></a>"
      ]
    },
    {
      "cell_type": "markdown",
      "source": [
        "# 보이스 피싱 탐지 모델 - 1\n",
        "\n",
        "[데이터셋]\n",
        "- 정상 데이터 : 복지 분야 콜센터 상담데이터 (mp3 형태)\n",
        "-      > 경로  : \"/content/drive/MyDrive/2025_VoicePhshing_Detection_Model/dataset/normal_dataset\"\n",
        "- 피싱 데이터 : 금융감독원 데이터 (mp4, mp3 형태)\n",
        "-      > 경로  : \"/content/drive/MyDrive/2025_VoicePhshing_Detection_Model/dataset/phishing_dataset/FSS_voicephishing_data\"\n",
        "-  피싱 데이터 : KorCCVi 데이터 (csv 형태)\n",
        "-      > 경로  : \"/content/drive/MyDrive/2025_VoicePhshing_Detection_Model/dataset/phishing_dataset/KorCCVi_dataset\""
      ],
      "metadata": {
        "id": "_CaKvFePfCD-"
      }
    },
    {
      "cell_type": "markdown",
      "source": [
        "## 데이터 전처리 목표 단계\n",
        "0. 프로젝트 경로 설정 및 라이브러리 설치\n",
        "1. 데이터 디렉토리 로드\n",
        "2. 음성 데이터 wav 변환\n",
        "3. 데이터 전처리 (16kHz 변환, mono 변환, max_length 계산)\n",
        "4. 라벨링"
      ],
      "metadata": {
        "id": "ME65mk40gDJm"
      }
    },
    {
      "cell_type": "markdown",
      "source": [
        "### 0. 프로젝트 경로 설정 및 라이브러리 설치"
      ],
      "metadata": {
        "id": "c_QswkGlgFFY"
      }
    },
    {
      "cell_type": "code",
      "source": [
        "# 프로젝트 경로 설정\n",
        "from pathlib import Path\n",
        "\n",
        "project_path = Path(\"/content/drive/MyDrive/2025_VoicePhshing_Detection_Model\")"
      ],
      "metadata": {
        "id": "89Yh-uQDgGjX"
      },
      "execution_count": null,
      "outputs": []
    },
    {
      "cell_type": "code",
      "source": [
        "# 경로 안에 datasset 폴더 생성\n",
        "import os\n",
        "\n",
        "# 데이터셋 폴더 경로 지정\n",
        "dataset_path = os.path.join(project_path, \"dataset\")\n",
        "\n",
        "# 폴더 생성 (이미 존재해도 에러 발생 X)\n",
        "os.makedirs(dataset_path, exist_ok=True)\n",
        "\n",
        "# 경로 확인 출력\n",
        "print(f\"📁 데이터셋 경로: {dataset_path}\")"
      ],
      "metadata": {
        "colab": {
          "base_uri": "https://localhost:8080/"
        },
        "id": "YEH8FrWygHmZ",
        "outputId": "365aca21-2137-4e41-e7a8-4ebe4743ba7e"
      },
      "execution_count": null,
      "outputs": [
        {
          "output_type": "stream",
          "name": "stdout",
          "text": [
            "📁 데이터셋 경로: /content/drive/MyDrive/2025_VoicePhshing_Detection_Model/dataset\n"
          ]
        }
      ]
    },
    {
      "cell_type": "code",
      "source": [
        "# Huuggingface Transformers와 Datasets 설치 (처음 1회만 설치 필요)\n",
        "# !pip install transformers datasets librosa jiwer"
      ],
      "metadata": {
        "id": "bObIta85gSar"
      },
      "execution_count": null,
      "outputs": []
    },
    {
      "cell_type": "code",
      "source": [
        "# fsspec 버전 문제로 추가 설치 (처음 1회만 필요)\n",
        "# !pip install fsspec==2023.6.0"
      ],
      "metadata": {
        "id": "-8z8qwG4gVfd"
      },
      "execution_count": null,
      "outputs": []
    },
    {
      "cell_type": "code",
      "source": [
        "# 기본 라이브러리 임포트\n",
        "import os\n",
        "import pandas as pd\n",
        "import numpy as np\n",
        "import librosa                  # 오디오 전처리용\n",
        "from datasets import load_dataset, Dataset, Audio\n",
        "# Transformers 관련\n",
        "from transformers import Wav2Vec2FeatureExtractor, Wav2Vec2Processor"
      ],
      "metadata": {
        "id": "XC6deTemgVxk"
      },
      "execution_count": null,
      "outputs": []
    },
    {
      "cell_type": "markdown",
      "source": [
        "## 1. 데이터 디렉토리 로드"
      ],
      "metadata": {
        "id": "9dErgXKvgaWx"
      }
    },
    {
      "cell_type": "code",
      "source": [
        "# 데이터 디렉토리 설정\n",
        "\n",
        "# mp3 디렉토리 (phshing_dataset)\n",
        "phishing_mp3_1_dir = project_path / \"dataset\" / \"phishing_dataset\" / \"FSS_voicephishing_data\" / \"mp3\" / \"대출사기형\"\n",
        "phishing_mp3_2_dir = project_path / \"dataset\" / \"phishing_dataset\" / \"FSS_voicephishing_data\" / \"mp3\" / \"수사기관_사칭형\"\n",
        "phishing_mp3_3_dir = project_path / \"dataset\" / \"phishing_dataset\" / \"FSS_voicephishing_data\" / \"mp3\" / \"기타유형\"\n",
        "# mp4 디렉토리 (phshing_dataset)\n",
        "phishing_mp4_dir = project_path / \"dataset\" / \"phishing_dataset\" / \"FSS_voicephishing_data\" / \"mp4\"\n",
        "# wav 디렉토리 (phshing_dataset)\n",
        "phishing_wav_dir = project_path / \"dataset\" / \"phishing_dataset\" / \"FSS_voicephishing_data\" / \"wav\"\n",
        "\n",
        "# mp3 디렉토리 (normal_dataset)\n",
        "normal_mp3_dir = project_path / \"dataset\" / \"normal_dataset\" / \"mp3\"\n",
        "# wav 디렉토리 (normal_dataset)\n",
        "normal_wav_dir = project_path / \"dataset\" / \"normal_dataset\" / \"wav\""
      ],
      "metadata": {
        "id": "BCntn9SPgc2l"
      },
      "execution_count": null,
      "outputs": []
    },
    {
      "cell_type": "code",
      "source": [
        "# 디렉토리 생성\n",
        "\n",
        "# 모든 디렉토리 리스트\n",
        "all_dirs = [\n",
        "    phishing_mp3_1_dir,\n",
        "    phishing_mp3_2_dir,\n",
        "    phishing_mp3_3_dir,\n",
        "    phishing_mp4_dir,\n",
        "    phishing_wav_dir,\n",
        "    normal_mp3_dir,\n",
        "    normal_wav_dir\n",
        "]\n",
        "\n",
        "# 디렉토리 생성\n",
        "for d in all_dirs:\n",
        "    d.mkdir(parents=True, exist_ok=True)"
      ],
      "metadata": {
        "id": "QnT4S6LV1Lxa"
      },
      "execution_count": null,
      "outputs": []
    },
    {
      "cell_type": "markdown",
      "source": [
        "## 2. 음성 데이터 wav 변환"
      ],
      "metadata": {
        "id": "mhaxGuK9gvEJ"
      }
    },
    {
      "cell_type": "code",
      "source": [
        "# moviepy 설치\n",
        "#!pip uninstall -y moviepy\n",
        "#!pip install moviepy"
      ],
      "metadata": {
        "id": "mIHa0kAHgenY"
      },
      "execution_count": null,
      "outputs": []
    },
    {
      "cell_type": "code",
      "source": [
        "# 라이브러리 임포트\n",
        "from moviepy.video.io.VideoFileClip import VideoFileClip\n",
        "import os\n",
        "import sys\n",
        "import moviepy"
      ],
      "metadata": {
        "id": "d8ppvrtfgwXu"
      },
      "execution_count": null,
      "outputs": []
    },
    {
      "cell_type": "markdown",
      "source": [
        "[1] normal_data"
      ],
      "metadata": {
        "id": "HjdtPUMcgxam"
      }
    },
    {
      "cell_type": "code",
      "source": [
        "# pydub 라이브러리 설치\n",
        "#!pip install pydub"
      ],
      "metadata": {
        "id": "h5WHt8uygymb"
      },
      "execution_count": null,
      "outputs": []
    },
    {
      "cell_type": "code",
      "source": [
        "from pathlib import Path\n",
        "\n",
        "# 프로젝트 경로 설정\n",
        "normal_mp3_dir = Path(\"/content/drive/MyDrive/2025_VoicePhshing_Detection_Model/dataset/normal_dataset/mp3\")\n",
        "normal_wav_dir = Path(\"/content/drive/MyDrive/2025_VoicePhshing_Detection_Model/dataset/normal_dataset/wav\")\n",
        "\n",
        "# 디버깅: MP3 디렉토리 확인\n",
        "print(f\"MP3 디렉토리 경로: {normal_mp3_dir}\")\n",
        "print(f\"MP3 디렉토리 존재 여부: {normal_mp3_dir.exists()}\")\n",
        "\n",
        "print(f\"WAV 디렉토리 경로: {normal_wav_dir}\")\n",
        "print(f\"WAV 디렉토리 존재 여부: {normal_wav_dir.exists()}\")"
      ],
      "metadata": {
        "id": "igKkCyMag-2d",
        "colab": {
          "base_uri": "https://localhost:8080/"
        },
        "outputId": "62a2dd62-f909-46d6-c0c4-b38b536d7c99"
      },
      "execution_count": null,
      "outputs": [
        {
          "output_type": "stream",
          "name": "stdout",
          "text": [
            "MP3 디렉토리 경로: /content/drive/MyDrive/2025_VoicePhshing_Detection_Model/dataset/normal_dataset/mp3\n",
            "MP3 디렉토리 존재 여부: True\n",
            "WAV 디렉토리 경로: /content/drive/MyDrive/2025_VoicePhshing_Detection_Model/dataset/normal_dataset/wav\n",
            "WAV 디렉토리 존재 여부: True\n"
          ]
        }
      ]
    },
    {
      "cell_type": "code",
      "source": [
        "from pydub import AudioSegment\n",
        "from pathlib import Path\n",
        "import csv\n",
        "import os\n",
        "\n",
        "# 프로젝트 경로 설정\n",
        "normal_mp3_dir = Path(\"/content/drive/MyDrive/2025_VoicePhshing_Detection_Model/dataset/normal_dataset/mp3\")\n",
        "normal_wav_dir = Path(\"/content/drive/MyDrive/2025_VoicePhshing_Detection_Model/dataset/normal_dataset/wav\")\n",
        "\n",
        "# 디버깅: MP3 디렉토리 확인\n",
        "print(f\"MP3 디렉토리 경로: {normal_mp3_dir}\")\n",
        "print(f\"MP3 디렉토리 존재 여부: {normal_mp3_dir.exists()}\")\n",
        "\n",
        "print(f\"WAV 디렉토리 경로: {normal_wav_dir}\")\n",
        "print(f\"WAV 디렉토리 존재 여부: {normal_wav_dir.exists()}\")\n",
        "\n",
        "# MP3 파일 목록 확인\n",
        "mp3_files = list(normal_mp3_dir.glob(\"*.mp3\"))\n",
        "print(f\"발견된 MP3 파일 수: {len(mp3_files)}\")\n",
        "if len(mp3_files) > 0:\n",
        "    print(f\"첫 번째 MP3 파일: {mp3_files[0]}\")\n",
        "    print(f\"첫 번째 MP3 파일 존재 여부: {mp3_files[0].exists()}\")\n",
        "\n",
        "# CSV 파일 경로\n",
        "metadata_csv_path = normal_wav_dir / \"metadata.csv\"\n",
        "\n",
        "# 변환 및 메타데이터 저장 (오류 처리 개선)\n",
        "successful_conversions = 0\n",
        "failed_conversions = 0\n",
        "\n",
        "with open(metadata_csv_path, mode=\"w\", newline='', encoding=\"utf-8\") as csvfile:\n",
        "    writer = csv.writer(csvfile)\n",
        "    writer.writerow([\"filename\", \"label\", \"source_path\"])  # 헤더\n",
        "\n",
        "    for mp3_file in mp3_files:\n",
        "        try:\n",
        "            # Path 객체 사용하여 일관된 경로 처리\n",
        "            clean_filename = mp3_file.stem\n",
        "            wav_filename = f\"normal_{clean_filename}.wav\"\n",
        "            wav_path = normal_wav_dir / wav_filename\n",
        "\n",
        "            print(f\"변환 시도 중: {mp3_file} -> {wav_path}\")\n",
        "\n",
        "            # 파일 존재 여부 명시적 확인\n",
        "            if not mp3_file.exists():\n",
        "                print(f\"⚠️ 파일이 존재하지 않음: {mp3_file}\")\n",
        "                failed_conversions += 1\n",
        "                continue\n",
        "\n",
        "            # 파일 크기 확인 (0바이트 파일 감지)\n",
        "            if mp3_file.stat().st_size == 0:\n",
        "                print(f\"⚠️ 빈 파일 (0바이트): {mp3_file}\")\n",
        "                failed_conversions += 1\n",
        "                continue\n",
        "\n",
        "            # 오디오 변환\n",
        "            audio = AudioSegment.from_mp3(mp3_file)\n",
        "            audio.export(wav_path, format=\"wav\")\n",
        "\n",
        "            # CSV에 정보 추가\n",
        "            writer.writerow([wav_filename, \"normal\", str(mp3_file)])\n",
        "            successful_conversions += 1\n",
        "            print(f\"✅ 변환 완료: {wav_filename}\")\n",
        "\n",
        "        except Exception as e:\n",
        "            print(f\"⚠️ 변환 실패 ({mp3_file.name}): {e}\")\n",
        "            # 더 자세한 오류 정보 출력\n",
        "            import traceback\n",
        "            traceback.print_exc()\n",
        "            failed_conversions += 1\n",
        "\n",
        "print(f\"\\n===== 변환 결과 =====\")\n",
        "print(f\"성공: {successful_conversions} 파일\")\n",
        "print(f\"실패: {failed_conversions} 파일\")"
      ],
      "metadata": {
        "id": "Q0nZt6g3g_yc",
        "colab": {
          "base_uri": "https://localhost:8080/"
        },
        "outputId": "02544e72-85d2-4a66-ac8a-d8164c7904cf"
      },
      "execution_count": null,
      "outputs": [
        {
          "output_type": "stream",
          "name": "stdout",
          "text": [
            "MP3 디렉토리 경로: /content/drive/MyDrive/2025_VoicePhshing_Detection_Model/dataset/normal_dataset/mp3\n",
            "MP3 디렉토리 존재 여부: True\n",
            "WAV 디렉토리 경로: /content/drive/MyDrive/2025_VoicePhshing_Detection_Model/dataset/normal_dataset/wav\n",
            "WAV 디렉토리 존재 여부: True\n",
            "발견된 MP3 파일 수: 619\n",
            "첫 번째 MP3 파일: /content/drive/MyDrive/2025_VoicePhshing_Detection_Model/dataset/normal_dataset/mp3/1.mp3\n",
            "첫 번째 MP3 파일 존재 여부: True\n",
            "변환 시도 중: /content/drive/MyDrive/2025_VoicePhshing_Detection_Model/dataset/normal_dataset/mp3/1.mp3 -> /content/drive/MyDrive/2025_VoicePhshing_Detection_Model/dataset/normal_dataset/wav/normal_1.wav\n",
            "✅ 변환 완료: normal_1.wav\n",
            "변환 시도 중: /content/drive/MyDrive/2025_VoicePhshing_Detection_Model/dataset/normal_dataset/mp3/2.mp3 -> /content/drive/MyDrive/2025_VoicePhshing_Detection_Model/dataset/normal_dataset/wav/normal_2.wav\n",
            "✅ 변환 완료: normal_2.wav\n",
            "변환 시도 중: /content/drive/MyDrive/2025_VoicePhshing_Detection_Model/dataset/normal_dataset/mp3/3.mp3 -> /content/drive/MyDrive/2025_VoicePhshing_Detection_Model/dataset/normal_dataset/wav/normal_3.wav\n",
            "✅ 변환 완료: normal_3.wav\n",
            "변환 시도 중: /content/drive/MyDrive/2025_VoicePhshing_Detection_Model/dataset/normal_dataset/mp3/4.mp3 -> /content/drive/MyDrive/2025_VoicePhshing_Detection_Model/dataset/normal_dataset/wav/normal_4.wav\n",
            "✅ 변환 완료: normal_4.wav\n",
            "변환 시도 중: /content/drive/MyDrive/2025_VoicePhshing_Detection_Model/dataset/normal_dataset/mp3/5.mp3 -> /content/drive/MyDrive/2025_VoicePhshing_Detection_Model/dataset/normal_dataset/wav/normal_5.wav\n",
            "✅ 변환 완료: normal_5.wav\n",
            "변환 시도 중: /content/drive/MyDrive/2025_VoicePhshing_Detection_Model/dataset/normal_dataset/mp3/6.mp3 -> /content/drive/MyDrive/2025_VoicePhshing_Detection_Model/dataset/normal_dataset/wav/normal_6.wav\n",
            "✅ 변환 완료: normal_6.wav\n",
            "변환 시도 중: /content/drive/MyDrive/2025_VoicePhshing_Detection_Model/dataset/normal_dataset/mp3/7.mp3 -> /content/drive/MyDrive/2025_VoicePhshing_Detection_Model/dataset/normal_dataset/wav/normal_7.wav\n",
            "✅ 변환 완료: normal_7.wav\n",
            "변환 시도 중: /content/drive/MyDrive/2025_VoicePhshing_Detection_Model/dataset/normal_dataset/mp3/8.mp3 -> /content/drive/MyDrive/2025_VoicePhshing_Detection_Model/dataset/normal_dataset/wav/normal_8.wav\n",
            "✅ 변환 완료: normal_8.wav\n",
            "변환 시도 중: /content/drive/MyDrive/2025_VoicePhshing_Detection_Model/dataset/normal_dataset/mp3/9.mp3 -> /content/drive/MyDrive/2025_VoicePhshing_Detection_Model/dataset/normal_dataset/wav/normal_9.wav\n",
            "✅ 변환 완료: normal_9.wav\n",
            "변환 시도 중: /content/drive/MyDrive/2025_VoicePhshing_Detection_Model/dataset/normal_dataset/mp3/10.mp3 -> /content/drive/MyDrive/2025_VoicePhshing_Detection_Model/dataset/normal_dataset/wav/normal_10.wav\n",
            "✅ 변환 완료: normal_10.wav\n",
            "변환 시도 중: /content/drive/MyDrive/2025_VoicePhshing_Detection_Model/dataset/normal_dataset/mp3/11.mp3 -> /content/drive/MyDrive/2025_VoicePhshing_Detection_Model/dataset/normal_dataset/wav/normal_11.wav\n",
            "✅ 변환 완료: normal_11.wav\n",
            "변환 시도 중: /content/drive/MyDrive/2025_VoicePhshing_Detection_Model/dataset/normal_dataset/mp3/12.mp3 -> /content/drive/MyDrive/2025_VoicePhshing_Detection_Model/dataset/normal_dataset/wav/normal_12.wav\n",
            "✅ 변환 완료: normal_12.wav\n",
            "변환 시도 중: /content/drive/MyDrive/2025_VoicePhshing_Detection_Model/dataset/normal_dataset/mp3/13.mp3 -> /content/drive/MyDrive/2025_VoicePhshing_Detection_Model/dataset/normal_dataset/wav/normal_13.wav\n",
            "✅ 변환 완료: normal_13.wav\n",
            "변환 시도 중: /content/drive/MyDrive/2025_VoicePhshing_Detection_Model/dataset/normal_dataset/mp3/14.mp3 -> /content/drive/MyDrive/2025_VoicePhshing_Detection_Model/dataset/normal_dataset/wav/normal_14.wav\n",
            "✅ 변환 완료: normal_14.wav\n",
            "변환 시도 중: /content/drive/MyDrive/2025_VoicePhshing_Detection_Model/dataset/normal_dataset/mp3/15.mp3 -> /content/drive/MyDrive/2025_VoicePhshing_Detection_Model/dataset/normal_dataset/wav/normal_15.wav\n",
            "✅ 변환 완료: normal_15.wav\n",
            "변환 시도 중: /content/drive/MyDrive/2025_VoicePhshing_Detection_Model/dataset/normal_dataset/mp3/16.mp3 -> /content/drive/MyDrive/2025_VoicePhshing_Detection_Model/dataset/normal_dataset/wav/normal_16.wav\n",
            "✅ 변환 완료: normal_16.wav\n",
            "변환 시도 중: /content/drive/MyDrive/2025_VoicePhshing_Detection_Model/dataset/normal_dataset/mp3/17.mp3 -> /content/drive/MyDrive/2025_VoicePhshing_Detection_Model/dataset/normal_dataset/wav/normal_17.wav\n",
            "✅ 변환 완료: normal_17.wav\n",
            "변환 시도 중: /content/drive/MyDrive/2025_VoicePhshing_Detection_Model/dataset/normal_dataset/mp3/18.mp3 -> /content/drive/MyDrive/2025_VoicePhshing_Detection_Model/dataset/normal_dataset/wav/normal_18.wav\n",
            "✅ 변환 완료: normal_18.wav\n",
            "변환 시도 중: /content/drive/MyDrive/2025_VoicePhshing_Detection_Model/dataset/normal_dataset/mp3/19.mp3 -> /content/drive/MyDrive/2025_VoicePhshing_Detection_Model/dataset/normal_dataset/wav/normal_19.wav\n",
            "✅ 변환 완료: normal_19.wav\n",
            "변환 시도 중: /content/drive/MyDrive/2025_VoicePhshing_Detection_Model/dataset/normal_dataset/mp3/20.mp3 -> /content/drive/MyDrive/2025_VoicePhshing_Detection_Model/dataset/normal_dataset/wav/normal_20.wav\n",
            "✅ 변환 완료: normal_20.wav\n",
            "변환 시도 중: /content/drive/MyDrive/2025_VoicePhshing_Detection_Model/dataset/normal_dataset/mp3/21.mp3 -> /content/drive/MyDrive/2025_VoicePhshing_Detection_Model/dataset/normal_dataset/wav/normal_21.wav\n",
            "✅ 변환 완료: normal_21.wav\n",
            "변환 시도 중: /content/drive/MyDrive/2025_VoicePhshing_Detection_Model/dataset/normal_dataset/mp3/22.mp3 -> /content/drive/MyDrive/2025_VoicePhshing_Detection_Model/dataset/normal_dataset/wav/normal_22.wav\n",
            "✅ 변환 완료: normal_22.wav\n",
            "변환 시도 중: /content/drive/MyDrive/2025_VoicePhshing_Detection_Model/dataset/normal_dataset/mp3/23.mp3 -> /content/drive/MyDrive/2025_VoicePhshing_Detection_Model/dataset/normal_dataset/wav/normal_23.wav\n",
            "✅ 변환 완료: normal_23.wav\n",
            "변환 시도 중: /content/drive/MyDrive/2025_VoicePhshing_Detection_Model/dataset/normal_dataset/mp3/24.mp3 -> /content/drive/MyDrive/2025_VoicePhshing_Detection_Model/dataset/normal_dataset/wav/normal_24.wav\n",
            "✅ 변환 완료: normal_24.wav\n",
            "변환 시도 중: /content/drive/MyDrive/2025_VoicePhshing_Detection_Model/dataset/normal_dataset/mp3/25.mp3 -> /content/drive/MyDrive/2025_VoicePhshing_Detection_Model/dataset/normal_dataset/wav/normal_25.wav\n",
            "✅ 변환 완료: normal_25.wav\n",
            "변환 시도 중: /content/drive/MyDrive/2025_VoicePhshing_Detection_Model/dataset/normal_dataset/mp3/26.mp3 -> /content/drive/MyDrive/2025_VoicePhshing_Detection_Model/dataset/normal_dataset/wav/normal_26.wav\n",
            "✅ 변환 완료: normal_26.wav\n",
            "변환 시도 중: /content/drive/MyDrive/2025_VoicePhshing_Detection_Model/dataset/normal_dataset/mp3/27.mp3 -> /content/drive/MyDrive/2025_VoicePhshing_Detection_Model/dataset/normal_dataset/wav/normal_27.wav\n",
            "✅ 변환 완료: normal_27.wav\n",
            "변환 시도 중: /content/drive/MyDrive/2025_VoicePhshing_Detection_Model/dataset/normal_dataset/mp3/28.mp3 -> /content/drive/MyDrive/2025_VoicePhshing_Detection_Model/dataset/normal_dataset/wav/normal_28.wav\n",
            "✅ 변환 완료: normal_28.wav\n",
            "변환 시도 중: /content/drive/MyDrive/2025_VoicePhshing_Detection_Model/dataset/normal_dataset/mp3/29.mp3 -> /content/drive/MyDrive/2025_VoicePhshing_Detection_Model/dataset/normal_dataset/wav/normal_29.wav\n",
            "✅ 변환 완료: normal_29.wav\n",
            "변환 시도 중: /content/drive/MyDrive/2025_VoicePhshing_Detection_Model/dataset/normal_dataset/mp3/30.mp3 -> /content/drive/MyDrive/2025_VoicePhshing_Detection_Model/dataset/normal_dataset/wav/normal_30.wav\n",
            "✅ 변환 완료: normal_30.wav\n",
            "변환 시도 중: /content/drive/MyDrive/2025_VoicePhshing_Detection_Model/dataset/normal_dataset/mp3/31.mp3 -> /content/drive/MyDrive/2025_VoicePhshing_Detection_Model/dataset/normal_dataset/wav/normal_31.wav\n",
            "✅ 변환 완료: normal_31.wav\n",
            "변환 시도 중: /content/drive/MyDrive/2025_VoicePhshing_Detection_Model/dataset/normal_dataset/mp3/32.mp3 -> /content/drive/MyDrive/2025_VoicePhshing_Detection_Model/dataset/normal_dataset/wav/normal_32.wav\n",
            "✅ 변환 완료: normal_32.wav\n",
            "변환 시도 중: /content/drive/MyDrive/2025_VoicePhshing_Detection_Model/dataset/normal_dataset/mp3/33.mp3 -> /content/drive/MyDrive/2025_VoicePhshing_Detection_Model/dataset/normal_dataset/wav/normal_33.wav\n",
            "✅ 변환 완료: normal_33.wav\n",
            "변환 시도 중: /content/drive/MyDrive/2025_VoicePhshing_Detection_Model/dataset/normal_dataset/mp3/34.mp3 -> /content/drive/MyDrive/2025_VoicePhshing_Detection_Model/dataset/normal_dataset/wav/normal_34.wav\n",
            "✅ 변환 완료: normal_34.wav\n",
            "변환 시도 중: /content/drive/MyDrive/2025_VoicePhshing_Detection_Model/dataset/normal_dataset/mp3/35.mp3 -> /content/drive/MyDrive/2025_VoicePhshing_Detection_Model/dataset/normal_dataset/wav/normal_35.wav\n",
            "✅ 변환 완료: normal_35.wav\n",
            "변환 시도 중: /content/drive/MyDrive/2025_VoicePhshing_Detection_Model/dataset/normal_dataset/mp3/36.mp3 -> /content/drive/MyDrive/2025_VoicePhshing_Detection_Model/dataset/normal_dataset/wav/normal_36.wav\n",
            "✅ 변환 완료: normal_36.wav\n",
            "변환 시도 중: /content/drive/MyDrive/2025_VoicePhshing_Detection_Model/dataset/normal_dataset/mp3/37.mp3 -> /content/drive/MyDrive/2025_VoicePhshing_Detection_Model/dataset/normal_dataset/wav/normal_37.wav\n",
            "✅ 변환 완료: normal_37.wav\n",
            "변환 시도 중: /content/drive/MyDrive/2025_VoicePhshing_Detection_Model/dataset/normal_dataset/mp3/38.mp3 -> /content/drive/MyDrive/2025_VoicePhshing_Detection_Model/dataset/normal_dataset/wav/normal_38.wav\n",
            "✅ 변환 완료: normal_38.wav\n",
            "변환 시도 중: /content/drive/MyDrive/2025_VoicePhshing_Detection_Model/dataset/normal_dataset/mp3/39.mp3 -> /content/drive/MyDrive/2025_VoicePhshing_Detection_Model/dataset/normal_dataset/wav/normal_39.wav\n",
            "✅ 변환 완료: normal_39.wav\n",
            "변환 시도 중: /content/drive/MyDrive/2025_VoicePhshing_Detection_Model/dataset/normal_dataset/mp3/40.mp3 -> /content/drive/MyDrive/2025_VoicePhshing_Detection_Model/dataset/normal_dataset/wav/normal_40.wav\n",
            "✅ 변환 완료: normal_40.wav\n",
            "변환 시도 중: /content/drive/MyDrive/2025_VoicePhshing_Detection_Model/dataset/normal_dataset/mp3/41.mp3 -> /content/drive/MyDrive/2025_VoicePhshing_Detection_Model/dataset/normal_dataset/wav/normal_41.wav\n",
            "✅ 변환 완료: normal_41.wav\n",
            "변환 시도 중: /content/drive/MyDrive/2025_VoicePhshing_Detection_Model/dataset/normal_dataset/mp3/42.mp3 -> /content/drive/MyDrive/2025_VoicePhshing_Detection_Model/dataset/normal_dataset/wav/normal_42.wav\n",
            "✅ 변환 완료: normal_42.wav\n",
            "변환 시도 중: /content/drive/MyDrive/2025_VoicePhshing_Detection_Model/dataset/normal_dataset/mp3/43.mp3 -> /content/drive/MyDrive/2025_VoicePhshing_Detection_Model/dataset/normal_dataset/wav/normal_43.wav\n",
            "✅ 변환 완료: normal_43.wav\n",
            "변환 시도 중: /content/drive/MyDrive/2025_VoicePhshing_Detection_Model/dataset/normal_dataset/mp3/44.mp3 -> /content/drive/MyDrive/2025_VoicePhshing_Detection_Model/dataset/normal_dataset/wav/normal_44.wav\n",
            "✅ 변환 완료: normal_44.wav\n",
            "변환 시도 중: /content/drive/MyDrive/2025_VoicePhshing_Detection_Model/dataset/normal_dataset/mp3/45.mp3 -> /content/drive/MyDrive/2025_VoicePhshing_Detection_Model/dataset/normal_dataset/wav/normal_45.wav\n",
            "✅ 변환 완료: normal_45.wav\n",
            "변환 시도 중: /content/drive/MyDrive/2025_VoicePhshing_Detection_Model/dataset/normal_dataset/mp3/46.mp3 -> /content/drive/MyDrive/2025_VoicePhshing_Detection_Model/dataset/normal_dataset/wav/normal_46.wav\n",
            "✅ 변환 완료: normal_46.wav\n",
            "변환 시도 중: /content/drive/MyDrive/2025_VoicePhshing_Detection_Model/dataset/normal_dataset/mp3/47.mp3 -> /content/drive/MyDrive/2025_VoicePhshing_Detection_Model/dataset/normal_dataset/wav/normal_47.wav\n",
            "✅ 변환 완료: normal_47.wav\n",
            "변환 시도 중: /content/drive/MyDrive/2025_VoicePhshing_Detection_Model/dataset/normal_dataset/mp3/48.mp3 -> /content/drive/MyDrive/2025_VoicePhshing_Detection_Model/dataset/normal_dataset/wav/normal_48.wav\n",
            "✅ 변환 완료: normal_48.wav\n",
            "변환 시도 중: /content/drive/MyDrive/2025_VoicePhshing_Detection_Model/dataset/normal_dataset/mp3/49.mp3 -> /content/drive/MyDrive/2025_VoicePhshing_Detection_Model/dataset/normal_dataset/wav/normal_49.wav\n",
            "✅ 변환 완료: normal_49.wav\n",
            "변환 시도 중: /content/drive/MyDrive/2025_VoicePhshing_Detection_Model/dataset/normal_dataset/mp3/50.mp3 -> /content/drive/MyDrive/2025_VoicePhshing_Detection_Model/dataset/normal_dataset/wav/normal_50.wav\n",
            "✅ 변환 완료: normal_50.wav\n",
            "변환 시도 중: /content/drive/MyDrive/2025_VoicePhshing_Detection_Model/dataset/normal_dataset/mp3/51.mp3 -> /content/drive/MyDrive/2025_VoicePhshing_Detection_Model/dataset/normal_dataset/wav/normal_51.wav\n",
            "✅ 변환 완료: normal_51.wav\n",
            "변환 시도 중: /content/drive/MyDrive/2025_VoicePhshing_Detection_Model/dataset/normal_dataset/mp3/52.mp3 -> /content/drive/MyDrive/2025_VoicePhshing_Detection_Model/dataset/normal_dataset/wav/normal_52.wav\n",
            "✅ 변환 완료: normal_52.wav\n",
            "변환 시도 중: /content/drive/MyDrive/2025_VoicePhshing_Detection_Model/dataset/normal_dataset/mp3/53.mp3 -> /content/drive/MyDrive/2025_VoicePhshing_Detection_Model/dataset/normal_dataset/wav/normal_53.wav\n",
            "✅ 변환 완료: normal_53.wav\n",
            "변환 시도 중: /content/drive/MyDrive/2025_VoicePhshing_Detection_Model/dataset/normal_dataset/mp3/54.mp3 -> /content/drive/MyDrive/2025_VoicePhshing_Detection_Model/dataset/normal_dataset/wav/normal_54.wav\n",
            "✅ 변환 완료: normal_54.wav\n",
            "변환 시도 중: /content/drive/MyDrive/2025_VoicePhshing_Detection_Model/dataset/normal_dataset/mp3/55.mp3 -> /content/drive/MyDrive/2025_VoicePhshing_Detection_Model/dataset/normal_dataset/wav/normal_55.wav\n",
            "✅ 변환 완료: normal_55.wav\n",
            "변환 시도 중: /content/drive/MyDrive/2025_VoicePhshing_Detection_Model/dataset/normal_dataset/mp3/56.mp3 -> /content/drive/MyDrive/2025_VoicePhshing_Detection_Model/dataset/normal_dataset/wav/normal_56.wav\n",
            "✅ 변환 완료: normal_56.wav\n",
            "변환 시도 중: /content/drive/MyDrive/2025_VoicePhshing_Detection_Model/dataset/normal_dataset/mp3/57.mp3 -> /content/drive/MyDrive/2025_VoicePhshing_Detection_Model/dataset/normal_dataset/wav/normal_57.wav\n",
            "✅ 변환 완료: normal_57.wav\n",
            "변환 시도 중: /content/drive/MyDrive/2025_VoicePhshing_Detection_Model/dataset/normal_dataset/mp3/58.mp3 -> /content/drive/MyDrive/2025_VoicePhshing_Detection_Model/dataset/normal_dataset/wav/normal_58.wav\n",
            "✅ 변환 완료: normal_58.wav\n",
            "변환 시도 중: /content/drive/MyDrive/2025_VoicePhshing_Detection_Model/dataset/normal_dataset/mp3/59.mp3 -> /content/drive/MyDrive/2025_VoicePhshing_Detection_Model/dataset/normal_dataset/wav/normal_59.wav\n",
            "✅ 변환 완료: normal_59.wav\n",
            "변환 시도 중: /content/drive/MyDrive/2025_VoicePhshing_Detection_Model/dataset/normal_dataset/mp3/60.mp3 -> /content/drive/MyDrive/2025_VoicePhshing_Detection_Model/dataset/normal_dataset/wav/normal_60.wav\n",
            "✅ 변환 완료: normal_60.wav\n",
            "변환 시도 중: /content/drive/MyDrive/2025_VoicePhshing_Detection_Model/dataset/normal_dataset/mp3/61.mp3 -> /content/drive/MyDrive/2025_VoicePhshing_Detection_Model/dataset/normal_dataset/wav/normal_61.wav\n",
            "✅ 변환 완료: normal_61.wav\n",
            "변환 시도 중: /content/drive/MyDrive/2025_VoicePhshing_Detection_Model/dataset/normal_dataset/mp3/62.mp3 -> /content/drive/MyDrive/2025_VoicePhshing_Detection_Model/dataset/normal_dataset/wav/normal_62.wav\n",
            "✅ 변환 완료: normal_62.wav\n",
            "변환 시도 중: /content/drive/MyDrive/2025_VoicePhshing_Detection_Model/dataset/normal_dataset/mp3/63.mp3 -> /content/drive/MyDrive/2025_VoicePhshing_Detection_Model/dataset/normal_dataset/wav/normal_63.wav\n",
            "✅ 변환 완료: normal_63.wav\n",
            "변환 시도 중: /content/drive/MyDrive/2025_VoicePhshing_Detection_Model/dataset/normal_dataset/mp3/64.mp3 -> /content/drive/MyDrive/2025_VoicePhshing_Detection_Model/dataset/normal_dataset/wav/normal_64.wav\n",
            "✅ 변환 완료: normal_64.wav\n",
            "변환 시도 중: /content/drive/MyDrive/2025_VoicePhshing_Detection_Model/dataset/normal_dataset/mp3/65.mp3 -> /content/drive/MyDrive/2025_VoicePhshing_Detection_Model/dataset/normal_dataset/wav/normal_65.wav\n",
            "✅ 변환 완료: normal_65.wav\n",
            "변환 시도 중: /content/drive/MyDrive/2025_VoicePhshing_Detection_Model/dataset/normal_dataset/mp3/66.mp3 -> /content/drive/MyDrive/2025_VoicePhshing_Detection_Model/dataset/normal_dataset/wav/normal_66.wav\n",
            "✅ 변환 완료: normal_66.wav\n",
            "변환 시도 중: /content/drive/MyDrive/2025_VoicePhshing_Detection_Model/dataset/normal_dataset/mp3/67.mp3 -> /content/drive/MyDrive/2025_VoicePhshing_Detection_Model/dataset/normal_dataset/wav/normal_67.wav\n",
            "✅ 변환 완료: normal_67.wav\n",
            "변환 시도 중: /content/drive/MyDrive/2025_VoicePhshing_Detection_Model/dataset/normal_dataset/mp3/68.mp3 -> /content/drive/MyDrive/2025_VoicePhshing_Detection_Model/dataset/normal_dataset/wav/normal_68.wav\n",
            "✅ 변환 완료: normal_68.wav\n",
            "변환 시도 중: /content/drive/MyDrive/2025_VoicePhshing_Detection_Model/dataset/normal_dataset/mp3/69.mp3 -> /content/drive/MyDrive/2025_VoicePhshing_Detection_Model/dataset/normal_dataset/wav/normal_69.wav\n",
            "✅ 변환 완료: normal_69.wav\n",
            "변환 시도 중: /content/drive/MyDrive/2025_VoicePhshing_Detection_Model/dataset/normal_dataset/mp3/70.mp3 -> /content/drive/MyDrive/2025_VoicePhshing_Detection_Model/dataset/normal_dataset/wav/normal_70.wav\n",
            "✅ 변환 완료: normal_70.wav\n",
            "변환 시도 중: /content/drive/MyDrive/2025_VoicePhshing_Detection_Model/dataset/normal_dataset/mp3/71.mp3 -> /content/drive/MyDrive/2025_VoicePhshing_Detection_Model/dataset/normal_dataset/wav/normal_71.wav\n",
            "✅ 변환 완료: normal_71.wav\n",
            "변환 시도 중: /content/drive/MyDrive/2025_VoicePhshing_Detection_Model/dataset/normal_dataset/mp3/72.mp3 -> /content/drive/MyDrive/2025_VoicePhshing_Detection_Model/dataset/normal_dataset/wav/normal_72.wav\n",
            "✅ 변환 완료: normal_72.wav\n",
            "변환 시도 중: /content/drive/MyDrive/2025_VoicePhshing_Detection_Model/dataset/normal_dataset/mp3/73.mp3 -> /content/drive/MyDrive/2025_VoicePhshing_Detection_Model/dataset/normal_dataset/wav/normal_73.wav\n",
            "✅ 변환 완료: normal_73.wav\n",
            "변환 시도 중: /content/drive/MyDrive/2025_VoicePhshing_Detection_Model/dataset/normal_dataset/mp3/74.mp3 -> /content/drive/MyDrive/2025_VoicePhshing_Detection_Model/dataset/normal_dataset/wav/normal_74.wav\n",
            "✅ 변환 완료: normal_74.wav\n",
            "변환 시도 중: /content/drive/MyDrive/2025_VoicePhshing_Detection_Model/dataset/normal_dataset/mp3/75.mp3 -> /content/drive/MyDrive/2025_VoicePhshing_Detection_Model/dataset/normal_dataset/wav/normal_75.wav\n",
            "✅ 변환 완료: normal_75.wav\n",
            "변환 시도 중: /content/drive/MyDrive/2025_VoicePhshing_Detection_Model/dataset/normal_dataset/mp3/76.mp3 -> /content/drive/MyDrive/2025_VoicePhshing_Detection_Model/dataset/normal_dataset/wav/normal_76.wav\n",
            "✅ 변환 완료: normal_76.wav\n",
            "변환 시도 중: /content/drive/MyDrive/2025_VoicePhshing_Detection_Model/dataset/normal_dataset/mp3/77.mp3 -> /content/drive/MyDrive/2025_VoicePhshing_Detection_Model/dataset/normal_dataset/wav/normal_77.wav\n",
            "✅ 변환 완료: normal_77.wav\n",
            "변환 시도 중: /content/drive/MyDrive/2025_VoicePhshing_Detection_Model/dataset/normal_dataset/mp3/78.mp3 -> /content/drive/MyDrive/2025_VoicePhshing_Detection_Model/dataset/normal_dataset/wav/normal_78.wav\n",
            "✅ 변환 완료: normal_78.wav\n",
            "변환 시도 중: /content/drive/MyDrive/2025_VoicePhshing_Detection_Model/dataset/normal_dataset/mp3/79.mp3 -> /content/drive/MyDrive/2025_VoicePhshing_Detection_Model/dataset/normal_dataset/wav/normal_79.wav\n",
            "✅ 변환 완료: normal_79.wav\n",
            "변환 시도 중: /content/drive/MyDrive/2025_VoicePhshing_Detection_Model/dataset/normal_dataset/mp3/80.mp3 -> /content/drive/MyDrive/2025_VoicePhshing_Detection_Model/dataset/normal_dataset/wav/normal_80.wav\n",
            "✅ 변환 완료: normal_80.wav\n",
            "변환 시도 중: /content/drive/MyDrive/2025_VoicePhshing_Detection_Model/dataset/normal_dataset/mp3/81.mp3 -> /content/drive/MyDrive/2025_VoicePhshing_Detection_Model/dataset/normal_dataset/wav/normal_81.wav\n",
            "✅ 변환 완료: normal_81.wav\n",
            "변환 시도 중: /content/drive/MyDrive/2025_VoicePhshing_Detection_Model/dataset/normal_dataset/mp3/82.mp3 -> /content/drive/MyDrive/2025_VoicePhshing_Detection_Model/dataset/normal_dataset/wav/normal_82.wav\n",
            "✅ 변환 완료: normal_82.wav\n",
            "변환 시도 중: /content/drive/MyDrive/2025_VoicePhshing_Detection_Model/dataset/normal_dataset/mp3/83.mp3 -> /content/drive/MyDrive/2025_VoicePhshing_Detection_Model/dataset/normal_dataset/wav/normal_83.wav\n",
            "✅ 변환 완료: normal_83.wav\n",
            "변환 시도 중: /content/drive/MyDrive/2025_VoicePhshing_Detection_Model/dataset/normal_dataset/mp3/84.mp3 -> /content/drive/MyDrive/2025_VoicePhshing_Detection_Model/dataset/normal_dataset/wav/normal_84.wav\n",
            "✅ 변환 완료: normal_84.wav\n",
            "변환 시도 중: /content/drive/MyDrive/2025_VoicePhshing_Detection_Model/dataset/normal_dataset/mp3/85.mp3 -> /content/drive/MyDrive/2025_VoicePhshing_Detection_Model/dataset/normal_dataset/wav/normal_85.wav\n",
            "✅ 변환 완료: normal_85.wav\n",
            "변환 시도 중: /content/drive/MyDrive/2025_VoicePhshing_Detection_Model/dataset/normal_dataset/mp3/86.mp3 -> /content/drive/MyDrive/2025_VoicePhshing_Detection_Model/dataset/normal_dataset/wav/normal_86.wav\n",
            "✅ 변환 완료: normal_86.wav\n",
            "변환 시도 중: /content/drive/MyDrive/2025_VoicePhshing_Detection_Model/dataset/normal_dataset/mp3/87.mp3 -> /content/drive/MyDrive/2025_VoicePhshing_Detection_Model/dataset/normal_dataset/wav/normal_87.wav\n",
            "✅ 변환 완료: normal_87.wav\n",
            "변환 시도 중: /content/drive/MyDrive/2025_VoicePhshing_Detection_Model/dataset/normal_dataset/mp3/88.mp3 -> /content/drive/MyDrive/2025_VoicePhshing_Detection_Model/dataset/normal_dataset/wav/normal_88.wav\n",
            "✅ 변환 완료: normal_88.wav\n",
            "변환 시도 중: /content/drive/MyDrive/2025_VoicePhshing_Detection_Model/dataset/normal_dataset/mp3/89.mp3 -> /content/drive/MyDrive/2025_VoicePhshing_Detection_Model/dataset/normal_dataset/wav/normal_89.wav\n",
            "✅ 변환 완료: normal_89.wav\n",
            "변환 시도 중: /content/drive/MyDrive/2025_VoicePhshing_Detection_Model/dataset/normal_dataset/mp3/90.mp3 -> /content/drive/MyDrive/2025_VoicePhshing_Detection_Model/dataset/normal_dataset/wav/normal_90.wav\n",
            "✅ 변환 완료: normal_90.wav\n",
            "변환 시도 중: /content/drive/MyDrive/2025_VoicePhshing_Detection_Model/dataset/normal_dataset/mp3/91.mp3 -> /content/drive/MyDrive/2025_VoicePhshing_Detection_Model/dataset/normal_dataset/wav/normal_91.wav\n",
            "✅ 변환 완료: normal_91.wav\n",
            "변환 시도 중: /content/drive/MyDrive/2025_VoicePhshing_Detection_Model/dataset/normal_dataset/mp3/92.mp3 -> /content/drive/MyDrive/2025_VoicePhshing_Detection_Model/dataset/normal_dataset/wav/normal_92.wav\n",
            "✅ 변환 완료: normal_92.wav\n",
            "변환 시도 중: /content/drive/MyDrive/2025_VoicePhshing_Detection_Model/dataset/normal_dataset/mp3/93.mp3 -> /content/drive/MyDrive/2025_VoicePhshing_Detection_Model/dataset/normal_dataset/wav/normal_93.wav\n",
            "✅ 변환 완료: normal_93.wav\n",
            "변환 시도 중: /content/drive/MyDrive/2025_VoicePhshing_Detection_Model/dataset/normal_dataset/mp3/94.mp3 -> /content/drive/MyDrive/2025_VoicePhshing_Detection_Model/dataset/normal_dataset/wav/normal_94.wav\n",
            "✅ 변환 완료: normal_94.wav\n",
            "변환 시도 중: /content/drive/MyDrive/2025_VoicePhshing_Detection_Model/dataset/normal_dataset/mp3/95.mp3 -> /content/drive/MyDrive/2025_VoicePhshing_Detection_Model/dataset/normal_dataset/wav/normal_95.wav\n",
            "✅ 변환 완료: normal_95.wav\n",
            "변환 시도 중: /content/drive/MyDrive/2025_VoicePhshing_Detection_Model/dataset/normal_dataset/mp3/96.mp3 -> /content/drive/MyDrive/2025_VoicePhshing_Detection_Model/dataset/normal_dataset/wav/normal_96.wav\n",
            "✅ 변환 완료: normal_96.wav\n",
            "변환 시도 중: /content/drive/MyDrive/2025_VoicePhshing_Detection_Model/dataset/normal_dataset/mp3/97.mp3 -> /content/drive/MyDrive/2025_VoicePhshing_Detection_Model/dataset/normal_dataset/wav/normal_97.wav\n",
            "✅ 변환 완료: normal_97.wav\n",
            "변환 시도 중: /content/drive/MyDrive/2025_VoicePhshing_Detection_Model/dataset/normal_dataset/mp3/98.mp3 -> /content/drive/MyDrive/2025_VoicePhshing_Detection_Model/dataset/normal_dataset/wav/normal_98.wav\n",
            "✅ 변환 완료: normal_98.wav\n",
            "변환 시도 중: /content/drive/MyDrive/2025_VoicePhshing_Detection_Model/dataset/normal_dataset/mp3/99.mp3 -> /content/drive/MyDrive/2025_VoicePhshing_Detection_Model/dataset/normal_dataset/wav/normal_99.wav\n",
            "✅ 변환 완료: normal_99.wav\n",
            "변환 시도 중: /content/drive/MyDrive/2025_VoicePhshing_Detection_Model/dataset/normal_dataset/mp3/100.mp3 -> /content/drive/MyDrive/2025_VoicePhshing_Detection_Model/dataset/normal_dataset/wav/normal_100.wav\n",
            "✅ 변환 완료: normal_100.wav\n",
            "변환 시도 중: /content/drive/MyDrive/2025_VoicePhshing_Detection_Model/dataset/normal_dataset/mp3/101.mp3 -> /content/drive/MyDrive/2025_VoicePhshing_Detection_Model/dataset/normal_dataset/wav/normal_101.wav\n",
            "✅ 변환 완료: normal_101.wav\n",
            "변환 시도 중: /content/drive/MyDrive/2025_VoicePhshing_Detection_Model/dataset/normal_dataset/mp3/102.mp3 -> /content/drive/MyDrive/2025_VoicePhshing_Detection_Model/dataset/normal_dataset/wav/normal_102.wav\n",
            "✅ 변환 완료: normal_102.wav\n",
            "변환 시도 중: /content/drive/MyDrive/2025_VoicePhshing_Detection_Model/dataset/normal_dataset/mp3/103.mp3 -> /content/drive/MyDrive/2025_VoicePhshing_Detection_Model/dataset/normal_dataset/wav/normal_103.wav\n",
            "✅ 변환 완료: normal_103.wav\n",
            "변환 시도 중: /content/drive/MyDrive/2025_VoicePhshing_Detection_Model/dataset/normal_dataset/mp3/104.mp3 -> /content/drive/MyDrive/2025_VoicePhshing_Detection_Model/dataset/normal_dataset/wav/normal_104.wav\n",
            "✅ 변환 완료: normal_104.wav\n",
            "변환 시도 중: /content/drive/MyDrive/2025_VoicePhshing_Detection_Model/dataset/normal_dataset/mp3/105.mp3 -> /content/drive/MyDrive/2025_VoicePhshing_Detection_Model/dataset/normal_dataset/wav/normal_105.wav\n",
            "✅ 변환 완료: normal_105.wav\n",
            "변환 시도 중: /content/drive/MyDrive/2025_VoicePhshing_Detection_Model/dataset/normal_dataset/mp3/106.mp3 -> /content/drive/MyDrive/2025_VoicePhshing_Detection_Model/dataset/normal_dataset/wav/normal_106.wav\n",
            "✅ 변환 완료: normal_106.wav\n",
            "변환 시도 중: /content/drive/MyDrive/2025_VoicePhshing_Detection_Model/dataset/normal_dataset/mp3/107.mp3 -> /content/drive/MyDrive/2025_VoicePhshing_Detection_Model/dataset/normal_dataset/wav/normal_107.wav\n",
            "✅ 변환 완료: normal_107.wav\n",
            "변환 시도 중: /content/drive/MyDrive/2025_VoicePhshing_Detection_Model/dataset/normal_dataset/mp3/108.mp3 -> /content/drive/MyDrive/2025_VoicePhshing_Detection_Model/dataset/normal_dataset/wav/normal_108.wav\n",
            "✅ 변환 완료: normal_108.wav\n",
            "변환 시도 중: /content/drive/MyDrive/2025_VoicePhshing_Detection_Model/dataset/normal_dataset/mp3/109.mp3 -> /content/drive/MyDrive/2025_VoicePhshing_Detection_Model/dataset/normal_dataset/wav/normal_109.wav\n",
            "✅ 변환 완료: normal_109.wav\n",
            "변환 시도 중: /content/drive/MyDrive/2025_VoicePhshing_Detection_Model/dataset/normal_dataset/mp3/110.mp3 -> /content/drive/MyDrive/2025_VoicePhshing_Detection_Model/dataset/normal_dataset/wav/normal_110.wav\n",
            "✅ 변환 완료: normal_110.wav\n",
            "변환 시도 중: /content/drive/MyDrive/2025_VoicePhshing_Detection_Model/dataset/normal_dataset/mp3/111.mp3 -> /content/drive/MyDrive/2025_VoicePhshing_Detection_Model/dataset/normal_dataset/wav/normal_111.wav\n",
            "✅ 변환 완료: normal_111.wav\n",
            "변환 시도 중: /content/drive/MyDrive/2025_VoicePhshing_Detection_Model/dataset/normal_dataset/mp3/112.mp3 -> /content/drive/MyDrive/2025_VoicePhshing_Detection_Model/dataset/normal_dataset/wav/normal_112.wav\n",
            "✅ 변환 완료: normal_112.wav\n",
            "변환 시도 중: /content/drive/MyDrive/2025_VoicePhshing_Detection_Model/dataset/normal_dataset/mp3/113.mp3 -> /content/drive/MyDrive/2025_VoicePhshing_Detection_Model/dataset/normal_dataset/wav/normal_113.wav\n",
            "✅ 변환 완료: normal_113.wav\n",
            "변환 시도 중: /content/drive/MyDrive/2025_VoicePhshing_Detection_Model/dataset/normal_dataset/mp3/114.mp3 -> /content/drive/MyDrive/2025_VoicePhshing_Detection_Model/dataset/normal_dataset/wav/normal_114.wav\n",
            "✅ 변환 완료: normal_114.wav\n",
            "변환 시도 중: /content/drive/MyDrive/2025_VoicePhshing_Detection_Model/dataset/normal_dataset/mp3/115.mp3 -> /content/drive/MyDrive/2025_VoicePhshing_Detection_Model/dataset/normal_dataset/wav/normal_115.wav\n",
            "✅ 변환 완료: normal_115.wav\n",
            "변환 시도 중: /content/drive/MyDrive/2025_VoicePhshing_Detection_Model/dataset/normal_dataset/mp3/116.mp3 -> /content/drive/MyDrive/2025_VoicePhshing_Detection_Model/dataset/normal_dataset/wav/normal_116.wav\n",
            "✅ 변환 완료: normal_116.wav\n",
            "변환 시도 중: /content/drive/MyDrive/2025_VoicePhshing_Detection_Model/dataset/normal_dataset/mp3/117.mp3 -> /content/drive/MyDrive/2025_VoicePhshing_Detection_Model/dataset/normal_dataset/wav/normal_117.wav\n",
            "✅ 변환 완료: normal_117.wav\n",
            "변환 시도 중: /content/drive/MyDrive/2025_VoicePhshing_Detection_Model/dataset/normal_dataset/mp3/118.mp3 -> /content/drive/MyDrive/2025_VoicePhshing_Detection_Model/dataset/normal_dataset/wav/normal_118.wav\n",
            "✅ 변환 완료: normal_118.wav\n",
            "변환 시도 중: /content/drive/MyDrive/2025_VoicePhshing_Detection_Model/dataset/normal_dataset/mp3/119.mp3 -> /content/drive/MyDrive/2025_VoicePhshing_Detection_Model/dataset/normal_dataset/wav/normal_119.wav\n",
            "✅ 변환 완료: normal_119.wav\n",
            "변환 시도 중: /content/drive/MyDrive/2025_VoicePhshing_Detection_Model/dataset/normal_dataset/mp3/120.mp3 -> /content/drive/MyDrive/2025_VoicePhshing_Detection_Model/dataset/normal_dataset/wav/normal_120.wav\n",
            "✅ 변환 완료: normal_120.wav\n",
            "변환 시도 중: /content/drive/MyDrive/2025_VoicePhshing_Detection_Model/dataset/normal_dataset/mp3/121.mp3 -> /content/drive/MyDrive/2025_VoicePhshing_Detection_Model/dataset/normal_dataset/wav/normal_121.wav\n",
            "✅ 변환 완료: normal_121.wav\n",
            "변환 시도 중: /content/drive/MyDrive/2025_VoicePhshing_Detection_Model/dataset/normal_dataset/mp3/122.mp3 -> /content/drive/MyDrive/2025_VoicePhshing_Detection_Model/dataset/normal_dataset/wav/normal_122.wav\n",
            "✅ 변환 완료: normal_122.wav\n",
            "변환 시도 중: /content/drive/MyDrive/2025_VoicePhshing_Detection_Model/dataset/normal_dataset/mp3/123.mp3 -> /content/drive/MyDrive/2025_VoicePhshing_Detection_Model/dataset/normal_dataset/wav/normal_123.wav\n",
            "✅ 변환 완료: normal_123.wav\n",
            "변환 시도 중: /content/drive/MyDrive/2025_VoicePhshing_Detection_Model/dataset/normal_dataset/mp3/124.mp3 -> /content/drive/MyDrive/2025_VoicePhshing_Detection_Model/dataset/normal_dataset/wav/normal_124.wav\n",
            "✅ 변환 완료: normal_124.wav\n",
            "변환 시도 중: /content/drive/MyDrive/2025_VoicePhshing_Detection_Model/dataset/normal_dataset/mp3/125.mp3 -> /content/drive/MyDrive/2025_VoicePhshing_Detection_Model/dataset/normal_dataset/wav/normal_125.wav\n",
            "✅ 변환 완료: normal_125.wav\n",
            "변환 시도 중: /content/drive/MyDrive/2025_VoicePhshing_Detection_Model/dataset/normal_dataset/mp3/126.mp3 -> /content/drive/MyDrive/2025_VoicePhshing_Detection_Model/dataset/normal_dataset/wav/normal_126.wav\n",
            "✅ 변환 완료: normal_126.wav\n",
            "변환 시도 중: /content/drive/MyDrive/2025_VoicePhshing_Detection_Model/dataset/normal_dataset/mp3/127.mp3 -> /content/drive/MyDrive/2025_VoicePhshing_Detection_Model/dataset/normal_dataset/wav/normal_127.wav\n",
            "✅ 변환 완료: normal_127.wav\n",
            "변환 시도 중: /content/drive/MyDrive/2025_VoicePhshing_Detection_Model/dataset/normal_dataset/mp3/128.mp3 -> /content/drive/MyDrive/2025_VoicePhshing_Detection_Model/dataset/normal_dataset/wav/normal_128.wav\n",
            "✅ 변환 완료: normal_128.wav\n",
            "변환 시도 중: /content/drive/MyDrive/2025_VoicePhshing_Detection_Model/dataset/normal_dataset/mp3/129.mp3 -> /content/drive/MyDrive/2025_VoicePhshing_Detection_Model/dataset/normal_dataset/wav/normal_129.wav\n",
            "✅ 변환 완료: normal_129.wav\n",
            "변환 시도 중: /content/drive/MyDrive/2025_VoicePhshing_Detection_Model/dataset/normal_dataset/mp3/130.mp3 -> /content/drive/MyDrive/2025_VoicePhshing_Detection_Model/dataset/normal_dataset/wav/normal_130.wav\n",
            "✅ 변환 완료: normal_130.wav\n",
            "변환 시도 중: /content/drive/MyDrive/2025_VoicePhshing_Detection_Model/dataset/normal_dataset/mp3/131.mp3 -> /content/drive/MyDrive/2025_VoicePhshing_Detection_Model/dataset/normal_dataset/wav/normal_131.wav\n",
            "✅ 변환 완료: normal_131.wav\n",
            "변환 시도 중: /content/drive/MyDrive/2025_VoicePhshing_Detection_Model/dataset/normal_dataset/mp3/132.mp3 -> /content/drive/MyDrive/2025_VoicePhshing_Detection_Model/dataset/normal_dataset/wav/normal_132.wav\n",
            "✅ 변환 완료: normal_132.wav\n",
            "변환 시도 중: /content/drive/MyDrive/2025_VoicePhshing_Detection_Model/dataset/normal_dataset/mp3/133.mp3 -> /content/drive/MyDrive/2025_VoicePhshing_Detection_Model/dataset/normal_dataset/wav/normal_133.wav\n",
            "✅ 변환 완료: normal_133.wav\n",
            "변환 시도 중: /content/drive/MyDrive/2025_VoicePhshing_Detection_Model/dataset/normal_dataset/mp3/134.mp3 -> /content/drive/MyDrive/2025_VoicePhshing_Detection_Model/dataset/normal_dataset/wav/normal_134.wav\n",
            "✅ 변환 완료: normal_134.wav\n",
            "변환 시도 중: /content/drive/MyDrive/2025_VoicePhshing_Detection_Model/dataset/normal_dataset/mp3/135.mp3 -> /content/drive/MyDrive/2025_VoicePhshing_Detection_Model/dataset/normal_dataset/wav/normal_135.wav\n",
            "✅ 변환 완료: normal_135.wav\n",
            "변환 시도 중: /content/drive/MyDrive/2025_VoicePhshing_Detection_Model/dataset/normal_dataset/mp3/136.mp3 -> /content/drive/MyDrive/2025_VoicePhshing_Detection_Model/dataset/normal_dataset/wav/normal_136.wav\n",
            "✅ 변환 완료: normal_136.wav\n",
            "변환 시도 중: /content/drive/MyDrive/2025_VoicePhshing_Detection_Model/dataset/normal_dataset/mp3/137.mp3 -> /content/drive/MyDrive/2025_VoicePhshing_Detection_Model/dataset/normal_dataset/wav/normal_137.wav\n",
            "✅ 변환 완료: normal_137.wav\n",
            "변환 시도 중: /content/drive/MyDrive/2025_VoicePhshing_Detection_Model/dataset/normal_dataset/mp3/138.mp3 -> /content/drive/MyDrive/2025_VoicePhshing_Detection_Model/dataset/normal_dataset/wav/normal_138.wav\n",
            "✅ 변환 완료: normal_138.wav\n",
            "변환 시도 중: /content/drive/MyDrive/2025_VoicePhshing_Detection_Model/dataset/normal_dataset/mp3/139.mp3 -> /content/drive/MyDrive/2025_VoicePhshing_Detection_Model/dataset/normal_dataset/wav/normal_139.wav\n",
            "✅ 변환 완료: normal_139.wav\n",
            "변환 시도 중: /content/drive/MyDrive/2025_VoicePhshing_Detection_Model/dataset/normal_dataset/mp3/140.mp3 -> /content/drive/MyDrive/2025_VoicePhshing_Detection_Model/dataset/normal_dataset/wav/normal_140.wav\n",
            "✅ 변환 완료: normal_140.wav\n",
            "변환 시도 중: /content/drive/MyDrive/2025_VoicePhshing_Detection_Model/dataset/normal_dataset/mp3/141.mp3 -> /content/drive/MyDrive/2025_VoicePhshing_Detection_Model/dataset/normal_dataset/wav/normal_141.wav\n",
            "✅ 변환 완료: normal_141.wav\n",
            "변환 시도 중: /content/drive/MyDrive/2025_VoicePhshing_Detection_Model/dataset/normal_dataset/mp3/142.mp3 -> /content/drive/MyDrive/2025_VoicePhshing_Detection_Model/dataset/normal_dataset/wav/normal_142.wav\n",
            "✅ 변환 완료: normal_142.wav\n",
            "변환 시도 중: /content/drive/MyDrive/2025_VoicePhshing_Detection_Model/dataset/normal_dataset/mp3/143.mp3 -> /content/drive/MyDrive/2025_VoicePhshing_Detection_Model/dataset/normal_dataset/wav/normal_143.wav\n",
            "✅ 변환 완료: normal_143.wav\n",
            "변환 시도 중: /content/drive/MyDrive/2025_VoicePhshing_Detection_Model/dataset/normal_dataset/mp3/144.mp3 -> /content/drive/MyDrive/2025_VoicePhshing_Detection_Model/dataset/normal_dataset/wav/normal_144.wav\n",
            "✅ 변환 완료: normal_144.wav\n",
            "변환 시도 중: /content/drive/MyDrive/2025_VoicePhshing_Detection_Model/dataset/normal_dataset/mp3/145.mp3 -> /content/drive/MyDrive/2025_VoicePhshing_Detection_Model/dataset/normal_dataset/wav/normal_145.wav\n",
            "✅ 변환 완료: normal_145.wav\n",
            "변환 시도 중: /content/drive/MyDrive/2025_VoicePhshing_Detection_Model/dataset/normal_dataset/mp3/146.mp3 -> /content/drive/MyDrive/2025_VoicePhshing_Detection_Model/dataset/normal_dataset/wav/normal_146.wav\n",
            "✅ 변환 완료: normal_146.wav\n",
            "변환 시도 중: /content/drive/MyDrive/2025_VoicePhshing_Detection_Model/dataset/normal_dataset/mp3/147.mp3 -> /content/drive/MyDrive/2025_VoicePhshing_Detection_Model/dataset/normal_dataset/wav/normal_147.wav\n",
            "✅ 변환 완료: normal_147.wav\n",
            "변환 시도 중: /content/drive/MyDrive/2025_VoicePhshing_Detection_Model/dataset/normal_dataset/mp3/148.mp3 -> /content/drive/MyDrive/2025_VoicePhshing_Detection_Model/dataset/normal_dataset/wav/normal_148.wav\n",
            "✅ 변환 완료: normal_148.wav\n",
            "변환 시도 중: /content/drive/MyDrive/2025_VoicePhshing_Detection_Model/dataset/normal_dataset/mp3/149.mp3 -> /content/drive/MyDrive/2025_VoicePhshing_Detection_Model/dataset/normal_dataset/wav/normal_149.wav\n",
            "✅ 변환 완료: normal_149.wav\n",
            "변환 시도 중: /content/drive/MyDrive/2025_VoicePhshing_Detection_Model/dataset/normal_dataset/mp3/150.mp3 -> /content/drive/MyDrive/2025_VoicePhshing_Detection_Model/dataset/normal_dataset/wav/normal_150.wav\n",
            "✅ 변환 완료: normal_150.wav\n",
            "변환 시도 중: /content/drive/MyDrive/2025_VoicePhshing_Detection_Model/dataset/normal_dataset/mp3/151.mp3 -> /content/drive/MyDrive/2025_VoicePhshing_Detection_Model/dataset/normal_dataset/wav/normal_151.wav\n",
            "✅ 변환 완료: normal_151.wav\n",
            "변환 시도 중: /content/drive/MyDrive/2025_VoicePhshing_Detection_Model/dataset/normal_dataset/mp3/152.mp3 -> /content/drive/MyDrive/2025_VoicePhshing_Detection_Model/dataset/normal_dataset/wav/normal_152.wav\n",
            "✅ 변환 완료: normal_152.wav\n",
            "변환 시도 중: /content/drive/MyDrive/2025_VoicePhshing_Detection_Model/dataset/normal_dataset/mp3/153.mp3 -> /content/drive/MyDrive/2025_VoicePhshing_Detection_Model/dataset/normal_dataset/wav/normal_153.wav\n",
            "✅ 변환 완료: normal_153.wav\n",
            "변환 시도 중: /content/drive/MyDrive/2025_VoicePhshing_Detection_Model/dataset/normal_dataset/mp3/154.mp3 -> /content/drive/MyDrive/2025_VoicePhshing_Detection_Model/dataset/normal_dataset/wav/normal_154.wav\n",
            "✅ 변환 완료: normal_154.wav\n",
            "변환 시도 중: /content/drive/MyDrive/2025_VoicePhshing_Detection_Model/dataset/normal_dataset/mp3/155.mp3 -> /content/drive/MyDrive/2025_VoicePhshing_Detection_Model/dataset/normal_dataset/wav/normal_155.wav\n",
            "✅ 변환 완료: normal_155.wav\n",
            "변환 시도 중: /content/drive/MyDrive/2025_VoicePhshing_Detection_Model/dataset/normal_dataset/mp3/156.mp3 -> /content/drive/MyDrive/2025_VoicePhshing_Detection_Model/dataset/normal_dataset/wav/normal_156.wav\n",
            "✅ 변환 완료: normal_156.wav\n",
            "변환 시도 중: /content/drive/MyDrive/2025_VoicePhshing_Detection_Model/dataset/normal_dataset/mp3/157.mp3 -> /content/drive/MyDrive/2025_VoicePhshing_Detection_Model/dataset/normal_dataset/wav/normal_157.wav\n",
            "✅ 변환 완료: normal_157.wav\n",
            "변환 시도 중: /content/drive/MyDrive/2025_VoicePhshing_Detection_Model/dataset/normal_dataset/mp3/158.mp3 -> /content/drive/MyDrive/2025_VoicePhshing_Detection_Model/dataset/normal_dataset/wav/normal_158.wav\n",
            "✅ 변환 완료: normal_158.wav\n",
            "변환 시도 중: /content/drive/MyDrive/2025_VoicePhshing_Detection_Model/dataset/normal_dataset/mp3/159.mp3 -> /content/drive/MyDrive/2025_VoicePhshing_Detection_Model/dataset/normal_dataset/wav/normal_159.wav\n",
            "✅ 변환 완료: normal_159.wav\n",
            "변환 시도 중: /content/drive/MyDrive/2025_VoicePhshing_Detection_Model/dataset/normal_dataset/mp3/160.mp3 -> /content/drive/MyDrive/2025_VoicePhshing_Detection_Model/dataset/normal_dataset/wav/normal_160.wav\n",
            "✅ 변환 완료: normal_160.wav\n",
            "변환 시도 중: /content/drive/MyDrive/2025_VoicePhshing_Detection_Model/dataset/normal_dataset/mp3/161.mp3 -> /content/drive/MyDrive/2025_VoicePhshing_Detection_Model/dataset/normal_dataset/wav/normal_161.wav\n",
            "✅ 변환 완료: normal_161.wav\n",
            "변환 시도 중: /content/drive/MyDrive/2025_VoicePhshing_Detection_Model/dataset/normal_dataset/mp3/162.mp3 -> /content/drive/MyDrive/2025_VoicePhshing_Detection_Model/dataset/normal_dataset/wav/normal_162.wav\n",
            "✅ 변환 완료: normal_162.wav\n",
            "변환 시도 중: /content/drive/MyDrive/2025_VoicePhshing_Detection_Model/dataset/normal_dataset/mp3/163.mp3 -> /content/drive/MyDrive/2025_VoicePhshing_Detection_Model/dataset/normal_dataset/wav/normal_163.wav\n",
            "✅ 변환 완료: normal_163.wav\n",
            "변환 시도 중: /content/drive/MyDrive/2025_VoicePhshing_Detection_Model/dataset/normal_dataset/mp3/164.mp3 -> /content/drive/MyDrive/2025_VoicePhshing_Detection_Model/dataset/normal_dataset/wav/normal_164.wav\n",
            "✅ 변환 완료: normal_164.wav\n",
            "변환 시도 중: /content/drive/MyDrive/2025_VoicePhshing_Detection_Model/dataset/normal_dataset/mp3/165.mp3 -> /content/drive/MyDrive/2025_VoicePhshing_Detection_Model/dataset/normal_dataset/wav/normal_165.wav\n",
            "✅ 변환 완료: normal_165.wav\n",
            "변환 시도 중: /content/drive/MyDrive/2025_VoicePhshing_Detection_Model/dataset/normal_dataset/mp3/166.mp3 -> /content/drive/MyDrive/2025_VoicePhshing_Detection_Model/dataset/normal_dataset/wav/normal_166.wav\n",
            "✅ 변환 완료: normal_166.wav\n",
            "변환 시도 중: /content/drive/MyDrive/2025_VoicePhshing_Detection_Model/dataset/normal_dataset/mp3/167.mp3 -> /content/drive/MyDrive/2025_VoicePhshing_Detection_Model/dataset/normal_dataset/wav/normal_167.wav\n",
            "✅ 변환 완료: normal_167.wav\n",
            "변환 시도 중: /content/drive/MyDrive/2025_VoicePhshing_Detection_Model/dataset/normal_dataset/mp3/168.mp3 -> /content/drive/MyDrive/2025_VoicePhshing_Detection_Model/dataset/normal_dataset/wav/normal_168.wav\n",
            "✅ 변환 완료: normal_168.wav\n",
            "변환 시도 중: /content/drive/MyDrive/2025_VoicePhshing_Detection_Model/dataset/normal_dataset/mp3/169.mp3 -> /content/drive/MyDrive/2025_VoicePhshing_Detection_Model/dataset/normal_dataset/wav/normal_169.wav\n",
            "✅ 변환 완료: normal_169.wav\n",
            "변환 시도 중: /content/drive/MyDrive/2025_VoicePhshing_Detection_Model/dataset/normal_dataset/mp3/170.mp3 -> /content/drive/MyDrive/2025_VoicePhshing_Detection_Model/dataset/normal_dataset/wav/normal_170.wav\n",
            "✅ 변환 완료: normal_170.wav\n",
            "변환 시도 중: /content/drive/MyDrive/2025_VoicePhshing_Detection_Model/dataset/normal_dataset/mp3/171.mp3 -> /content/drive/MyDrive/2025_VoicePhshing_Detection_Model/dataset/normal_dataset/wav/normal_171.wav\n",
            "✅ 변환 완료: normal_171.wav\n",
            "변환 시도 중: /content/drive/MyDrive/2025_VoicePhshing_Detection_Model/dataset/normal_dataset/mp3/172.mp3 -> /content/drive/MyDrive/2025_VoicePhshing_Detection_Model/dataset/normal_dataset/wav/normal_172.wav\n",
            "✅ 변환 완료: normal_172.wav\n",
            "변환 시도 중: /content/drive/MyDrive/2025_VoicePhshing_Detection_Model/dataset/normal_dataset/mp3/173.mp3 -> /content/drive/MyDrive/2025_VoicePhshing_Detection_Model/dataset/normal_dataset/wav/normal_173.wav\n",
            "✅ 변환 완료: normal_173.wav\n",
            "변환 시도 중: /content/drive/MyDrive/2025_VoicePhshing_Detection_Model/dataset/normal_dataset/mp3/174.mp3 -> /content/drive/MyDrive/2025_VoicePhshing_Detection_Model/dataset/normal_dataset/wav/normal_174.wav\n",
            "✅ 변환 완료: normal_174.wav\n",
            "변환 시도 중: /content/drive/MyDrive/2025_VoicePhshing_Detection_Model/dataset/normal_dataset/mp3/175.mp3 -> /content/drive/MyDrive/2025_VoicePhshing_Detection_Model/dataset/normal_dataset/wav/normal_175.wav\n",
            "✅ 변환 완료: normal_175.wav\n",
            "변환 시도 중: /content/drive/MyDrive/2025_VoicePhshing_Detection_Model/dataset/normal_dataset/mp3/176.mp3 -> /content/drive/MyDrive/2025_VoicePhshing_Detection_Model/dataset/normal_dataset/wav/normal_176.wav\n",
            "✅ 변환 완료: normal_176.wav\n",
            "변환 시도 중: /content/drive/MyDrive/2025_VoicePhshing_Detection_Model/dataset/normal_dataset/mp3/177.mp3 -> /content/drive/MyDrive/2025_VoicePhshing_Detection_Model/dataset/normal_dataset/wav/normal_177.wav\n",
            "✅ 변환 완료: normal_177.wav\n",
            "변환 시도 중: /content/drive/MyDrive/2025_VoicePhshing_Detection_Model/dataset/normal_dataset/mp3/178.mp3 -> /content/drive/MyDrive/2025_VoicePhshing_Detection_Model/dataset/normal_dataset/wav/normal_178.wav\n",
            "✅ 변환 완료: normal_178.wav\n",
            "변환 시도 중: /content/drive/MyDrive/2025_VoicePhshing_Detection_Model/dataset/normal_dataset/mp3/179.mp3 -> /content/drive/MyDrive/2025_VoicePhshing_Detection_Model/dataset/normal_dataset/wav/normal_179.wav\n",
            "✅ 변환 완료: normal_179.wav\n",
            "변환 시도 중: /content/drive/MyDrive/2025_VoicePhshing_Detection_Model/dataset/normal_dataset/mp3/180.mp3 -> /content/drive/MyDrive/2025_VoicePhshing_Detection_Model/dataset/normal_dataset/wav/normal_180.wav\n",
            "✅ 변환 완료: normal_180.wav\n",
            "변환 시도 중: /content/drive/MyDrive/2025_VoicePhshing_Detection_Model/dataset/normal_dataset/mp3/181.mp3 -> /content/drive/MyDrive/2025_VoicePhshing_Detection_Model/dataset/normal_dataset/wav/normal_181.wav\n",
            "✅ 변환 완료: normal_181.wav\n",
            "변환 시도 중: /content/drive/MyDrive/2025_VoicePhshing_Detection_Model/dataset/normal_dataset/mp3/182.mp3 -> /content/drive/MyDrive/2025_VoicePhshing_Detection_Model/dataset/normal_dataset/wav/normal_182.wav\n",
            "✅ 변환 완료: normal_182.wav\n",
            "변환 시도 중: /content/drive/MyDrive/2025_VoicePhshing_Detection_Model/dataset/normal_dataset/mp3/183.mp3 -> /content/drive/MyDrive/2025_VoicePhshing_Detection_Model/dataset/normal_dataset/wav/normal_183.wav\n",
            "✅ 변환 완료: normal_183.wav\n",
            "변환 시도 중: /content/drive/MyDrive/2025_VoicePhshing_Detection_Model/dataset/normal_dataset/mp3/184.mp3 -> /content/drive/MyDrive/2025_VoicePhshing_Detection_Model/dataset/normal_dataset/wav/normal_184.wav\n",
            "✅ 변환 완료: normal_184.wav\n",
            "변환 시도 중: /content/drive/MyDrive/2025_VoicePhshing_Detection_Model/dataset/normal_dataset/mp3/185.mp3 -> /content/drive/MyDrive/2025_VoicePhshing_Detection_Model/dataset/normal_dataset/wav/normal_185.wav\n",
            "✅ 변환 완료: normal_185.wav\n",
            "변환 시도 중: /content/drive/MyDrive/2025_VoicePhshing_Detection_Model/dataset/normal_dataset/mp3/186.mp3 -> /content/drive/MyDrive/2025_VoicePhshing_Detection_Model/dataset/normal_dataset/wav/normal_186.wav\n",
            "✅ 변환 완료: normal_186.wav\n",
            "변환 시도 중: /content/drive/MyDrive/2025_VoicePhshing_Detection_Model/dataset/normal_dataset/mp3/187.mp3 -> /content/drive/MyDrive/2025_VoicePhshing_Detection_Model/dataset/normal_dataset/wav/normal_187.wav\n",
            "✅ 변환 완료: normal_187.wav\n",
            "변환 시도 중: /content/drive/MyDrive/2025_VoicePhshing_Detection_Model/dataset/normal_dataset/mp3/188.mp3 -> /content/drive/MyDrive/2025_VoicePhshing_Detection_Model/dataset/normal_dataset/wav/normal_188.wav\n",
            "✅ 변환 완료: normal_188.wav\n",
            "변환 시도 중: /content/drive/MyDrive/2025_VoicePhshing_Detection_Model/dataset/normal_dataset/mp3/189.mp3 -> /content/drive/MyDrive/2025_VoicePhshing_Detection_Model/dataset/normal_dataset/wav/normal_189.wav\n",
            "✅ 변환 완료: normal_189.wav\n",
            "변환 시도 중: /content/drive/MyDrive/2025_VoicePhshing_Detection_Model/dataset/normal_dataset/mp3/190.mp3 -> /content/drive/MyDrive/2025_VoicePhshing_Detection_Model/dataset/normal_dataset/wav/normal_190.wav\n",
            "✅ 변환 완료: normal_190.wav\n",
            "변환 시도 중: /content/drive/MyDrive/2025_VoicePhshing_Detection_Model/dataset/normal_dataset/mp3/191.mp3 -> /content/drive/MyDrive/2025_VoicePhshing_Detection_Model/dataset/normal_dataset/wav/normal_191.wav\n",
            "✅ 변환 완료: normal_191.wav\n",
            "변환 시도 중: /content/drive/MyDrive/2025_VoicePhshing_Detection_Model/dataset/normal_dataset/mp3/192.mp3 -> /content/drive/MyDrive/2025_VoicePhshing_Detection_Model/dataset/normal_dataset/wav/normal_192.wav\n",
            "✅ 변환 완료: normal_192.wav\n",
            "변환 시도 중: /content/drive/MyDrive/2025_VoicePhshing_Detection_Model/dataset/normal_dataset/mp3/193.mp3 -> /content/drive/MyDrive/2025_VoicePhshing_Detection_Model/dataset/normal_dataset/wav/normal_193.wav\n",
            "✅ 변환 완료: normal_193.wav\n",
            "변환 시도 중: /content/drive/MyDrive/2025_VoicePhshing_Detection_Model/dataset/normal_dataset/mp3/194.mp3 -> /content/drive/MyDrive/2025_VoicePhshing_Detection_Model/dataset/normal_dataset/wav/normal_194.wav\n",
            "✅ 변환 완료: normal_194.wav\n",
            "변환 시도 중: /content/drive/MyDrive/2025_VoicePhshing_Detection_Model/dataset/normal_dataset/mp3/195.mp3 -> /content/drive/MyDrive/2025_VoicePhshing_Detection_Model/dataset/normal_dataset/wav/normal_195.wav\n",
            "✅ 변환 완료: normal_195.wav\n",
            "변환 시도 중: /content/drive/MyDrive/2025_VoicePhshing_Detection_Model/dataset/normal_dataset/mp3/196.mp3 -> /content/drive/MyDrive/2025_VoicePhshing_Detection_Model/dataset/normal_dataset/wav/normal_196.wav\n",
            "✅ 변환 완료: normal_196.wav\n",
            "변환 시도 중: /content/drive/MyDrive/2025_VoicePhshing_Detection_Model/dataset/normal_dataset/mp3/197.mp3 -> /content/drive/MyDrive/2025_VoicePhshing_Detection_Model/dataset/normal_dataset/wav/normal_197.wav\n",
            "✅ 변환 완료: normal_197.wav\n",
            "변환 시도 중: /content/drive/MyDrive/2025_VoicePhshing_Detection_Model/dataset/normal_dataset/mp3/198.mp3 -> /content/drive/MyDrive/2025_VoicePhshing_Detection_Model/dataset/normal_dataset/wav/normal_198.wav\n",
            "✅ 변환 완료: normal_198.wav\n",
            "변환 시도 중: /content/drive/MyDrive/2025_VoicePhshing_Detection_Model/dataset/normal_dataset/mp3/199.mp3 -> /content/drive/MyDrive/2025_VoicePhshing_Detection_Model/dataset/normal_dataset/wav/normal_199.wav\n",
            "✅ 변환 완료: normal_199.wav\n",
            "변환 시도 중: /content/drive/MyDrive/2025_VoicePhshing_Detection_Model/dataset/normal_dataset/mp3/200.mp3 -> /content/drive/MyDrive/2025_VoicePhshing_Detection_Model/dataset/normal_dataset/wav/normal_200.wav\n",
            "✅ 변환 완료: normal_200.wav\n",
            "변환 시도 중: /content/drive/MyDrive/2025_VoicePhshing_Detection_Model/dataset/normal_dataset/mp3/201.mp3 -> /content/drive/MyDrive/2025_VoicePhshing_Detection_Model/dataset/normal_dataset/wav/normal_201.wav\n",
            "✅ 변환 완료: normal_201.wav\n",
            "변환 시도 중: /content/drive/MyDrive/2025_VoicePhshing_Detection_Model/dataset/normal_dataset/mp3/202.mp3 -> /content/drive/MyDrive/2025_VoicePhshing_Detection_Model/dataset/normal_dataset/wav/normal_202.wav\n",
            "✅ 변환 완료: normal_202.wav\n",
            "변환 시도 중: /content/drive/MyDrive/2025_VoicePhshing_Detection_Model/dataset/normal_dataset/mp3/203.mp3 -> /content/drive/MyDrive/2025_VoicePhshing_Detection_Model/dataset/normal_dataset/wav/normal_203.wav\n",
            "✅ 변환 완료: normal_203.wav\n",
            "변환 시도 중: /content/drive/MyDrive/2025_VoicePhshing_Detection_Model/dataset/normal_dataset/mp3/204.mp3 -> /content/drive/MyDrive/2025_VoicePhshing_Detection_Model/dataset/normal_dataset/wav/normal_204.wav\n",
            "✅ 변환 완료: normal_204.wav\n",
            "변환 시도 중: /content/drive/MyDrive/2025_VoicePhshing_Detection_Model/dataset/normal_dataset/mp3/205.mp3 -> /content/drive/MyDrive/2025_VoicePhshing_Detection_Model/dataset/normal_dataset/wav/normal_205.wav\n",
            "✅ 변환 완료: normal_205.wav\n",
            "변환 시도 중: /content/drive/MyDrive/2025_VoicePhshing_Detection_Model/dataset/normal_dataset/mp3/206.mp3 -> /content/drive/MyDrive/2025_VoicePhshing_Detection_Model/dataset/normal_dataset/wav/normal_206.wav\n",
            "✅ 변환 완료: normal_206.wav\n",
            "변환 시도 중: /content/drive/MyDrive/2025_VoicePhshing_Detection_Model/dataset/normal_dataset/mp3/207.mp3 -> /content/drive/MyDrive/2025_VoicePhshing_Detection_Model/dataset/normal_dataset/wav/normal_207.wav\n",
            "✅ 변환 완료: normal_207.wav\n",
            "변환 시도 중: /content/drive/MyDrive/2025_VoicePhshing_Detection_Model/dataset/normal_dataset/mp3/208.mp3 -> /content/drive/MyDrive/2025_VoicePhshing_Detection_Model/dataset/normal_dataset/wav/normal_208.wav\n",
            "✅ 변환 완료: normal_208.wav\n",
            "변환 시도 중: /content/drive/MyDrive/2025_VoicePhshing_Detection_Model/dataset/normal_dataset/mp3/209.mp3 -> /content/drive/MyDrive/2025_VoicePhshing_Detection_Model/dataset/normal_dataset/wav/normal_209.wav\n",
            "✅ 변환 완료: normal_209.wav\n",
            "변환 시도 중: /content/drive/MyDrive/2025_VoicePhshing_Detection_Model/dataset/normal_dataset/mp3/210.mp3 -> /content/drive/MyDrive/2025_VoicePhshing_Detection_Model/dataset/normal_dataset/wav/normal_210.wav\n",
            "✅ 변환 완료: normal_210.wav\n",
            "변환 시도 중: /content/drive/MyDrive/2025_VoicePhshing_Detection_Model/dataset/normal_dataset/mp3/211.mp3 -> /content/drive/MyDrive/2025_VoicePhshing_Detection_Model/dataset/normal_dataset/wav/normal_211.wav\n",
            "✅ 변환 완료: normal_211.wav\n",
            "변환 시도 중: /content/drive/MyDrive/2025_VoicePhshing_Detection_Model/dataset/normal_dataset/mp3/212.mp3 -> /content/drive/MyDrive/2025_VoicePhshing_Detection_Model/dataset/normal_dataset/wav/normal_212.wav\n",
            "✅ 변환 완료: normal_212.wav\n",
            "변환 시도 중: /content/drive/MyDrive/2025_VoicePhshing_Detection_Model/dataset/normal_dataset/mp3/213.mp3 -> /content/drive/MyDrive/2025_VoicePhshing_Detection_Model/dataset/normal_dataset/wav/normal_213.wav\n",
            "✅ 변환 완료: normal_213.wav\n",
            "변환 시도 중: /content/drive/MyDrive/2025_VoicePhshing_Detection_Model/dataset/normal_dataset/mp3/214.mp3 -> /content/drive/MyDrive/2025_VoicePhshing_Detection_Model/dataset/normal_dataset/wav/normal_214.wav\n",
            "✅ 변환 완료: normal_214.wav\n",
            "변환 시도 중: /content/drive/MyDrive/2025_VoicePhshing_Detection_Model/dataset/normal_dataset/mp3/215.mp3 -> /content/drive/MyDrive/2025_VoicePhshing_Detection_Model/dataset/normal_dataset/wav/normal_215.wav\n",
            "✅ 변환 완료: normal_215.wav\n",
            "변환 시도 중: /content/drive/MyDrive/2025_VoicePhshing_Detection_Model/dataset/normal_dataset/mp3/216.mp3 -> /content/drive/MyDrive/2025_VoicePhshing_Detection_Model/dataset/normal_dataset/wav/normal_216.wav\n",
            "✅ 변환 완료: normal_216.wav\n",
            "변환 시도 중: /content/drive/MyDrive/2025_VoicePhshing_Detection_Model/dataset/normal_dataset/mp3/217.mp3 -> /content/drive/MyDrive/2025_VoicePhshing_Detection_Model/dataset/normal_dataset/wav/normal_217.wav\n",
            "✅ 변환 완료: normal_217.wav\n",
            "변환 시도 중: /content/drive/MyDrive/2025_VoicePhshing_Detection_Model/dataset/normal_dataset/mp3/218.mp3 -> /content/drive/MyDrive/2025_VoicePhshing_Detection_Model/dataset/normal_dataset/wav/normal_218.wav\n",
            "✅ 변환 완료: normal_218.wav\n",
            "변환 시도 중: /content/drive/MyDrive/2025_VoicePhshing_Detection_Model/dataset/normal_dataset/mp3/219.mp3 -> /content/drive/MyDrive/2025_VoicePhshing_Detection_Model/dataset/normal_dataset/wav/normal_219.wav\n",
            "✅ 변환 완료: normal_219.wav\n",
            "변환 시도 중: /content/drive/MyDrive/2025_VoicePhshing_Detection_Model/dataset/normal_dataset/mp3/220.mp3 -> /content/drive/MyDrive/2025_VoicePhshing_Detection_Model/dataset/normal_dataset/wav/normal_220.wav\n",
            "✅ 변환 완료: normal_220.wav\n",
            "변환 시도 중: /content/drive/MyDrive/2025_VoicePhshing_Detection_Model/dataset/normal_dataset/mp3/221.mp3 -> /content/drive/MyDrive/2025_VoicePhshing_Detection_Model/dataset/normal_dataset/wav/normal_221.wav\n",
            "✅ 변환 완료: normal_221.wav\n",
            "변환 시도 중: /content/drive/MyDrive/2025_VoicePhshing_Detection_Model/dataset/normal_dataset/mp3/222.mp3 -> /content/drive/MyDrive/2025_VoicePhshing_Detection_Model/dataset/normal_dataset/wav/normal_222.wav\n",
            "✅ 변환 완료: normal_222.wav\n",
            "변환 시도 중: /content/drive/MyDrive/2025_VoicePhshing_Detection_Model/dataset/normal_dataset/mp3/223.mp3 -> /content/drive/MyDrive/2025_VoicePhshing_Detection_Model/dataset/normal_dataset/wav/normal_223.wav\n",
            "✅ 변환 완료: normal_223.wav\n",
            "변환 시도 중: /content/drive/MyDrive/2025_VoicePhshing_Detection_Model/dataset/normal_dataset/mp3/224.mp3 -> /content/drive/MyDrive/2025_VoicePhshing_Detection_Model/dataset/normal_dataset/wav/normal_224.wav\n",
            "✅ 변환 완료: normal_224.wav\n",
            "변환 시도 중: /content/drive/MyDrive/2025_VoicePhshing_Detection_Model/dataset/normal_dataset/mp3/225.mp3 -> /content/drive/MyDrive/2025_VoicePhshing_Detection_Model/dataset/normal_dataset/wav/normal_225.wav\n",
            "✅ 변환 완료: normal_225.wav\n",
            "변환 시도 중: /content/drive/MyDrive/2025_VoicePhshing_Detection_Model/dataset/normal_dataset/mp3/226.mp3 -> /content/drive/MyDrive/2025_VoicePhshing_Detection_Model/dataset/normal_dataset/wav/normal_226.wav\n",
            "✅ 변환 완료: normal_226.wav\n",
            "변환 시도 중: /content/drive/MyDrive/2025_VoicePhshing_Detection_Model/dataset/normal_dataset/mp3/227.mp3 -> /content/drive/MyDrive/2025_VoicePhshing_Detection_Model/dataset/normal_dataset/wav/normal_227.wav\n",
            "✅ 변환 완료: normal_227.wav\n",
            "변환 시도 중: /content/drive/MyDrive/2025_VoicePhshing_Detection_Model/dataset/normal_dataset/mp3/228.mp3 -> /content/drive/MyDrive/2025_VoicePhshing_Detection_Model/dataset/normal_dataset/wav/normal_228.wav\n",
            "✅ 변환 완료: normal_228.wav\n",
            "변환 시도 중: /content/drive/MyDrive/2025_VoicePhshing_Detection_Model/dataset/normal_dataset/mp3/229.mp3 -> /content/drive/MyDrive/2025_VoicePhshing_Detection_Model/dataset/normal_dataset/wav/normal_229.wav\n",
            "✅ 변환 완료: normal_229.wav\n",
            "변환 시도 중: /content/drive/MyDrive/2025_VoicePhshing_Detection_Model/dataset/normal_dataset/mp3/230.mp3 -> /content/drive/MyDrive/2025_VoicePhshing_Detection_Model/dataset/normal_dataset/wav/normal_230.wav\n",
            "✅ 변환 완료: normal_230.wav\n",
            "변환 시도 중: /content/drive/MyDrive/2025_VoicePhshing_Detection_Model/dataset/normal_dataset/mp3/231.mp3 -> /content/drive/MyDrive/2025_VoicePhshing_Detection_Model/dataset/normal_dataset/wav/normal_231.wav\n",
            "✅ 변환 완료: normal_231.wav\n",
            "변환 시도 중: /content/drive/MyDrive/2025_VoicePhshing_Detection_Model/dataset/normal_dataset/mp3/232.mp3 -> /content/drive/MyDrive/2025_VoicePhshing_Detection_Model/dataset/normal_dataset/wav/normal_232.wav\n",
            "✅ 변환 완료: normal_232.wav\n",
            "변환 시도 중: /content/drive/MyDrive/2025_VoicePhshing_Detection_Model/dataset/normal_dataset/mp3/233.mp3 -> /content/drive/MyDrive/2025_VoicePhshing_Detection_Model/dataset/normal_dataset/wav/normal_233.wav\n",
            "✅ 변환 완료: normal_233.wav\n",
            "변환 시도 중: /content/drive/MyDrive/2025_VoicePhshing_Detection_Model/dataset/normal_dataset/mp3/234.mp3 -> /content/drive/MyDrive/2025_VoicePhshing_Detection_Model/dataset/normal_dataset/wav/normal_234.wav\n",
            "✅ 변환 완료: normal_234.wav\n",
            "변환 시도 중: /content/drive/MyDrive/2025_VoicePhshing_Detection_Model/dataset/normal_dataset/mp3/235.mp3 -> /content/drive/MyDrive/2025_VoicePhshing_Detection_Model/dataset/normal_dataset/wav/normal_235.wav\n",
            "✅ 변환 완료: normal_235.wav\n",
            "변환 시도 중: /content/drive/MyDrive/2025_VoicePhshing_Detection_Model/dataset/normal_dataset/mp3/236.mp3 -> /content/drive/MyDrive/2025_VoicePhshing_Detection_Model/dataset/normal_dataset/wav/normal_236.wav\n",
            "✅ 변환 완료: normal_236.wav\n",
            "변환 시도 중: /content/drive/MyDrive/2025_VoicePhshing_Detection_Model/dataset/normal_dataset/mp3/237.mp3 -> /content/drive/MyDrive/2025_VoicePhshing_Detection_Model/dataset/normal_dataset/wav/normal_237.wav\n",
            "✅ 변환 완료: normal_237.wav\n",
            "변환 시도 중: /content/drive/MyDrive/2025_VoicePhshing_Detection_Model/dataset/normal_dataset/mp3/238.mp3 -> /content/drive/MyDrive/2025_VoicePhshing_Detection_Model/dataset/normal_dataset/wav/normal_238.wav\n",
            "✅ 변환 완료: normal_238.wav\n",
            "변환 시도 중: /content/drive/MyDrive/2025_VoicePhshing_Detection_Model/dataset/normal_dataset/mp3/239.mp3 -> /content/drive/MyDrive/2025_VoicePhshing_Detection_Model/dataset/normal_dataset/wav/normal_239.wav\n",
            "✅ 변환 완료: normal_239.wav\n",
            "변환 시도 중: /content/drive/MyDrive/2025_VoicePhshing_Detection_Model/dataset/normal_dataset/mp3/240.mp3 -> /content/drive/MyDrive/2025_VoicePhshing_Detection_Model/dataset/normal_dataset/wav/normal_240.wav\n",
            "✅ 변환 완료: normal_240.wav\n",
            "변환 시도 중: /content/drive/MyDrive/2025_VoicePhshing_Detection_Model/dataset/normal_dataset/mp3/241.mp3 -> /content/drive/MyDrive/2025_VoicePhshing_Detection_Model/dataset/normal_dataset/wav/normal_241.wav\n",
            "✅ 변환 완료: normal_241.wav\n",
            "변환 시도 중: /content/drive/MyDrive/2025_VoicePhshing_Detection_Model/dataset/normal_dataset/mp3/242.mp3 -> /content/drive/MyDrive/2025_VoicePhshing_Detection_Model/dataset/normal_dataset/wav/normal_242.wav\n",
            "✅ 변환 완료: normal_242.wav\n",
            "변환 시도 중: /content/drive/MyDrive/2025_VoicePhshing_Detection_Model/dataset/normal_dataset/mp3/243.mp3 -> /content/drive/MyDrive/2025_VoicePhshing_Detection_Model/dataset/normal_dataset/wav/normal_243.wav\n",
            "✅ 변환 완료: normal_243.wav\n",
            "변환 시도 중: /content/drive/MyDrive/2025_VoicePhshing_Detection_Model/dataset/normal_dataset/mp3/244.mp3 -> /content/drive/MyDrive/2025_VoicePhshing_Detection_Model/dataset/normal_dataset/wav/normal_244.wav\n",
            "✅ 변환 완료: normal_244.wav\n",
            "변환 시도 중: /content/drive/MyDrive/2025_VoicePhshing_Detection_Model/dataset/normal_dataset/mp3/245.mp3 -> /content/drive/MyDrive/2025_VoicePhshing_Detection_Model/dataset/normal_dataset/wav/normal_245.wav\n",
            "✅ 변환 완료: normal_245.wav\n",
            "변환 시도 중: /content/drive/MyDrive/2025_VoicePhshing_Detection_Model/dataset/normal_dataset/mp3/246.mp3 -> /content/drive/MyDrive/2025_VoicePhshing_Detection_Model/dataset/normal_dataset/wav/normal_246.wav\n",
            "✅ 변환 완료: normal_246.wav\n",
            "변환 시도 중: /content/drive/MyDrive/2025_VoicePhshing_Detection_Model/dataset/normal_dataset/mp3/247.mp3 -> /content/drive/MyDrive/2025_VoicePhshing_Detection_Model/dataset/normal_dataset/wav/normal_247.wav\n",
            "✅ 변환 완료: normal_247.wav\n",
            "변환 시도 중: /content/drive/MyDrive/2025_VoicePhshing_Detection_Model/dataset/normal_dataset/mp3/248.mp3 -> /content/drive/MyDrive/2025_VoicePhshing_Detection_Model/dataset/normal_dataset/wav/normal_248.wav\n",
            "✅ 변환 완료: normal_248.wav\n",
            "변환 시도 중: /content/drive/MyDrive/2025_VoicePhshing_Detection_Model/dataset/normal_dataset/mp3/249.mp3 -> /content/drive/MyDrive/2025_VoicePhshing_Detection_Model/dataset/normal_dataset/wav/normal_249.wav\n",
            "✅ 변환 완료: normal_249.wav\n",
            "변환 시도 중: /content/drive/MyDrive/2025_VoicePhshing_Detection_Model/dataset/normal_dataset/mp3/250.mp3 -> /content/drive/MyDrive/2025_VoicePhshing_Detection_Model/dataset/normal_dataset/wav/normal_250.wav\n",
            "✅ 변환 완료: normal_250.wav\n",
            "변환 시도 중: /content/drive/MyDrive/2025_VoicePhshing_Detection_Model/dataset/normal_dataset/mp3/251.mp3 -> /content/drive/MyDrive/2025_VoicePhshing_Detection_Model/dataset/normal_dataset/wav/normal_251.wav\n",
            "✅ 변환 완료: normal_251.wav\n",
            "변환 시도 중: /content/drive/MyDrive/2025_VoicePhshing_Detection_Model/dataset/normal_dataset/mp3/252.mp3 -> /content/drive/MyDrive/2025_VoicePhshing_Detection_Model/dataset/normal_dataset/wav/normal_252.wav\n",
            "✅ 변환 완료: normal_252.wav\n",
            "변환 시도 중: /content/drive/MyDrive/2025_VoicePhshing_Detection_Model/dataset/normal_dataset/mp3/253.mp3 -> /content/drive/MyDrive/2025_VoicePhshing_Detection_Model/dataset/normal_dataset/wav/normal_253.wav\n",
            "✅ 변환 완료: normal_253.wav\n",
            "변환 시도 중: /content/drive/MyDrive/2025_VoicePhshing_Detection_Model/dataset/normal_dataset/mp3/254.mp3 -> /content/drive/MyDrive/2025_VoicePhshing_Detection_Model/dataset/normal_dataset/wav/normal_254.wav\n",
            "✅ 변환 완료: normal_254.wav\n",
            "변환 시도 중: /content/drive/MyDrive/2025_VoicePhshing_Detection_Model/dataset/normal_dataset/mp3/255.mp3 -> /content/drive/MyDrive/2025_VoicePhshing_Detection_Model/dataset/normal_dataset/wav/normal_255.wav\n",
            "✅ 변환 완료: normal_255.wav\n",
            "변환 시도 중: /content/drive/MyDrive/2025_VoicePhshing_Detection_Model/dataset/normal_dataset/mp3/256.mp3 -> /content/drive/MyDrive/2025_VoicePhshing_Detection_Model/dataset/normal_dataset/wav/normal_256.wav\n",
            "✅ 변환 완료: normal_256.wav\n",
            "변환 시도 중: /content/drive/MyDrive/2025_VoicePhshing_Detection_Model/dataset/normal_dataset/mp3/257.mp3 -> /content/drive/MyDrive/2025_VoicePhshing_Detection_Model/dataset/normal_dataset/wav/normal_257.wav\n",
            "✅ 변환 완료: normal_257.wav\n",
            "변환 시도 중: /content/drive/MyDrive/2025_VoicePhshing_Detection_Model/dataset/normal_dataset/mp3/258.mp3 -> /content/drive/MyDrive/2025_VoicePhshing_Detection_Model/dataset/normal_dataset/wav/normal_258.wav\n",
            "✅ 변환 완료: normal_258.wav\n",
            "변환 시도 중: /content/drive/MyDrive/2025_VoicePhshing_Detection_Model/dataset/normal_dataset/mp3/259.mp3 -> /content/drive/MyDrive/2025_VoicePhshing_Detection_Model/dataset/normal_dataset/wav/normal_259.wav\n",
            "✅ 변환 완료: normal_259.wav\n",
            "변환 시도 중: /content/drive/MyDrive/2025_VoicePhshing_Detection_Model/dataset/normal_dataset/mp3/260.mp3 -> /content/drive/MyDrive/2025_VoicePhshing_Detection_Model/dataset/normal_dataset/wav/normal_260.wav\n",
            "✅ 변환 완료: normal_260.wav\n",
            "변환 시도 중: /content/drive/MyDrive/2025_VoicePhshing_Detection_Model/dataset/normal_dataset/mp3/261.mp3 -> /content/drive/MyDrive/2025_VoicePhshing_Detection_Model/dataset/normal_dataset/wav/normal_261.wav\n",
            "✅ 변환 완료: normal_261.wav\n",
            "변환 시도 중: /content/drive/MyDrive/2025_VoicePhshing_Detection_Model/dataset/normal_dataset/mp3/262.mp3 -> /content/drive/MyDrive/2025_VoicePhshing_Detection_Model/dataset/normal_dataset/wav/normal_262.wav\n",
            "✅ 변환 완료: normal_262.wav\n",
            "변환 시도 중: /content/drive/MyDrive/2025_VoicePhshing_Detection_Model/dataset/normal_dataset/mp3/263.mp3 -> /content/drive/MyDrive/2025_VoicePhshing_Detection_Model/dataset/normal_dataset/wav/normal_263.wav\n",
            "✅ 변환 완료: normal_263.wav\n",
            "변환 시도 중: /content/drive/MyDrive/2025_VoicePhshing_Detection_Model/dataset/normal_dataset/mp3/264.mp3 -> /content/drive/MyDrive/2025_VoicePhshing_Detection_Model/dataset/normal_dataset/wav/normal_264.wav\n",
            "✅ 변환 완료: normal_264.wav\n",
            "변환 시도 중: /content/drive/MyDrive/2025_VoicePhshing_Detection_Model/dataset/normal_dataset/mp3/265.mp3 -> /content/drive/MyDrive/2025_VoicePhshing_Detection_Model/dataset/normal_dataset/wav/normal_265.wav\n",
            "✅ 변환 완료: normal_265.wav\n",
            "변환 시도 중: /content/drive/MyDrive/2025_VoicePhshing_Detection_Model/dataset/normal_dataset/mp3/266.mp3 -> /content/drive/MyDrive/2025_VoicePhshing_Detection_Model/dataset/normal_dataset/wav/normal_266.wav\n",
            "✅ 변환 완료: normal_266.wav\n",
            "변환 시도 중: /content/drive/MyDrive/2025_VoicePhshing_Detection_Model/dataset/normal_dataset/mp3/267.mp3 -> /content/drive/MyDrive/2025_VoicePhshing_Detection_Model/dataset/normal_dataset/wav/normal_267.wav\n",
            "✅ 변환 완료: normal_267.wav\n",
            "변환 시도 중: /content/drive/MyDrive/2025_VoicePhshing_Detection_Model/dataset/normal_dataset/mp3/268.mp3 -> /content/drive/MyDrive/2025_VoicePhshing_Detection_Model/dataset/normal_dataset/wav/normal_268.wav\n",
            "✅ 변환 완료: normal_268.wav\n",
            "변환 시도 중: /content/drive/MyDrive/2025_VoicePhshing_Detection_Model/dataset/normal_dataset/mp3/269.mp3 -> /content/drive/MyDrive/2025_VoicePhshing_Detection_Model/dataset/normal_dataset/wav/normal_269.wav\n",
            "✅ 변환 완료: normal_269.wav\n",
            "변환 시도 중: /content/drive/MyDrive/2025_VoicePhshing_Detection_Model/dataset/normal_dataset/mp3/270.mp3 -> /content/drive/MyDrive/2025_VoicePhshing_Detection_Model/dataset/normal_dataset/wav/normal_270.wav\n",
            "✅ 변환 완료: normal_270.wav\n",
            "변환 시도 중: /content/drive/MyDrive/2025_VoicePhshing_Detection_Model/dataset/normal_dataset/mp3/271.mp3 -> /content/drive/MyDrive/2025_VoicePhshing_Detection_Model/dataset/normal_dataset/wav/normal_271.wav\n",
            "✅ 변환 완료: normal_271.wav\n",
            "변환 시도 중: /content/drive/MyDrive/2025_VoicePhshing_Detection_Model/dataset/normal_dataset/mp3/272.mp3 -> /content/drive/MyDrive/2025_VoicePhshing_Detection_Model/dataset/normal_dataset/wav/normal_272.wav\n",
            "✅ 변환 완료: normal_272.wav\n",
            "변환 시도 중: /content/drive/MyDrive/2025_VoicePhshing_Detection_Model/dataset/normal_dataset/mp3/273.mp3 -> /content/drive/MyDrive/2025_VoicePhshing_Detection_Model/dataset/normal_dataset/wav/normal_273.wav\n",
            "✅ 변환 완료: normal_273.wav\n",
            "변환 시도 중: /content/drive/MyDrive/2025_VoicePhshing_Detection_Model/dataset/normal_dataset/mp3/274.mp3 -> /content/drive/MyDrive/2025_VoicePhshing_Detection_Model/dataset/normal_dataset/wav/normal_274.wav\n",
            "✅ 변환 완료: normal_274.wav\n",
            "변환 시도 중: /content/drive/MyDrive/2025_VoicePhshing_Detection_Model/dataset/normal_dataset/mp3/275.mp3 -> /content/drive/MyDrive/2025_VoicePhshing_Detection_Model/dataset/normal_dataset/wav/normal_275.wav\n",
            "✅ 변환 완료: normal_275.wav\n",
            "변환 시도 중: /content/drive/MyDrive/2025_VoicePhshing_Detection_Model/dataset/normal_dataset/mp3/276.mp3 -> /content/drive/MyDrive/2025_VoicePhshing_Detection_Model/dataset/normal_dataset/wav/normal_276.wav\n",
            "✅ 변환 완료: normal_276.wav\n",
            "변환 시도 중: /content/drive/MyDrive/2025_VoicePhshing_Detection_Model/dataset/normal_dataset/mp3/277.mp3 -> /content/drive/MyDrive/2025_VoicePhshing_Detection_Model/dataset/normal_dataset/wav/normal_277.wav\n",
            "✅ 변환 완료: normal_277.wav\n",
            "변환 시도 중: /content/drive/MyDrive/2025_VoicePhshing_Detection_Model/dataset/normal_dataset/mp3/278.mp3 -> /content/drive/MyDrive/2025_VoicePhshing_Detection_Model/dataset/normal_dataset/wav/normal_278.wav\n",
            "✅ 변환 완료: normal_278.wav\n",
            "변환 시도 중: /content/drive/MyDrive/2025_VoicePhshing_Detection_Model/dataset/normal_dataset/mp3/279.mp3 -> /content/drive/MyDrive/2025_VoicePhshing_Detection_Model/dataset/normal_dataset/wav/normal_279.wav\n",
            "✅ 변환 완료: normal_279.wav\n",
            "변환 시도 중: /content/drive/MyDrive/2025_VoicePhshing_Detection_Model/dataset/normal_dataset/mp3/280.mp3 -> /content/drive/MyDrive/2025_VoicePhshing_Detection_Model/dataset/normal_dataset/wav/normal_280.wav\n",
            "✅ 변환 완료: normal_280.wav\n",
            "변환 시도 중: /content/drive/MyDrive/2025_VoicePhshing_Detection_Model/dataset/normal_dataset/mp3/281.mp3 -> /content/drive/MyDrive/2025_VoicePhshing_Detection_Model/dataset/normal_dataset/wav/normal_281.wav\n",
            "✅ 변환 완료: normal_281.wav\n",
            "변환 시도 중: /content/drive/MyDrive/2025_VoicePhshing_Detection_Model/dataset/normal_dataset/mp3/282.mp3 -> /content/drive/MyDrive/2025_VoicePhshing_Detection_Model/dataset/normal_dataset/wav/normal_282.wav\n",
            "✅ 변환 완료: normal_282.wav\n",
            "변환 시도 중: /content/drive/MyDrive/2025_VoicePhshing_Detection_Model/dataset/normal_dataset/mp3/283.mp3 -> /content/drive/MyDrive/2025_VoicePhshing_Detection_Model/dataset/normal_dataset/wav/normal_283.wav\n",
            "✅ 변환 완료: normal_283.wav\n",
            "변환 시도 중: /content/drive/MyDrive/2025_VoicePhshing_Detection_Model/dataset/normal_dataset/mp3/284.mp3 -> /content/drive/MyDrive/2025_VoicePhshing_Detection_Model/dataset/normal_dataset/wav/normal_284.wav\n",
            "✅ 변환 완료: normal_284.wav\n",
            "변환 시도 중: /content/drive/MyDrive/2025_VoicePhshing_Detection_Model/dataset/normal_dataset/mp3/285.mp3 -> /content/drive/MyDrive/2025_VoicePhshing_Detection_Model/dataset/normal_dataset/wav/normal_285.wav\n",
            "✅ 변환 완료: normal_285.wav\n",
            "변환 시도 중: /content/drive/MyDrive/2025_VoicePhshing_Detection_Model/dataset/normal_dataset/mp3/286.mp3 -> /content/drive/MyDrive/2025_VoicePhshing_Detection_Model/dataset/normal_dataset/wav/normal_286.wav\n",
            "✅ 변환 완료: normal_286.wav\n",
            "변환 시도 중: /content/drive/MyDrive/2025_VoicePhshing_Detection_Model/dataset/normal_dataset/mp3/287.mp3 -> /content/drive/MyDrive/2025_VoicePhshing_Detection_Model/dataset/normal_dataset/wav/normal_287.wav\n",
            "✅ 변환 완료: normal_287.wav\n",
            "변환 시도 중: /content/drive/MyDrive/2025_VoicePhshing_Detection_Model/dataset/normal_dataset/mp3/288.mp3 -> /content/drive/MyDrive/2025_VoicePhshing_Detection_Model/dataset/normal_dataset/wav/normal_288.wav\n",
            "✅ 변환 완료: normal_288.wav\n",
            "변환 시도 중: /content/drive/MyDrive/2025_VoicePhshing_Detection_Model/dataset/normal_dataset/mp3/289.mp3 -> /content/drive/MyDrive/2025_VoicePhshing_Detection_Model/dataset/normal_dataset/wav/normal_289.wav\n",
            "✅ 변환 완료: normal_289.wav\n",
            "변환 시도 중: /content/drive/MyDrive/2025_VoicePhshing_Detection_Model/dataset/normal_dataset/mp3/290.mp3 -> /content/drive/MyDrive/2025_VoicePhshing_Detection_Model/dataset/normal_dataset/wav/normal_290.wav\n",
            "✅ 변환 완료: normal_290.wav\n",
            "변환 시도 중: /content/drive/MyDrive/2025_VoicePhshing_Detection_Model/dataset/normal_dataset/mp3/291.mp3 -> /content/drive/MyDrive/2025_VoicePhshing_Detection_Model/dataset/normal_dataset/wav/normal_291.wav\n",
            "✅ 변환 완료: normal_291.wav\n",
            "변환 시도 중: /content/drive/MyDrive/2025_VoicePhshing_Detection_Model/dataset/normal_dataset/mp3/292.mp3 -> /content/drive/MyDrive/2025_VoicePhshing_Detection_Model/dataset/normal_dataset/wav/normal_292.wav\n",
            "✅ 변환 완료: normal_292.wav\n",
            "변환 시도 중: /content/drive/MyDrive/2025_VoicePhshing_Detection_Model/dataset/normal_dataset/mp3/293.mp3 -> /content/drive/MyDrive/2025_VoicePhshing_Detection_Model/dataset/normal_dataset/wav/normal_293.wav\n",
            "✅ 변환 완료: normal_293.wav\n",
            "변환 시도 중: /content/drive/MyDrive/2025_VoicePhshing_Detection_Model/dataset/normal_dataset/mp3/294.mp3 -> /content/drive/MyDrive/2025_VoicePhshing_Detection_Model/dataset/normal_dataset/wav/normal_294.wav\n",
            "✅ 변환 완료: normal_294.wav\n",
            "변환 시도 중: /content/drive/MyDrive/2025_VoicePhshing_Detection_Model/dataset/normal_dataset/mp3/295.mp3 -> /content/drive/MyDrive/2025_VoicePhshing_Detection_Model/dataset/normal_dataset/wav/normal_295.wav\n",
            "✅ 변환 완료: normal_295.wav\n",
            "변환 시도 중: /content/drive/MyDrive/2025_VoicePhshing_Detection_Model/dataset/normal_dataset/mp3/296.mp3 -> /content/drive/MyDrive/2025_VoicePhshing_Detection_Model/dataset/normal_dataset/wav/normal_296.wav\n",
            "✅ 변환 완료: normal_296.wav\n",
            "변환 시도 중: /content/drive/MyDrive/2025_VoicePhshing_Detection_Model/dataset/normal_dataset/mp3/297.mp3 -> /content/drive/MyDrive/2025_VoicePhshing_Detection_Model/dataset/normal_dataset/wav/normal_297.wav\n",
            "✅ 변환 완료: normal_297.wav\n",
            "변환 시도 중: /content/drive/MyDrive/2025_VoicePhshing_Detection_Model/dataset/normal_dataset/mp3/298.mp3 -> /content/drive/MyDrive/2025_VoicePhshing_Detection_Model/dataset/normal_dataset/wav/normal_298.wav\n",
            "✅ 변환 완료: normal_298.wav\n",
            "변환 시도 중: /content/drive/MyDrive/2025_VoicePhshing_Detection_Model/dataset/normal_dataset/mp3/299.mp3 -> /content/drive/MyDrive/2025_VoicePhshing_Detection_Model/dataset/normal_dataset/wav/normal_299.wav\n",
            "✅ 변환 완료: normal_299.wav\n",
            "변환 시도 중: /content/drive/MyDrive/2025_VoicePhshing_Detection_Model/dataset/normal_dataset/mp3/300.mp3 -> /content/drive/MyDrive/2025_VoicePhshing_Detection_Model/dataset/normal_dataset/wav/normal_300.wav\n",
            "✅ 변환 완료: normal_300.wav\n",
            "변환 시도 중: /content/drive/MyDrive/2025_VoicePhshing_Detection_Model/dataset/normal_dataset/mp3/301.mp3 -> /content/drive/MyDrive/2025_VoicePhshing_Detection_Model/dataset/normal_dataset/wav/normal_301.wav\n",
            "✅ 변환 완료: normal_301.wav\n",
            "변환 시도 중: /content/drive/MyDrive/2025_VoicePhshing_Detection_Model/dataset/normal_dataset/mp3/302.mp3 -> /content/drive/MyDrive/2025_VoicePhshing_Detection_Model/dataset/normal_dataset/wav/normal_302.wav\n",
            "✅ 변환 완료: normal_302.wav\n",
            "변환 시도 중: /content/drive/MyDrive/2025_VoicePhshing_Detection_Model/dataset/normal_dataset/mp3/303.mp3 -> /content/drive/MyDrive/2025_VoicePhshing_Detection_Model/dataset/normal_dataset/wav/normal_303.wav\n",
            "✅ 변환 완료: normal_303.wav\n",
            "변환 시도 중: /content/drive/MyDrive/2025_VoicePhshing_Detection_Model/dataset/normal_dataset/mp3/304.mp3 -> /content/drive/MyDrive/2025_VoicePhshing_Detection_Model/dataset/normal_dataset/wav/normal_304.wav\n",
            "✅ 변환 완료: normal_304.wav\n",
            "변환 시도 중: /content/drive/MyDrive/2025_VoicePhshing_Detection_Model/dataset/normal_dataset/mp3/305.mp3 -> /content/drive/MyDrive/2025_VoicePhshing_Detection_Model/dataset/normal_dataset/wav/normal_305.wav\n",
            "✅ 변환 완료: normal_305.wav\n",
            "변환 시도 중: /content/drive/MyDrive/2025_VoicePhshing_Detection_Model/dataset/normal_dataset/mp3/306.mp3 -> /content/drive/MyDrive/2025_VoicePhshing_Detection_Model/dataset/normal_dataset/wav/normal_306.wav\n",
            "✅ 변환 완료: normal_306.wav\n",
            "변환 시도 중: /content/drive/MyDrive/2025_VoicePhshing_Detection_Model/dataset/normal_dataset/mp3/307.mp3 -> /content/drive/MyDrive/2025_VoicePhshing_Detection_Model/dataset/normal_dataset/wav/normal_307.wav\n",
            "✅ 변환 완료: normal_307.wav\n",
            "변환 시도 중: /content/drive/MyDrive/2025_VoicePhshing_Detection_Model/dataset/normal_dataset/mp3/308.mp3 -> /content/drive/MyDrive/2025_VoicePhshing_Detection_Model/dataset/normal_dataset/wav/normal_308.wav\n",
            "✅ 변환 완료: normal_308.wav\n",
            "변환 시도 중: /content/drive/MyDrive/2025_VoicePhshing_Detection_Model/dataset/normal_dataset/mp3/309.mp3 -> /content/drive/MyDrive/2025_VoicePhshing_Detection_Model/dataset/normal_dataset/wav/normal_309.wav\n",
            "✅ 변환 완료: normal_309.wav\n",
            "변환 시도 중: /content/drive/MyDrive/2025_VoicePhshing_Detection_Model/dataset/normal_dataset/mp3/310.mp3 -> /content/drive/MyDrive/2025_VoicePhshing_Detection_Model/dataset/normal_dataset/wav/normal_310.wav\n",
            "✅ 변환 완료: normal_310.wav\n",
            "변환 시도 중: /content/drive/MyDrive/2025_VoicePhshing_Detection_Model/dataset/normal_dataset/mp3/311.mp3 -> /content/drive/MyDrive/2025_VoicePhshing_Detection_Model/dataset/normal_dataset/wav/normal_311.wav\n",
            "✅ 변환 완료: normal_311.wav\n",
            "변환 시도 중: /content/drive/MyDrive/2025_VoicePhshing_Detection_Model/dataset/normal_dataset/mp3/312.mp3 -> /content/drive/MyDrive/2025_VoicePhshing_Detection_Model/dataset/normal_dataset/wav/normal_312.wav\n",
            "✅ 변환 완료: normal_312.wav\n",
            "변환 시도 중: /content/drive/MyDrive/2025_VoicePhshing_Detection_Model/dataset/normal_dataset/mp3/313.mp3 -> /content/drive/MyDrive/2025_VoicePhshing_Detection_Model/dataset/normal_dataset/wav/normal_313.wav\n",
            "✅ 변환 완료: normal_313.wav\n",
            "변환 시도 중: /content/drive/MyDrive/2025_VoicePhshing_Detection_Model/dataset/normal_dataset/mp3/314.mp3 -> /content/drive/MyDrive/2025_VoicePhshing_Detection_Model/dataset/normal_dataset/wav/normal_314.wav\n",
            "✅ 변환 완료: normal_314.wav\n",
            "변환 시도 중: /content/drive/MyDrive/2025_VoicePhshing_Detection_Model/dataset/normal_dataset/mp3/315.mp3 -> /content/drive/MyDrive/2025_VoicePhshing_Detection_Model/dataset/normal_dataset/wav/normal_315.wav\n",
            "✅ 변환 완료: normal_315.wav\n",
            "변환 시도 중: /content/drive/MyDrive/2025_VoicePhshing_Detection_Model/dataset/normal_dataset/mp3/316.mp3 -> /content/drive/MyDrive/2025_VoicePhshing_Detection_Model/dataset/normal_dataset/wav/normal_316.wav\n",
            "✅ 변환 완료: normal_316.wav\n",
            "변환 시도 중: /content/drive/MyDrive/2025_VoicePhshing_Detection_Model/dataset/normal_dataset/mp3/317.mp3 -> /content/drive/MyDrive/2025_VoicePhshing_Detection_Model/dataset/normal_dataset/wav/normal_317.wav\n",
            "✅ 변환 완료: normal_317.wav\n",
            "변환 시도 중: /content/drive/MyDrive/2025_VoicePhshing_Detection_Model/dataset/normal_dataset/mp3/318.mp3 -> /content/drive/MyDrive/2025_VoicePhshing_Detection_Model/dataset/normal_dataset/wav/normal_318.wav\n",
            "✅ 변환 완료: normal_318.wav\n",
            "변환 시도 중: /content/drive/MyDrive/2025_VoicePhshing_Detection_Model/dataset/normal_dataset/mp3/319.mp3 -> /content/drive/MyDrive/2025_VoicePhshing_Detection_Model/dataset/normal_dataset/wav/normal_319.wav\n",
            "✅ 변환 완료: normal_319.wav\n",
            "변환 시도 중: /content/drive/MyDrive/2025_VoicePhshing_Detection_Model/dataset/normal_dataset/mp3/320.mp3 -> /content/drive/MyDrive/2025_VoicePhshing_Detection_Model/dataset/normal_dataset/wav/normal_320.wav\n",
            "✅ 변환 완료: normal_320.wav\n",
            "변환 시도 중: /content/drive/MyDrive/2025_VoicePhshing_Detection_Model/dataset/normal_dataset/mp3/321.mp3 -> /content/drive/MyDrive/2025_VoicePhshing_Detection_Model/dataset/normal_dataset/wav/normal_321.wav\n",
            "✅ 변환 완료: normal_321.wav\n",
            "변환 시도 중: /content/drive/MyDrive/2025_VoicePhshing_Detection_Model/dataset/normal_dataset/mp3/322.mp3 -> /content/drive/MyDrive/2025_VoicePhshing_Detection_Model/dataset/normal_dataset/wav/normal_322.wav\n",
            "✅ 변환 완료: normal_322.wav\n",
            "변환 시도 중: /content/drive/MyDrive/2025_VoicePhshing_Detection_Model/dataset/normal_dataset/mp3/323.mp3 -> /content/drive/MyDrive/2025_VoicePhshing_Detection_Model/dataset/normal_dataset/wav/normal_323.wav\n",
            "✅ 변환 완료: normal_323.wav\n",
            "변환 시도 중: /content/drive/MyDrive/2025_VoicePhshing_Detection_Model/dataset/normal_dataset/mp3/324.mp3 -> /content/drive/MyDrive/2025_VoicePhshing_Detection_Model/dataset/normal_dataset/wav/normal_324.wav\n",
            "✅ 변환 완료: normal_324.wav\n",
            "변환 시도 중: /content/drive/MyDrive/2025_VoicePhshing_Detection_Model/dataset/normal_dataset/mp3/325.mp3 -> /content/drive/MyDrive/2025_VoicePhshing_Detection_Model/dataset/normal_dataset/wav/normal_325.wav\n",
            "✅ 변환 완료: normal_325.wav\n",
            "변환 시도 중: /content/drive/MyDrive/2025_VoicePhshing_Detection_Model/dataset/normal_dataset/mp3/326.mp3 -> /content/drive/MyDrive/2025_VoicePhshing_Detection_Model/dataset/normal_dataset/wav/normal_326.wav\n",
            "✅ 변환 완료: normal_326.wav\n",
            "변환 시도 중: /content/drive/MyDrive/2025_VoicePhshing_Detection_Model/dataset/normal_dataset/mp3/327.mp3 -> /content/drive/MyDrive/2025_VoicePhshing_Detection_Model/dataset/normal_dataset/wav/normal_327.wav\n",
            "✅ 변환 완료: normal_327.wav\n",
            "변환 시도 중: /content/drive/MyDrive/2025_VoicePhshing_Detection_Model/dataset/normal_dataset/mp3/328.mp3 -> /content/drive/MyDrive/2025_VoicePhshing_Detection_Model/dataset/normal_dataset/wav/normal_328.wav\n",
            "✅ 변환 완료: normal_328.wav\n",
            "변환 시도 중: /content/drive/MyDrive/2025_VoicePhshing_Detection_Model/dataset/normal_dataset/mp3/329.mp3 -> /content/drive/MyDrive/2025_VoicePhshing_Detection_Model/dataset/normal_dataset/wav/normal_329.wav\n",
            "✅ 변환 완료: normal_329.wav\n",
            "변환 시도 중: /content/drive/MyDrive/2025_VoicePhshing_Detection_Model/dataset/normal_dataset/mp3/330.mp3 -> /content/drive/MyDrive/2025_VoicePhshing_Detection_Model/dataset/normal_dataset/wav/normal_330.wav\n",
            "✅ 변환 완료: normal_330.wav\n",
            "변환 시도 중: /content/drive/MyDrive/2025_VoicePhshing_Detection_Model/dataset/normal_dataset/mp3/331.mp3 -> /content/drive/MyDrive/2025_VoicePhshing_Detection_Model/dataset/normal_dataset/wav/normal_331.wav\n",
            "✅ 변환 완료: normal_331.wav\n",
            "변환 시도 중: /content/drive/MyDrive/2025_VoicePhshing_Detection_Model/dataset/normal_dataset/mp3/332.mp3 -> /content/drive/MyDrive/2025_VoicePhshing_Detection_Model/dataset/normal_dataset/wav/normal_332.wav\n",
            "✅ 변환 완료: normal_332.wav\n",
            "변환 시도 중: /content/drive/MyDrive/2025_VoicePhshing_Detection_Model/dataset/normal_dataset/mp3/333.mp3 -> /content/drive/MyDrive/2025_VoicePhshing_Detection_Model/dataset/normal_dataset/wav/normal_333.wav\n",
            "✅ 변환 완료: normal_333.wav\n",
            "변환 시도 중: /content/drive/MyDrive/2025_VoicePhshing_Detection_Model/dataset/normal_dataset/mp3/334.mp3 -> /content/drive/MyDrive/2025_VoicePhshing_Detection_Model/dataset/normal_dataset/wav/normal_334.wav\n",
            "✅ 변환 완료: normal_334.wav\n",
            "변환 시도 중: /content/drive/MyDrive/2025_VoicePhshing_Detection_Model/dataset/normal_dataset/mp3/335.mp3 -> /content/drive/MyDrive/2025_VoicePhshing_Detection_Model/dataset/normal_dataset/wav/normal_335.wav\n",
            "✅ 변환 완료: normal_335.wav\n",
            "변환 시도 중: /content/drive/MyDrive/2025_VoicePhshing_Detection_Model/dataset/normal_dataset/mp3/336.mp3 -> /content/drive/MyDrive/2025_VoicePhshing_Detection_Model/dataset/normal_dataset/wav/normal_336.wav\n",
            "✅ 변환 완료: normal_336.wav\n",
            "변환 시도 중: /content/drive/MyDrive/2025_VoicePhshing_Detection_Model/dataset/normal_dataset/mp3/337.mp3 -> /content/drive/MyDrive/2025_VoicePhshing_Detection_Model/dataset/normal_dataset/wav/normal_337.wav\n",
            "✅ 변환 완료: normal_337.wav\n",
            "변환 시도 중: /content/drive/MyDrive/2025_VoicePhshing_Detection_Model/dataset/normal_dataset/mp3/338.mp3 -> /content/drive/MyDrive/2025_VoicePhshing_Detection_Model/dataset/normal_dataset/wav/normal_338.wav\n",
            "✅ 변환 완료: normal_338.wav\n",
            "변환 시도 중: /content/drive/MyDrive/2025_VoicePhshing_Detection_Model/dataset/normal_dataset/mp3/339.mp3 -> /content/drive/MyDrive/2025_VoicePhshing_Detection_Model/dataset/normal_dataset/wav/normal_339.wav\n",
            "✅ 변환 완료: normal_339.wav\n",
            "변환 시도 중: /content/drive/MyDrive/2025_VoicePhshing_Detection_Model/dataset/normal_dataset/mp3/340.mp3 -> /content/drive/MyDrive/2025_VoicePhshing_Detection_Model/dataset/normal_dataset/wav/normal_340.wav\n",
            "✅ 변환 완료: normal_340.wav\n",
            "변환 시도 중: /content/drive/MyDrive/2025_VoicePhshing_Detection_Model/dataset/normal_dataset/mp3/341.mp3 -> /content/drive/MyDrive/2025_VoicePhshing_Detection_Model/dataset/normal_dataset/wav/normal_341.wav\n",
            "✅ 변환 완료: normal_341.wav\n",
            "변환 시도 중: /content/drive/MyDrive/2025_VoicePhshing_Detection_Model/dataset/normal_dataset/mp3/342.mp3 -> /content/drive/MyDrive/2025_VoicePhshing_Detection_Model/dataset/normal_dataset/wav/normal_342.wav\n",
            "✅ 변환 완료: normal_342.wav\n",
            "변환 시도 중: /content/drive/MyDrive/2025_VoicePhshing_Detection_Model/dataset/normal_dataset/mp3/343.mp3 -> /content/drive/MyDrive/2025_VoicePhshing_Detection_Model/dataset/normal_dataset/wav/normal_343.wav\n",
            "✅ 변환 완료: normal_343.wav\n",
            "변환 시도 중: /content/drive/MyDrive/2025_VoicePhshing_Detection_Model/dataset/normal_dataset/mp3/344.mp3 -> /content/drive/MyDrive/2025_VoicePhshing_Detection_Model/dataset/normal_dataset/wav/normal_344.wav\n",
            "✅ 변환 완료: normal_344.wav\n",
            "변환 시도 중: /content/drive/MyDrive/2025_VoicePhshing_Detection_Model/dataset/normal_dataset/mp3/345.mp3 -> /content/drive/MyDrive/2025_VoicePhshing_Detection_Model/dataset/normal_dataset/wav/normal_345.wav\n",
            "✅ 변환 완료: normal_345.wav\n",
            "변환 시도 중: /content/drive/MyDrive/2025_VoicePhshing_Detection_Model/dataset/normal_dataset/mp3/346.mp3 -> /content/drive/MyDrive/2025_VoicePhshing_Detection_Model/dataset/normal_dataset/wav/normal_346.wav\n",
            "✅ 변환 완료: normal_346.wav\n",
            "변환 시도 중: /content/drive/MyDrive/2025_VoicePhshing_Detection_Model/dataset/normal_dataset/mp3/347.mp3 -> /content/drive/MyDrive/2025_VoicePhshing_Detection_Model/dataset/normal_dataset/wav/normal_347.wav\n",
            "✅ 변환 완료: normal_347.wav\n",
            "변환 시도 중: /content/drive/MyDrive/2025_VoicePhshing_Detection_Model/dataset/normal_dataset/mp3/348.mp3 -> /content/drive/MyDrive/2025_VoicePhshing_Detection_Model/dataset/normal_dataset/wav/normal_348.wav\n",
            "✅ 변환 완료: normal_348.wav\n",
            "변환 시도 중: /content/drive/MyDrive/2025_VoicePhshing_Detection_Model/dataset/normal_dataset/mp3/349.mp3 -> /content/drive/MyDrive/2025_VoicePhshing_Detection_Model/dataset/normal_dataset/wav/normal_349.wav\n",
            "✅ 변환 완료: normal_349.wav\n",
            "변환 시도 중: /content/drive/MyDrive/2025_VoicePhshing_Detection_Model/dataset/normal_dataset/mp3/350.mp3 -> /content/drive/MyDrive/2025_VoicePhshing_Detection_Model/dataset/normal_dataset/wav/normal_350.wav\n",
            "✅ 변환 완료: normal_350.wav\n",
            "변환 시도 중: /content/drive/MyDrive/2025_VoicePhshing_Detection_Model/dataset/normal_dataset/mp3/351.mp3 -> /content/drive/MyDrive/2025_VoicePhshing_Detection_Model/dataset/normal_dataset/wav/normal_351.wav\n",
            "✅ 변환 완료: normal_351.wav\n",
            "변환 시도 중: /content/drive/MyDrive/2025_VoicePhshing_Detection_Model/dataset/normal_dataset/mp3/352.mp3 -> /content/drive/MyDrive/2025_VoicePhshing_Detection_Model/dataset/normal_dataset/wav/normal_352.wav\n",
            "✅ 변환 완료: normal_352.wav\n",
            "변환 시도 중: /content/drive/MyDrive/2025_VoicePhshing_Detection_Model/dataset/normal_dataset/mp3/353.mp3 -> /content/drive/MyDrive/2025_VoicePhshing_Detection_Model/dataset/normal_dataset/wav/normal_353.wav\n",
            "✅ 변환 완료: normal_353.wav\n",
            "변환 시도 중: /content/drive/MyDrive/2025_VoicePhshing_Detection_Model/dataset/normal_dataset/mp3/354.mp3 -> /content/drive/MyDrive/2025_VoicePhshing_Detection_Model/dataset/normal_dataset/wav/normal_354.wav\n",
            "✅ 변환 완료: normal_354.wav\n",
            "변환 시도 중: /content/drive/MyDrive/2025_VoicePhshing_Detection_Model/dataset/normal_dataset/mp3/355.mp3 -> /content/drive/MyDrive/2025_VoicePhshing_Detection_Model/dataset/normal_dataset/wav/normal_355.wav\n",
            "✅ 변환 완료: normal_355.wav\n",
            "변환 시도 중: /content/drive/MyDrive/2025_VoicePhshing_Detection_Model/dataset/normal_dataset/mp3/356.mp3 -> /content/drive/MyDrive/2025_VoicePhshing_Detection_Model/dataset/normal_dataset/wav/normal_356.wav\n",
            "✅ 변환 완료: normal_356.wav\n",
            "변환 시도 중: /content/drive/MyDrive/2025_VoicePhshing_Detection_Model/dataset/normal_dataset/mp3/357.mp3 -> /content/drive/MyDrive/2025_VoicePhshing_Detection_Model/dataset/normal_dataset/wav/normal_357.wav\n",
            "✅ 변환 완료: normal_357.wav\n",
            "변환 시도 중: /content/drive/MyDrive/2025_VoicePhshing_Detection_Model/dataset/normal_dataset/mp3/358.mp3 -> /content/drive/MyDrive/2025_VoicePhshing_Detection_Model/dataset/normal_dataset/wav/normal_358.wav\n",
            "✅ 변환 완료: normal_358.wav\n",
            "변환 시도 중: /content/drive/MyDrive/2025_VoicePhshing_Detection_Model/dataset/normal_dataset/mp3/359.mp3 -> /content/drive/MyDrive/2025_VoicePhshing_Detection_Model/dataset/normal_dataset/wav/normal_359.wav\n",
            "✅ 변환 완료: normal_359.wav\n",
            "변환 시도 중: /content/drive/MyDrive/2025_VoicePhshing_Detection_Model/dataset/normal_dataset/mp3/360.mp3 -> /content/drive/MyDrive/2025_VoicePhshing_Detection_Model/dataset/normal_dataset/wav/normal_360.wav\n",
            "✅ 변환 완료: normal_360.wav\n",
            "변환 시도 중: /content/drive/MyDrive/2025_VoicePhshing_Detection_Model/dataset/normal_dataset/mp3/361.mp3 -> /content/drive/MyDrive/2025_VoicePhshing_Detection_Model/dataset/normal_dataset/wav/normal_361.wav\n",
            "✅ 변환 완료: normal_361.wav\n",
            "변환 시도 중: /content/drive/MyDrive/2025_VoicePhshing_Detection_Model/dataset/normal_dataset/mp3/362.mp3 -> /content/drive/MyDrive/2025_VoicePhshing_Detection_Model/dataset/normal_dataset/wav/normal_362.wav\n",
            "✅ 변환 완료: normal_362.wav\n",
            "변환 시도 중: /content/drive/MyDrive/2025_VoicePhshing_Detection_Model/dataset/normal_dataset/mp3/363.mp3 -> /content/drive/MyDrive/2025_VoicePhshing_Detection_Model/dataset/normal_dataset/wav/normal_363.wav\n",
            "✅ 변환 완료: normal_363.wav\n",
            "변환 시도 중: /content/drive/MyDrive/2025_VoicePhshing_Detection_Model/dataset/normal_dataset/mp3/364.mp3 -> /content/drive/MyDrive/2025_VoicePhshing_Detection_Model/dataset/normal_dataset/wav/normal_364.wav\n",
            "✅ 변환 완료: normal_364.wav\n",
            "변환 시도 중: /content/drive/MyDrive/2025_VoicePhshing_Detection_Model/dataset/normal_dataset/mp3/365.mp3 -> /content/drive/MyDrive/2025_VoicePhshing_Detection_Model/dataset/normal_dataset/wav/normal_365.wav\n",
            "✅ 변환 완료: normal_365.wav\n",
            "변환 시도 중: /content/drive/MyDrive/2025_VoicePhshing_Detection_Model/dataset/normal_dataset/mp3/366.mp3 -> /content/drive/MyDrive/2025_VoicePhshing_Detection_Model/dataset/normal_dataset/wav/normal_366.wav\n",
            "✅ 변환 완료: normal_366.wav\n",
            "변환 시도 중: /content/drive/MyDrive/2025_VoicePhshing_Detection_Model/dataset/normal_dataset/mp3/367.mp3 -> /content/drive/MyDrive/2025_VoicePhshing_Detection_Model/dataset/normal_dataset/wav/normal_367.wav\n",
            "✅ 변환 완료: normal_367.wav\n",
            "변환 시도 중: /content/drive/MyDrive/2025_VoicePhshing_Detection_Model/dataset/normal_dataset/mp3/368.mp3 -> /content/drive/MyDrive/2025_VoicePhshing_Detection_Model/dataset/normal_dataset/wav/normal_368.wav\n",
            "✅ 변환 완료: normal_368.wav\n",
            "변환 시도 중: /content/drive/MyDrive/2025_VoicePhshing_Detection_Model/dataset/normal_dataset/mp3/369.mp3 -> /content/drive/MyDrive/2025_VoicePhshing_Detection_Model/dataset/normal_dataset/wav/normal_369.wav\n",
            "✅ 변환 완료: normal_369.wav\n",
            "변환 시도 중: /content/drive/MyDrive/2025_VoicePhshing_Detection_Model/dataset/normal_dataset/mp3/370.mp3 -> /content/drive/MyDrive/2025_VoicePhshing_Detection_Model/dataset/normal_dataset/wav/normal_370.wav\n",
            "✅ 변환 완료: normal_370.wav\n",
            "변환 시도 중: /content/drive/MyDrive/2025_VoicePhshing_Detection_Model/dataset/normal_dataset/mp3/371.mp3 -> /content/drive/MyDrive/2025_VoicePhshing_Detection_Model/dataset/normal_dataset/wav/normal_371.wav\n",
            "✅ 변환 완료: normal_371.wav\n",
            "변환 시도 중: /content/drive/MyDrive/2025_VoicePhshing_Detection_Model/dataset/normal_dataset/mp3/372.mp3 -> /content/drive/MyDrive/2025_VoicePhshing_Detection_Model/dataset/normal_dataset/wav/normal_372.wav\n",
            "✅ 변환 완료: normal_372.wav\n",
            "변환 시도 중: /content/drive/MyDrive/2025_VoicePhshing_Detection_Model/dataset/normal_dataset/mp3/373.mp3 -> /content/drive/MyDrive/2025_VoicePhshing_Detection_Model/dataset/normal_dataset/wav/normal_373.wav\n",
            "✅ 변환 완료: normal_373.wav\n",
            "변환 시도 중: /content/drive/MyDrive/2025_VoicePhshing_Detection_Model/dataset/normal_dataset/mp3/374.mp3 -> /content/drive/MyDrive/2025_VoicePhshing_Detection_Model/dataset/normal_dataset/wav/normal_374.wav\n",
            "✅ 변환 완료: normal_374.wav\n",
            "변환 시도 중: /content/drive/MyDrive/2025_VoicePhshing_Detection_Model/dataset/normal_dataset/mp3/375.mp3 -> /content/drive/MyDrive/2025_VoicePhshing_Detection_Model/dataset/normal_dataset/wav/normal_375.wav\n",
            "✅ 변환 완료: normal_375.wav\n",
            "변환 시도 중: /content/drive/MyDrive/2025_VoicePhshing_Detection_Model/dataset/normal_dataset/mp3/376.mp3 -> /content/drive/MyDrive/2025_VoicePhshing_Detection_Model/dataset/normal_dataset/wav/normal_376.wav\n",
            "✅ 변환 완료: normal_376.wav\n",
            "변환 시도 중: /content/drive/MyDrive/2025_VoicePhshing_Detection_Model/dataset/normal_dataset/mp3/377.mp3 -> /content/drive/MyDrive/2025_VoicePhshing_Detection_Model/dataset/normal_dataset/wav/normal_377.wav\n",
            "✅ 변환 완료: normal_377.wav\n",
            "변환 시도 중: /content/drive/MyDrive/2025_VoicePhshing_Detection_Model/dataset/normal_dataset/mp3/378.mp3 -> /content/drive/MyDrive/2025_VoicePhshing_Detection_Model/dataset/normal_dataset/wav/normal_378.wav\n",
            "✅ 변환 완료: normal_378.wav\n",
            "변환 시도 중: /content/drive/MyDrive/2025_VoicePhshing_Detection_Model/dataset/normal_dataset/mp3/379.mp3 -> /content/drive/MyDrive/2025_VoicePhshing_Detection_Model/dataset/normal_dataset/wav/normal_379.wav\n",
            "✅ 변환 완료: normal_379.wav\n",
            "변환 시도 중: /content/drive/MyDrive/2025_VoicePhshing_Detection_Model/dataset/normal_dataset/mp3/380.mp3 -> /content/drive/MyDrive/2025_VoicePhshing_Detection_Model/dataset/normal_dataset/wav/normal_380.wav\n",
            "✅ 변환 완료: normal_380.wav\n",
            "변환 시도 중: /content/drive/MyDrive/2025_VoicePhshing_Detection_Model/dataset/normal_dataset/mp3/381.mp3 -> /content/drive/MyDrive/2025_VoicePhshing_Detection_Model/dataset/normal_dataset/wav/normal_381.wav\n",
            "✅ 변환 완료: normal_381.wav\n",
            "변환 시도 중: /content/drive/MyDrive/2025_VoicePhshing_Detection_Model/dataset/normal_dataset/mp3/382.mp3 -> /content/drive/MyDrive/2025_VoicePhshing_Detection_Model/dataset/normal_dataset/wav/normal_382.wav\n",
            "✅ 변환 완료: normal_382.wav\n",
            "변환 시도 중: /content/drive/MyDrive/2025_VoicePhshing_Detection_Model/dataset/normal_dataset/mp3/383.mp3 -> /content/drive/MyDrive/2025_VoicePhshing_Detection_Model/dataset/normal_dataset/wav/normal_383.wav\n",
            "✅ 변환 완료: normal_383.wav\n",
            "변환 시도 중: /content/drive/MyDrive/2025_VoicePhshing_Detection_Model/dataset/normal_dataset/mp3/384.mp3 -> /content/drive/MyDrive/2025_VoicePhshing_Detection_Model/dataset/normal_dataset/wav/normal_384.wav\n",
            "✅ 변환 완료: normal_384.wav\n",
            "변환 시도 중: /content/drive/MyDrive/2025_VoicePhshing_Detection_Model/dataset/normal_dataset/mp3/385.mp3 -> /content/drive/MyDrive/2025_VoicePhshing_Detection_Model/dataset/normal_dataset/wav/normal_385.wav\n",
            "✅ 변환 완료: normal_385.wav\n",
            "변환 시도 중: /content/drive/MyDrive/2025_VoicePhshing_Detection_Model/dataset/normal_dataset/mp3/386.mp3 -> /content/drive/MyDrive/2025_VoicePhshing_Detection_Model/dataset/normal_dataset/wav/normal_386.wav\n",
            "✅ 변환 완료: normal_386.wav\n",
            "변환 시도 중: /content/drive/MyDrive/2025_VoicePhshing_Detection_Model/dataset/normal_dataset/mp3/387.mp3 -> /content/drive/MyDrive/2025_VoicePhshing_Detection_Model/dataset/normal_dataset/wav/normal_387.wav\n",
            "✅ 변환 완료: normal_387.wav\n",
            "변환 시도 중: /content/drive/MyDrive/2025_VoicePhshing_Detection_Model/dataset/normal_dataset/mp3/388.mp3 -> /content/drive/MyDrive/2025_VoicePhshing_Detection_Model/dataset/normal_dataset/wav/normal_388.wav\n",
            "✅ 변환 완료: normal_388.wav\n",
            "변환 시도 중: /content/drive/MyDrive/2025_VoicePhshing_Detection_Model/dataset/normal_dataset/mp3/389.mp3 -> /content/drive/MyDrive/2025_VoicePhshing_Detection_Model/dataset/normal_dataset/wav/normal_389.wav\n",
            "✅ 변환 완료: normal_389.wav\n",
            "변환 시도 중: /content/drive/MyDrive/2025_VoicePhshing_Detection_Model/dataset/normal_dataset/mp3/390.mp3 -> /content/drive/MyDrive/2025_VoicePhshing_Detection_Model/dataset/normal_dataset/wav/normal_390.wav\n",
            "✅ 변환 완료: normal_390.wav\n",
            "변환 시도 중: /content/drive/MyDrive/2025_VoicePhshing_Detection_Model/dataset/normal_dataset/mp3/391.mp3 -> /content/drive/MyDrive/2025_VoicePhshing_Detection_Model/dataset/normal_dataset/wav/normal_391.wav\n",
            "✅ 변환 완료: normal_391.wav\n",
            "변환 시도 중: /content/drive/MyDrive/2025_VoicePhshing_Detection_Model/dataset/normal_dataset/mp3/392.mp3 -> /content/drive/MyDrive/2025_VoicePhshing_Detection_Model/dataset/normal_dataset/wav/normal_392.wav\n",
            "✅ 변환 완료: normal_392.wav\n",
            "변환 시도 중: /content/drive/MyDrive/2025_VoicePhshing_Detection_Model/dataset/normal_dataset/mp3/393.mp3 -> /content/drive/MyDrive/2025_VoicePhshing_Detection_Model/dataset/normal_dataset/wav/normal_393.wav\n",
            "✅ 변환 완료: normal_393.wav\n",
            "변환 시도 중: /content/drive/MyDrive/2025_VoicePhshing_Detection_Model/dataset/normal_dataset/mp3/394.mp3 -> /content/drive/MyDrive/2025_VoicePhshing_Detection_Model/dataset/normal_dataset/wav/normal_394.wav\n",
            "✅ 변환 완료: normal_394.wav\n",
            "변환 시도 중: /content/drive/MyDrive/2025_VoicePhshing_Detection_Model/dataset/normal_dataset/mp3/395.mp3 -> /content/drive/MyDrive/2025_VoicePhshing_Detection_Model/dataset/normal_dataset/wav/normal_395.wav\n",
            "✅ 변환 완료: normal_395.wav\n",
            "변환 시도 중: /content/drive/MyDrive/2025_VoicePhshing_Detection_Model/dataset/normal_dataset/mp3/396.mp3 -> /content/drive/MyDrive/2025_VoicePhshing_Detection_Model/dataset/normal_dataset/wav/normal_396.wav\n",
            "✅ 변환 완료: normal_396.wav\n",
            "변환 시도 중: /content/drive/MyDrive/2025_VoicePhshing_Detection_Model/dataset/normal_dataset/mp3/397.mp3 -> /content/drive/MyDrive/2025_VoicePhshing_Detection_Model/dataset/normal_dataset/wav/normal_397.wav\n",
            "✅ 변환 완료: normal_397.wav\n",
            "변환 시도 중: /content/drive/MyDrive/2025_VoicePhshing_Detection_Model/dataset/normal_dataset/mp3/398.mp3 -> /content/drive/MyDrive/2025_VoicePhshing_Detection_Model/dataset/normal_dataset/wav/normal_398.wav\n",
            "✅ 변환 완료: normal_398.wav\n",
            "변환 시도 중: /content/drive/MyDrive/2025_VoicePhshing_Detection_Model/dataset/normal_dataset/mp3/399.mp3 -> /content/drive/MyDrive/2025_VoicePhshing_Detection_Model/dataset/normal_dataset/wav/normal_399.wav\n",
            "✅ 변환 완료: normal_399.wav\n",
            "변환 시도 중: /content/drive/MyDrive/2025_VoicePhshing_Detection_Model/dataset/normal_dataset/mp3/400.mp3 -> /content/drive/MyDrive/2025_VoicePhshing_Detection_Model/dataset/normal_dataset/wav/normal_400.wav\n",
            "✅ 변환 완료: normal_400.wav\n",
            "변환 시도 중: /content/drive/MyDrive/2025_VoicePhshing_Detection_Model/dataset/normal_dataset/mp3/401.mp3 -> /content/drive/MyDrive/2025_VoicePhshing_Detection_Model/dataset/normal_dataset/wav/normal_401.wav\n",
            "✅ 변환 완료: normal_401.wav\n",
            "변환 시도 중: /content/drive/MyDrive/2025_VoicePhshing_Detection_Model/dataset/normal_dataset/mp3/402.mp3 -> /content/drive/MyDrive/2025_VoicePhshing_Detection_Model/dataset/normal_dataset/wav/normal_402.wav\n",
            "✅ 변환 완료: normal_402.wav\n",
            "변환 시도 중: /content/drive/MyDrive/2025_VoicePhshing_Detection_Model/dataset/normal_dataset/mp3/403.mp3 -> /content/drive/MyDrive/2025_VoicePhshing_Detection_Model/dataset/normal_dataset/wav/normal_403.wav\n",
            "✅ 변환 완료: normal_403.wav\n",
            "변환 시도 중: /content/drive/MyDrive/2025_VoicePhshing_Detection_Model/dataset/normal_dataset/mp3/404.mp3 -> /content/drive/MyDrive/2025_VoicePhshing_Detection_Model/dataset/normal_dataset/wav/normal_404.wav\n",
            "✅ 변환 완료: normal_404.wav\n",
            "변환 시도 중: /content/drive/MyDrive/2025_VoicePhshing_Detection_Model/dataset/normal_dataset/mp3/405.mp3 -> /content/drive/MyDrive/2025_VoicePhshing_Detection_Model/dataset/normal_dataset/wav/normal_405.wav\n",
            "✅ 변환 완료: normal_405.wav\n",
            "변환 시도 중: /content/drive/MyDrive/2025_VoicePhshing_Detection_Model/dataset/normal_dataset/mp3/406.mp3 -> /content/drive/MyDrive/2025_VoicePhshing_Detection_Model/dataset/normal_dataset/wav/normal_406.wav\n",
            "✅ 변환 완료: normal_406.wav\n",
            "변환 시도 중: /content/drive/MyDrive/2025_VoicePhshing_Detection_Model/dataset/normal_dataset/mp3/407.mp3 -> /content/drive/MyDrive/2025_VoicePhshing_Detection_Model/dataset/normal_dataset/wav/normal_407.wav\n",
            "✅ 변환 완료: normal_407.wav\n",
            "변환 시도 중: /content/drive/MyDrive/2025_VoicePhshing_Detection_Model/dataset/normal_dataset/mp3/408.mp3 -> /content/drive/MyDrive/2025_VoicePhshing_Detection_Model/dataset/normal_dataset/wav/normal_408.wav\n",
            "✅ 변환 완료: normal_408.wav\n",
            "변환 시도 중: /content/drive/MyDrive/2025_VoicePhshing_Detection_Model/dataset/normal_dataset/mp3/409.mp3 -> /content/drive/MyDrive/2025_VoicePhshing_Detection_Model/dataset/normal_dataset/wav/normal_409.wav\n",
            "✅ 변환 완료: normal_409.wav\n",
            "변환 시도 중: /content/drive/MyDrive/2025_VoicePhshing_Detection_Model/dataset/normal_dataset/mp3/410.mp3 -> /content/drive/MyDrive/2025_VoicePhshing_Detection_Model/dataset/normal_dataset/wav/normal_410.wav\n",
            "✅ 변환 완료: normal_410.wav\n",
            "변환 시도 중: /content/drive/MyDrive/2025_VoicePhshing_Detection_Model/dataset/normal_dataset/mp3/411.mp3 -> /content/drive/MyDrive/2025_VoicePhshing_Detection_Model/dataset/normal_dataset/wav/normal_411.wav\n",
            "✅ 변환 완료: normal_411.wav\n",
            "변환 시도 중: /content/drive/MyDrive/2025_VoicePhshing_Detection_Model/dataset/normal_dataset/mp3/412.mp3 -> /content/drive/MyDrive/2025_VoicePhshing_Detection_Model/dataset/normal_dataset/wav/normal_412.wav\n",
            "✅ 변환 완료: normal_412.wav\n",
            "변환 시도 중: /content/drive/MyDrive/2025_VoicePhshing_Detection_Model/dataset/normal_dataset/mp3/413.mp3 -> /content/drive/MyDrive/2025_VoicePhshing_Detection_Model/dataset/normal_dataset/wav/normal_413.wav\n",
            "✅ 변환 완료: normal_413.wav\n",
            "변환 시도 중: /content/drive/MyDrive/2025_VoicePhshing_Detection_Model/dataset/normal_dataset/mp3/414.mp3 -> /content/drive/MyDrive/2025_VoicePhshing_Detection_Model/dataset/normal_dataset/wav/normal_414.wav\n",
            "✅ 변환 완료: normal_414.wav\n",
            "변환 시도 중: /content/drive/MyDrive/2025_VoicePhshing_Detection_Model/dataset/normal_dataset/mp3/415.mp3 -> /content/drive/MyDrive/2025_VoicePhshing_Detection_Model/dataset/normal_dataset/wav/normal_415.wav\n",
            "✅ 변환 완료: normal_415.wav\n",
            "변환 시도 중: /content/drive/MyDrive/2025_VoicePhshing_Detection_Model/dataset/normal_dataset/mp3/416.mp3 -> /content/drive/MyDrive/2025_VoicePhshing_Detection_Model/dataset/normal_dataset/wav/normal_416.wav\n",
            "✅ 변환 완료: normal_416.wav\n",
            "변환 시도 중: /content/drive/MyDrive/2025_VoicePhshing_Detection_Model/dataset/normal_dataset/mp3/417.mp3 -> /content/drive/MyDrive/2025_VoicePhshing_Detection_Model/dataset/normal_dataset/wav/normal_417.wav\n",
            "✅ 변환 완료: normal_417.wav\n",
            "변환 시도 중: /content/drive/MyDrive/2025_VoicePhshing_Detection_Model/dataset/normal_dataset/mp3/418.mp3 -> /content/drive/MyDrive/2025_VoicePhshing_Detection_Model/dataset/normal_dataset/wav/normal_418.wav\n",
            "✅ 변환 완료: normal_418.wav\n",
            "변환 시도 중: /content/drive/MyDrive/2025_VoicePhshing_Detection_Model/dataset/normal_dataset/mp3/419.mp3 -> /content/drive/MyDrive/2025_VoicePhshing_Detection_Model/dataset/normal_dataset/wav/normal_419.wav\n",
            "✅ 변환 완료: normal_419.wav\n",
            "변환 시도 중: /content/drive/MyDrive/2025_VoicePhshing_Detection_Model/dataset/normal_dataset/mp3/420.mp3 -> /content/drive/MyDrive/2025_VoicePhshing_Detection_Model/dataset/normal_dataset/wav/normal_420.wav\n",
            "✅ 변환 완료: normal_420.wav\n",
            "변환 시도 중: /content/drive/MyDrive/2025_VoicePhshing_Detection_Model/dataset/normal_dataset/mp3/421.mp3 -> /content/drive/MyDrive/2025_VoicePhshing_Detection_Model/dataset/normal_dataset/wav/normal_421.wav\n",
            "✅ 변환 완료: normal_421.wav\n",
            "변환 시도 중: /content/drive/MyDrive/2025_VoicePhshing_Detection_Model/dataset/normal_dataset/mp3/422.mp3 -> /content/drive/MyDrive/2025_VoicePhshing_Detection_Model/dataset/normal_dataset/wav/normal_422.wav\n",
            "✅ 변환 완료: normal_422.wav\n",
            "변환 시도 중: /content/drive/MyDrive/2025_VoicePhshing_Detection_Model/dataset/normal_dataset/mp3/423.mp3 -> /content/drive/MyDrive/2025_VoicePhshing_Detection_Model/dataset/normal_dataset/wav/normal_423.wav\n",
            "✅ 변환 완료: normal_423.wav\n",
            "변환 시도 중: /content/drive/MyDrive/2025_VoicePhshing_Detection_Model/dataset/normal_dataset/mp3/424.mp3 -> /content/drive/MyDrive/2025_VoicePhshing_Detection_Model/dataset/normal_dataset/wav/normal_424.wav\n",
            "✅ 변환 완료: normal_424.wav\n",
            "변환 시도 중: /content/drive/MyDrive/2025_VoicePhshing_Detection_Model/dataset/normal_dataset/mp3/425.mp3 -> /content/drive/MyDrive/2025_VoicePhshing_Detection_Model/dataset/normal_dataset/wav/normal_425.wav\n",
            "✅ 변환 완료: normal_425.wav\n",
            "변환 시도 중: /content/drive/MyDrive/2025_VoicePhshing_Detection_Model/dataset/normal_dataset/mp3/426.mp3 -> /content/drive/MyDrive/2025_VoicePhshing_Detection_Model/dataset/normal_dataset/wav/normal_426.wav\n",
            "✅ 변환 완료: normal_426.wav\n",
            "변환 시도 중: /content/drive/MyDrive/2025_VoicePhshing_Detection_Model/dataset/normal_dataset/mp3/427.mp3 -> /content/drive/MyDrive/2025_VoicePhshing_Detection_Model/dataset/normal_dataset/wav/normal_427.wav\n",
            "✅ 변환 완료: normal_427.wav\n",
            "변환 시도 중: /content/drive/MyDrive/2025_VoicePhshing_Detection_Model/dataset/normal_dataset/mp3/428.mp3 -> /content/drive/MyDrive/2025_VoicePhshing_Detection_Model/dataset/normal_dataset/wav/normal_428.wav\n",
            "✅ 변환 완료: normal_428.wav\n",
            "변환 시도 중: /content/drive/MyDrive/2025_VoicePhshing_Detection_Model/dataset/normal_dataset/mp3/429.mp3 -> /content/drive/MyDrive/2025_VoicePhshing_Detection_Model/dataset/normal_dataset/wav/normal_429.wav\n",
            "✅ 변환 완료: normal_429.wav\n",
            "변환 시도 중: /content/drive/MyDrive/2025_VoicePhshing_Detection_Model/dataset/normal_dataset/mp3/430.mp3 -> /content/drive/MyDrive/2025_VoicePhshing_Detection_Model/dataset/normal_dataset/wav/normal_430.wav\n",
            "✅ 변환 완료: normal_430.wav\n",
            "변환 시도 중: /content/drive/MyDrive/2025_VoicePhshing_Detection_Model/dataset/normal_dataset/mp3/431.mp3 -> /content/drive/MyDrive/2025_VoicePhshing_Detection_Model/dataset/normal_dataset/wav/normal_431.wav\n",
            "✅ 변환 완료: normal_431.wav\n",
            "변환 시도 중: /content/drive/MyDrive/2025_VoicePhshing_Detection_Model/dataset/normal_dataset/mp3/432.mp3 -> /content/drive/MyDrive/2025_VoicePhshing_Detection_Model/dataset/normal_dataset/wav/normal_432.wav\n",
            "✅ 변환 완료: normal_432.wav\n",
            "변환 시도 중: /content/drive/MyDrive/2025_VoicePhshing_Detection_Model/dataset/normal_dataset/mp3/433.mp3 -> /content/drive/MyDrive/2025_VoicePhshing_Detection_Model/dataset/normal_dataset/wav/normal_433.wav\n",
            "✅ 변환 완료: normal_433.wav\n",
            "변환 시도 중: /content/drive/MyDrive/2025_VoicePhshing_Detection_Model/dataset/normal_dataset/mp3/434.mp3 -> /content/drive/MyDrive/2025_VoicePhshing_Detection_Model/dataset/normal_dataset/wav/normal_434.wav\n",
            "✅ 변환 완료: normal_434.wav\n",
            "변환 시도 중: /content/drive/MyDrive/2025_VoicePhshing_Detection_Model/dataset/normal_dataset/mp3/435.mp3 -> /content/drive/MyDrive/2025_VoicePhshing_Detection_Model/dataset/normal_dataset/wav/normal_435.wav\n",
            "✅ 변환 완료: normal_435.wav\n",
            "변환 시도 중: /content/drive/MyDrive/2025_VoicePhshing_Detection_Model/dataset/normal_dataset/mp3/436.mp3 -> /content/drive/MyDrive/2025_VoicePhshing_Detection_Model/dataset/normal_dataset/wav/normal_436.wav\n",
            "✅ 변환 완료: normal_436.wav\n",
            "변환 시도 중: /content/drive/MyDrive/2025_VoicePhshing_Detection_Model/dataset/normal_dataset/mp3/437.mp3 -> /content/drive/MyDrive/2025_VoicePhshing_Detection_Model/dataset/normal_dataset/wav/normal_437.wav\n",
            "✅ 변환 완료: normal_437.wav\n",
            "변환 시도 중: /content/drive/MyDrive/2025_VoicePhshing_Detection_Model/dataset/normal_dataset/mp3/438.mp3 -> /content/drive/MyDrive/2025_VoicePhshing_Detection_Model/dataset/normal_dataset/wav/normal_438.wav\n",
            "✅ 변환 완료: normal_438.wav\n",
            "변환 시도 중: /content/drive/MyDrive/2025_VoicePhshing_Detection_Model/dataset/normal_dataset/mp3/439.mp3 -> /content/drive/MyDrive/2025_VoicePhshing_Detection_Model/dataset/normal_dataset/wav/normal_439.wav\n",
            "✅ 변환 완료: normal_439.wav\n",
            "변환 시도 중: /content/drive/MyDrive/2025_VoicePhshing_Detection_Model/dataset/normal_dataset/mp3/440.mp3 -> /content/drive/MyDrive/2025_VoicePhshing_Detection_Model/dataset/normal_dataset/wav/normal_440.wav\n",
            "✅ 변환 완료: normal_440.wav\n",
            "변환 시도 중: /content/drive/MyDrive/2025_VoicePhshing_Detection_Model/dataset/normal_dataset/mp3/441.mp3 -> /content/drive/MyDrive/2025_VoicePhshing_Detection_Model/dataset/normal_dataset/wav/normal_441.wav\n",
            "✅ 변환 완료: normal_441.wav\n",
            "변환 시도 중: /content/drive/MyDrive/2025_VoicePhshing_Detection_Model/dataset/normal_dataset/mp3/442.mp3 -> /content/drive/MyDrive/2025_VoicePhshing_Detection_Model/dataset/normal_dataset/wav/normal_442.wav\n",
            "✅ 변환 완료: normal_442.wav\n",
            "변환 시도 중: /content/drive/MyDrive/2025_VoicePhshing_Detection_Model/dataset/normal_dataset/mp3/443.mp3 -> /content/drive/MyDrive/2025_VoicePhshing_Detection_Model/dataset/normal_dataset/wav/normal_443.wav\n",
            "✅ 변환 완료: normal_443.wav\n",
            "변환 시도 중: /content/drive/MyDrive/2025_VoicePhshing_Detection_Model/dataset/normal_dataset/mp3/444.mp3 -> /content/drive/MyDrive/2025_VoicePhshing_Detection_Model/dataset/normal_dataset/wav/normal_444.wav\n",
            "✅ 변환 완료: normal_444.wav\n",
            "변환 시도 중: /content/drive/MyDrive/2025_VoicePhshing_Detection_Model/dataset/normal_dataset/mp3/445.mp3 -> /content/drive/MyDrive/2025_VoicePhshing_Detection_Model/dataset/normal_dataset/wav/normal_445.wav\n",
            "✅ 변환 완료: normal_445.wav\n",
            "변환 시도 중: /content/drive/MyDrive/2025_VoicePhshing_Detection_Model/dataset/normal_dataset/mp3/446.mp3 -> /content/drive/MyDrive/2025_VoicePhshing_Detection_Model/dataset/normal_dataset/wav/normal_446.wav\n",
            "✅ 변환 완료: normal_446.wav\n",
            "변환 시도 중: /content/drive/MyDrive/2025_VoicePhshing_Detection_Model/dataset/normal_dataset/mp3/447.mp3 -> /content/drive/MyDrive/2025_VoicePhshing_Detection_Model/dataset/normal_dataset/wav/normal_447.wav\n",
            "✅ 변환 완료: normal_447.wav\n",
            "변환 시도 중: /content/drive/MyDrive/2025_VoicePhshing_Detection_Model/dataset/normal_dataset/mp3/448.mp3 -> /content/drive/MyDrive/2025_VoicePhshing_Detection_Model/dataset/normal_dataset/wav/normal_448.wav\n",
            "✅ 변환 완료: normal_448.wav\n",
            "변환 시도 중: /content/drive/MyDrive/2025_VoicePhshing_Detection_Model/dataset/normal_dataset/mp3/449.mp3 -> /content/drive/MyDrive/2025_VoicePhshing_Detection_Model/dataset/normal_dataset/wav/normal_449.wav\n",
            "✅ 변환 완료: normal_449.wav\n",
            "변환 시도 중: /content/drive/MyDrive/2025_VoicePhshing_Detection_Model/dataset/normal_dataset/mp3/450.mp3 -> /content/drive/MyDrive/2025_VoicePhshing_Detection_Model/dataset/normal_dataset/wav/normal_450.wav\n",
            "✅ 변환 완료: normal_450.wav\n",
            "변환 시도 중: /content/drive/MyDrive/2025_VoicePhshing_Detection_Model/dataset/normal_dataset/mp3/451.mp3 -> /content/drive/MyDrive/2025_VoicePhshing_Detection_Model/dataset/normal_dataset/wav/normal_451.wav\n",
            "✅ 변환 완료: normal_451.wav\n",
            "변환 시도 중: /content/drive/MyDrive/2025_VoicePhshing_Detection_Model/dataset/normal_dataset/mp3/452.mp3 -> /content/drive/MyDrive/2025_VoicePhshing_Detection_Model/dataset/normal_dataset/wav/normal_452.wav\n",
            "✅ 변환 완료: normal_452.wav\n",
            "변환 시도 중: /content/drive/MyDrive/2025_VoicePhshing_Detection_Model/dataset/normal_dataset/mp3/453.mp3 -> /content/drive/MyDrive/2025_VoicePhshing_Detection_Model/dataset/normal_dataset/wav/normal_453.wav\n",
            "✅ 변환 완료: normal_453.wav\n",
            "변환 시도 중: /content/drive/MyDrive/2025_VoicePhshing_Detection_Model/dataset/normal_dataset/mp3/454.mp3 -> /content/drive/MyDrive/2025_VoicePhshing_Detection_Model/dataset/normal_dataset/wav/normal_454.wav\n",
            "✅ 변환 완료: normal_454.wav\n",
            "변환 시도 중: /content/drive/MyDrive/2025_VoicePhshing_Detection_Model/dataset/normal_dataset/mp3/455.mp3 -> /content/drive/MyDrive/2025_VoicePhshing_Detection_Model/dataset/normal_dataset/wav/normal_455.wav\n",
            "✅ 변환 완료: normal_455.wav\n",
            "변환 시도 중: /content/drive/MyDrive/2025_VoicePhshing_Detection_Model/dataset/normal_dataset/mp3/456.mp3 -> /content/drive/MyDrive/2025_VoicePhshing_Detection_Model/dataset/normal_dataset/wav/normal_456.wav\n",
            "✅ 변환 완료: normal_456.wav\n",
            "변환 시도 중: /content/drive/MyDrive/2025_VoicePhshing_Detection_Model/dataset/normal_dataset/mp3/457.mp3 -> /content/drive/MyDrive/2025_VoicePhshing_Detection_Model/dataset/normal_dataset/wav/normal_457.wav\n",
            "✅ 변환 완료: normal_457.wav\n",
            "변환 시도 중: /content/drive/MyDrive/2025_VoicePhshing_Detection_Model/dataset/normal_dataset/mp3/458.mp3 -> /content/drive/MyDrive/2025_VoicePhshing_Detection_Model/dataset/normal_dataset/wav/normal_458.wav\n",
            "✅ 변환 완료: normal_458.wav\n",
            "변환 시도 중: /content/drive/MyDrive/2025_VoicePhshing_Detection_Model/dataset/normal_dataset/mp3/459.mp3 -> /content/drive/MyDrive/2025_VoicePhshing_Detection_Model/dataset/normal_dataset/wav/normal_459.wav\n",
            "✅ 변환 완료: normal_459.wav\n",
            "변환 시도 중: /content/drive/MyDrive/2025_VoicePhshing_Detection_Model/dataset/normal_dataset/mp3/460.mp3 -> /content/drive/MyDrive/2025_VoicePhshing_Detection_Model/dataset/normal_dataset/wav/normal_460.wav\n",
            "✅ 변환 완료: normal_460.wav\n",
            "변환 시도 중: /content/drive/MyDrive/2025_VoicePhshing_Detection_Model/dataset/normal_dataset/mp3/461.mp3 -> /content/drive/MyDrive/2025_VoicePhshing_Detection_Model/dataset/normal_dataset/wav/normal_461.wav\n",
            "✅ 변환 완료: normal_461.wav\n",
            "변환 시도 중: /content/drive/MyDrive/2025_VoicePhshing_Detection_Model/dataset/normal_dataset/mp3/462.mp3 -> /content/drive/MyDrive/2025_VoicePhshing_Detection_Model/dataset/normal_dataset/wav/normal_462.wav\n",
            "✅ 변환 완료: normal_462.wav\n",
            "변환 시도 중: /content/drive/MyDrive/2025_VoicePhshing_Detection_Model/dataset/normal_dataset/mp3/463.mp3 -> /content/drive/MyDrive/2025_VoicePhshing_Detection_Model/dataset/normal_dataset/wav/normal_463.wav\n",
            "✅ 변환 완료: normal_463.wav\n",
            "변환 시도 중: /content/drive/MyDrive/2025_VoicePhshing_Detection_Model/dataset/normal_dataset/mp3/464.mp3 -> /content/drive/MyDrive/2025_VoicePhshing_Detection_Model/dataset/normal_dataset/wav/normal_464.wav\n",
            "✅ 변환 완료: normal_464.wav\n",
            "변환 시도 중: /content/drive/MyDrive/2025_VoicePhshing_Detection_Model/dataset/normal_dataset/mp3/465.mp3 -> /content/drive/MyDrive/2025_VoicePhshing_Detection_Model/dataset/normal_dataset/wav/normal_465.wav\n",
            "✅ 변환 완료: normal_465.wav\n",
            "변환 시도 중: /content/drive/MyDrive/2025_VoicePhshing_Detection_Model/dataset/normal_dataset/mp3/466.mp3 -> /content/drive/MyDrive/2025_VoicePhshing_Detection_Model/dataset/normal_dataset/wav/normal_466.wav\n",
            "✅ 변환 완료: normal_466.wav\n",
            "변환 시도 중: /content/drive/MyDrive/2025_VoicePhshing_Detection_Model/dataset/normal_dataset/mp3/467.mp3 -> /content/drive/MyDrive/2025_VoicePhshing_Detection_Model/dataset/normal_dataset/wav/normal_467.wav\n",
            "✅ 변환 완료: normal_467.wav\n",
            "변환 시도 중: /content/drive/MyDrive/2025_VoicePhshing_Detection_Model/dataset/normal_dataset/mp3/468.mp3 -> /content/drive/MyDrive/2025_VoicePhshing_Detection_Model/dataset/normal_dataset/wav/normal_468.wav\n",
            "✅ 변환 완료: normal_468.wav\n",
            "변환 시도 중: /content/drive/MyDrive/2025_VoicePhshing_Detection_Model/dataset/normal_dataset/mp3/469.mp3 -> /content/drive/MyDrive/2025_VoicePhshing_Detection_Model/dataset/normal_dataset/wav/normal_469.wav\n",
            "✅ 변환 완료: normal_469.wav\n",
            "변환 시도 중: /content/drive/MyDrive/2025_VoicePhshing_Detection_Model/dataset/normal_dataset/mp3/470.mp3 -> /content/drive/MyDrive/2025_VoicePhshing_Detection_Model/dataset/normal_dataset/wav/normal_470.wav\n",
            "✅ 변환 완료: normal_470.wav\n",
            "변환 시도 중: /content/drive/MyDrive/2025_VoicePhshing_Detection_Model/dataset/normal_dataset/mp3/471.mp3 -> /content/drive/MyDrive/2025_VoicePhshing_Detection_Model/dataset/normal_dataset/wav/normal_471.wav\n",
            "✅ 변환 완료: normal_471.wav\n",
            "변환 시도 중: /content/drive/MyDrive/2025_VoicePhshing_Detection_Model/dataset/normal_dataset/mp3/472.mp3 -> /content/drive/MyDrive/2025_VoicePhshing_Detection_Model/dataset/normal_dataset/wav/normal_472.wav\n",
            "✅ 변환 완료: normal_472.wav\n",
            "변환 시도 중: /content/drive/MyDrive/2025_VoicePhshing_Detection_Model/dataset/normal_dataset/mp3/473.mp3 -> /content/drive/MyDrive/2025_VoicePhshing_Detection_Model/dataset/normal_dataset/wav/normal_473.wav\n",
            "✅ 변환 완료: normal_473.wav\n",
            "변환 시도 중: /content/drive/MyDrive/2025_VoicePhshing_Detection_Model/dataset/normal_dataset/mp3/474.mp3 -> /content/drive/MyDrive/2025_VoicePhshing_Detection_Model/dataset/normal_dataset/wav/normal_474.wav\n",
            "✅ 변환 완료: normal_474.wav\n",
            "변환 시도 중: /content/drive/MyDrive/2025_VoicePhshing_Detection_Model/dataset/normal_dataset/mp3/475.mp3 -> /content/drive/MyDrive/2025_VoicePhshing_Detection_Model/dataset/normal_dataset/wav/normal_475.wav\n",
            "✅ 변환 완료: normal_475.wav\n",
            "변환 시도 중: /content/drive/MyDrive/2025_VoicePhshing_Detection_Model/dataset/normal_dataset/mp3/476.mp3 -> /content/drive/MyDrive/2025_VoicePhshing_Detection_Model/dataset/normal_dataset/wav/normal_476.wav\n",
            "✅ 변환 완료: normal_476.wav\n",
            "변환 시도 중: /content/drive/MyDrive/2025_VoicePhshing_Detection_Model/dataset/normal_dataset/mp3/477.mp3 -> /content/drive/MyDrive/2025_VoicePhshing_Detection_Model/dataset/normal_dataset/wav/normal_477.wav\n",
            "✅ 변환 완료: normal_477.wav\n",
            "변환 시도 중: /content/drive/MyDrive/2025_VoicePhshing_Detection_Model/dataset/normal_dataset/mp3/478.mp3 -> /content/drive/MyDrive/2025_VoicePhshing_Detection_Model/dataset/normal_dataset/wav/normal_478.wav\n",
            "✅ 변환 완료: normal_478.wav\n",
            "변환 시도 중: /content/drive/MyDrive/2025_VoicePhshing_Detection_Model/dataset/normal_dataset/mp3/479.mp3 -> /content/drive/MyDrive/2025_VoicePhshing_Detection_Model/dataset/normal_dataset/wav/normal_479.wav\n",
            "✅ 변환 완료: normal_479.wav\n",
            "변환 시도 중: /content/drive/MyDrive/2025_VoicePhshing_Detection_Model/dataset/normal_dataset/mp3/480.mp3 -> /content/drive/MyDrive/2025_VoicePhshing_Detection_Model/dataset/normal_dataset/wav/normal_480.wav\n",
            "✅ 변환 완료: normal_480.wav\n",
            "변환 시도 중: /content/drive/MyDrive/2025_VoicePhshing_Detection_Model/dataset/normal_dataset/mp3/481.mp3 -> /content/drive/MyDrive/2025_VoicePhshing_Detection_Model/dataset/normal_dataset/wav/normal_481.wav\n",
            "✅ 변환 완료: normal_481.wav\n",
            "변환 시도 중: /content/drive/MyDrive/2025_VoicePhshing_Detection_Model/dataset/normal_dataset/mp3/482.mp3 -> /content/drive/MyDrive/2025_VoicePhshing_Detection_Model/dataset/normal_dataset/wav/normal_482.wav\n",
            "✅ 변환 완료: normal_482.wav\n",
            "변환 시도 중: /content/drive/MyDrive/2025_VoicePhshing_Detection_Model/dataset/normal_dataset/mp3/483.mp3 -> /content/drive/MyDrive/2025_VoicePhshing_Detection_Model/dataset/normal_dataset/wav/normal_483.wav\n",
            "✅ 변환 완료: normal_483.wav\n",
            "변환 시도 중: /content/drive/MyDrive/2025_VoicePhshing_Detection_Model/dataset/normal_dataset/mp3/484.mp3 -> /content/drive/MyDrive/2025_VoicePhshing_Detection_Model/dataset/normal_dataset/wav/normal_484.wav\n",
            "✅ 변환 완료: normal_484.wav\n",
            "변환 시도 중: /content/drive/MyDrive/2025_VoicePhshing_Detection_Model/dataset/normal_dataset/mp3/485.mp3 -> /content/drive/MyDrive/2025_VoicePhshing_Detection_Model/dataset/normal_dataset/wav/normal_485.wav\n",
            "✅ 변환 완료: normal_485.wav\n",
            "변환 시도 중: /content/drive/MyDrive/2025_VoicePhshing_Detection_Model/dataset/normal_dataset/mp3/486.mp3 -> /content/drive/MyDrive/2025_VoicePhshing_Detection_Model/dataset/normal_dataset/wav/normal_486.wav\n",
            "✅ 변환 완료: normal_486.wav\n",
            "변환 시도 중: /content/drive/MyDrive/2025_VoicePhshing_Detection_Model/dataset/normal_dataset/mp3/487.mp3 -> /content/drive/MyDrive/2025_VoicePhshing_Detection_Model/dataset/normal_dataset/wav/normal_487.wav\n",
            "✅ 변환 완료: normal_487.wav\n",
            "변환 시도 중: /content/drive/MyDrive/2025_VoicePhshing_Detection_Model/dataset/normal_dataset/mp3/488.mp3 -> /content/drive/MyDrive/2025_VoicePhshing_Detection_Model/dataset/normal_dataset/wav/normal_488.wav\n",
            "✅ 변환 완료: normal_488.wav\n",
            "변환 시도 중: /content/drive/MyDrive/2025_VoicePhshing_Detection_Model/dataset/normal_dataset/mp3/489.mp3 -> /content/drive/MyDrive/2025_VoicePhshing_Detection_Model/dataset/normal_dataset/wav/normal_489.wav\n",
            "✅ 변환 완료: normal_489.wav\n",
            "변환 시도 중: /content/drive/MyDrive/2025_VoicePhshing_Detection_Model/dataset/normal_dataset/mp3/490.mp3 -> /content/drive/MyDrive/2025_VoicePhshing_Detection_Model/dataset/normal_dataset/wav/normal_490.wav\n",
            "✅ 변환 완료: normal_490.wav\n",
            "변환 시도 중: /content/drive/MyDrive/2025_VoicePhshing_Detection_Model/dataset/normal_dataset/mp3/491.mp3 -> /content/drive/MyDrive/2025_VoicePhshing_Detection_Model/dataset/normal_dataset/wav/normal_491.wav\n",
            "✅ 변환 완료: normal_491.wav\n",
            "변환 시도 중: /content/drive/MyDrive/2025_VoicePhshing_Detection_Model/dataset/normal_dataset/mp3/492.mp3 -> /content/drive/MyDrive/2025_VoicePhshing_Detection_Model/dataset/normal_dataset/wav/normal_492.wav\n",
            "✅ 변환 완료: normal_492.wav\n",
            "변환 시도 중: /content/drive/MyDrive/2025_VoicePhshing_Detection_Model/dataset/normal_dataset/mp3/493.mp3 -> /content/drive/MyDrive/2025_VoicePhshing_Detection_Model/dataset/normal_dataset/wav/normal_493.wav\n",
            "✅ 변환 완료: normal_493.wav\n",
            "변환 시도 중: /content/drive/MyDrive/2025_VoicePhshing_Detection_Model/dataset/normal_dataset/mp3/494.mp3 -> /content/drive/MyDrive/2025_VoicePhshing_Detection_Model/dataset/normal_dataset/wav/normal_494.wav\n",
            "✅ 변환 완료: normal_494.wav\n",
            "변환 시도 중: /content/drive/MyDrive/2025_VoicePhshing_Detection_Model/dataset/normal_dataset/mp3/495.mp3 -> /content/drive/MyDrive/2025_VoicePhshing_Detection_Model/dataset/normal_dataset/wav/normal_495.wav\n",
            "✅ 변환 완료: normal_495.wav\n",
            "변환 시도 중: /content/drive/MyDrive/2025_VoicePhshing_Detection_Model/dataset/normal_dataset/mp3/496.mp3 -> /content/drive/MyDrive/2025_VoicePhshing_Detection_Model/dataset/normal_dataset/wav/normal_496.wav\n",
            "✅ 변환 완료: normal_496.wav\n",
            "변환 시도 중: /content/drive/MyDrive/2025_VoicePhshing_Detection_Model/dataset/normal_dataset/mp3/497.mp3 -> /content/drive/MyDrive/2025_VoicePhshing_Detection_Model/dataset/normal_dataset/wav/normal_497.wav\n",
            "✅ 변환 완료: normal_497.wav\n",
            "변환 시도 중: /content/drive/MyDrive/2025_VoicePhshing_Detection_Model/dataset/normal_dataset/mp3/498.mp3 -> /content/drive/MyDrive/2025_VoicePhshing_Detection_Model/dataset/normal_dataset/wav/normal_498.wav\n",
            "✅ 변환 완료: normal_498.wav\n",
            "변환 시도 중: /content/drive/MyDrive/2025_VoicePhshing_Detection_Model/dataset/normal_dataset/mp3/499.mp3 -> /content/drive/MyDrive/2025_VoicePhshing_Detection_Model/dataset/normal_dataset/wav/normal_499.wav\n",
            "✅ 변환 완료: normal_499.wav\n",
            "변환 시도 중: /content/drive/MyDrive/2025_VoicePhshing_Detection_Model/dataset/normal_dataset/mp3/500.mp3 -> /content/drive/MyDrive/2025_VoicePhshing_Detection_Model/dataset/normal_dataset/wav/normal_500.wav\n",
            "✅ 변환 완료: normal_500.wav\n",
            "변환 시도 중: /content/drive/MyDrive/2025_VoicePhshing_Detection_Model/dataset/normal_dataset/mp3/501.mp3 -> /content/drive/MyDrive/2025_VoicePhshing_Detection_Model/dataset/normal_dataset/wav/normal_501.wav\n",
            "✅ 변환 완료: normal_501.wav\n",
            "변환 시도 중: /content/drive/MyDrive/2025_VoicePhshing_Detection_Model/dataset/normal_dataset/mp3/502.mp3 -> /content/drive/MyDrive/2025_VoicePhshing_Detection_Model/dataset/normal_dataset/wav/normal_502.wav\n",
            "✅ 변환 완료: normal_502.wav\n",
            "변환 시도 중: /content/drive/MyDrive/2025_VoicePhshing_Detection_Model/dataset/normal_dataset/mp3/503.mp3 -> /content/drive/MyDrive/2025_VoicePhshing_Detection_Model/dataset/normal_dataset/wav/normal_503.wav\n",
            "✅ 변환 완료: normal_503.wav\n",
            "변환 시도 중: /content/drive/MyDrive/2025_VoicePhshing_Detection_Model/dataset/normal_dataset/mp3/504.mp3 -> /content/drive/MyDrive/2025_VoicePhshing_Detection_Model/dataset/normal_dataset/wav/normal_504.wav\n",
            "✅ 변환 완료: normal_504.wav\n",
            "변환 시도 중: /content/drive/MyDrive/2025_VoicePhshing_Detection_Model/dataset/normal_dataset/mp3/505.mp3 -> /content/drive/MyDrive/2025_VoicePhshing_Detection_Model/dataset/normal_dataset/wav/normal_505.wav\n",
            "✅ 변환 완료: normal_505.wav\n",
            "변환 시도 중: /content/drive/MyDrive/2025_VoicePhshing_Detection_Model/dataset/normal_dataset/mp3/506.mp3 -> /content/drive/MyDrive/2025_VoicePhshing_Detection_Model/dataset/normal_dataset/wav/normal_506.wav\n",
            "✅ 변환 완료: normal_506.wav\n",
            "변환 시도 중: /content/drive/MyDrive/2025_VoicePhshing_Detection_Model/dataset/normal_dataset/mp3/507.mp3 -> /content/drive/MyDrive/2025_VoicePhshing_Detection_Model/dataset/normal_dataset/wav/normal_507.wav\n",
            "✅ 변환 완료: normal_507.wav\n",
            "변환 시도 중: /content/drive/MyDrive/2025_VoicePhshing_Detection_Model/dataset/normal_dataset/mp3/508.mp3 -> /content/drive/MyDrive/2025_VoicePhshing_Detection_Model/dataset/normal_dataset/wav/normal_508.wav\n",
            "✅ 변환 완료: normal_508.wav\n",
            "변환 시도 중: /content/drive/MyDrive/2025_VoicePhshing_Detection_Model/dataset/normal_dataset/mp3/509.mp3 -> /content/drive/MyDrive/2025_VoicePhshing_Detection_Model/dataset/normal_dataset/wav/normal_509.wav\n",
            "✅ 변환 완료: normal_509.wav\n",
            "변환 시도 중: /content/drive/MyDrive/2025_VoicePhshing_Detection_Model/dataset/normal_dataset/mp3/510.mp3 -> /content/drive/MyDrive/2025_VoicePhshing_Detection_Model/dataset/normal_dataset/wav/normal_510.wav\n",
            "✅ 변환 완료: normal_510.wav\n",
            "변환 시도 중: /content/drive/MyDrive/2025_VoicePhshing_Detection_Model/dataset/normal_dataset/mp3/511.mp3 -> /content/drive/MyDrive/2025_VoicePhshing_Detection_Model/dataset/normal_dataset/wav/normal_511.wav\n",
            "✅ 변환 완료: normal_511.wav\n",
            "변환 시도 중: /content/drive/MyDrive/2025_VoicePhshing_Detection_Model/dataset/normal_dataset/mp3/512.mp3 -> /content/drive/MyDrive/2025_VoicePhshing_Detection_Model/dataset/normal_dataset/wav/normal_512.wav\n",
            "✅ 변환 완료: normal_512.wav\n",
            "변환 시도 중: /content/drive/MyDrive/2025_VoicePhshing_Detection_Model/dataset/normal_dataset/mp3/513.mp3 -> /content/drive/MyDrive/2025_VoicePhshing_Detection_Model/dataset/normal_dataset/wav/normal_513.wav\n",
            "✅ 변환 완료: normal_513.wav\n",
            "변환 시도 중: /content/drive/MyDrive/2025_VoicePhshing_Detection_Model/dataset/normal_dataset/mp3/514.mp3 -> /content/drive/MyDrive/2025_VoicePhshing_Detection_Model/dataset/normal_dataset/wav/normal_514.wav\n",
            "✅ 변환 완료: normal_514.wav\n",
            "변환 시도 중: /content/drive/MyDrive/2025_VoicePhshing_Detection_Model/dataset/normal_dataset/mp3/515.mp3 -> /content/drive/MyDrive/2025_VoicePhshing_Detection_Model/dataset/normal_dataset/wav/normal_515.wav\n",
            "✅ 변환 완료: normal_515.wav\n",
            "변환 시도 중: /content/drive/MyDrive/2025_VoicePhshing_Detection_Model/dataset/normal_dataset/mp3/516.mp3 -> /content/drive/MyDrive/2025_VoicePhshing_Detection_Model/dataset/normal_dataset/wav/normal_516.wav\n",
            "✅ 변환 완료: normal_516.wav\n",
            "변환 시도 중: /content/drive/MyDrive/2025_VoicePhshing_Detection_Model/dataset/normal_dataset/mp3/517.mp3 -> /content/drive/MyDrive/2025_VoicePhshing_Detection_Model/dataset/normal_dataset/wav/normal_517.wav\n",
            "✅ 변환 완료: normal_517.wav\n",
            "변환 시도 중: /content/drive/MyDrive/2025_VoicePhshing_Detection_Model/dataset/normal_dataset/mp3/518.mp3 -> /content/drive/MyDrive/2025_VoicePhshing_Detection_Model/dataset/normal_dataset/wav/normal_518.wav\n",
            "✅ 변환 완료: normal_518.wav\n",
            "변환 시도 중: /content/drive/MyDrive/2025_VoicePhshing_Detection_Model/dataset/normal_dataset/mp3/532.mp3 -> /content/drive/MyDrive/2025_VoicePhshing_Detection_Model/dataset/normal_dataset/wav/normal_532.wav\n",
            "✅ 변환 완료: normal_532.wav\n",
            "변환 시도 중: /content/drive/MyDrive/2025_VoicePhshing_Detection_Model/dataset/normal_dataset/mp3/543.mp3 -> /content/drive/MyDrive/2025_VoicePhshing_Detection_Model/dataset/normal_dataset/wav/normal_543.wav\n",
            "✅ 변환 완료: normal_543.wav\n",
            "변환 시도 중: /content/drive/MyDrive/2025_VoicePhshing_Detection_Model/dataset/normal_dataset/mp3/554.mp3 -> /content/drive/MyDrive/2025_VoicePhshing_Detection_Model/dataset/normal_dataset/wav/normal_554.wav\n",
            "✅ 변환 완료: normal_554.wav\n",
            "변환 시도 중: /content/drive/MyDrive/2025_VoicePhshing_Detection_Model/dataset/normal_dataset/mp3/565.mp3 -> /content/drive/MyDrive/2025_VoicePhshing_Detection_Model/dataset/normal_dataset/wav/normal_565.wav\n",
            "✅ 변환 완료: normal_565.wav\n",
            "변환 시도 중: /content/drive/MyDrive/2025_VoicePhshing_Detection_Model/dataset/normal_dataset/mp3/576.mp3 -> /content/drive/MyDrive/2025_VoicePhshing_Detection_Model/dataset/normal_dataset/wav/normal_576.wav\n",
            "✅ 변환 완료: normal_576.wav\n",
            "변환 시도 중: /content/drive/MyDrive/2025_VoicePhshing_Detection_Model/dataset/normal_dataset/mp3/587.mp3 -> /content/drive/MyDrive/2025_VoicePhshing_Detection_Model/dataset/normal_dataset/wav/normal_587.wav\n",
            "✅ 변환 완료: normal_587.wav\n",
            "변환 시도 중: /content/drive/MyDrive/2025_VoicePhshing_Detection_Model/dataset/normal_dataset/mp3/598.mp3 -> /content/drive/MyDrive/2025_VoicePhshing_Detection_Model/dataset/normal_dataset/wav/normal_598.wav\n",
            "✅ 변환 완료: normal_598.wav\n",
            "변환 시도 중: /content/drive/MyDrive/2025_VoicePhshing_Detection_Model/dataset/normal_dataset/mp3/609.mp3 -> /content/drive/MyDrive/2025_VoicePhshing_Detection_Model/dataset/normal_dataset/wav/normal_609.wav\n",
            "✅ 변환 완료: normal_609.wav\n",
            "변환 시도 중: /content/drive/MyDrive/2025_VoicePhshing_Detection_Model/dataset/normal_dataset/mp3/519.mp3 -> /content/drive/MyDrive/2025_VoicePhshing_Detection_Model/dataset/normal_dataset/wav/normal_519.wav\n",
            "✅ 변환 완료: normal_519.wav\n",
            "변환 시도 중: /content/drive/MyDrive/2025_VoicePhshing_Detection_Model/dataset/normal_dataset/mp3/523.mp3 -> /content/drive/MyDrive/2025_VoicePhshing_Detection_Model/dataset/normal_dataset/wav/normal_523.wav\n",
            "✅ 변환 완료: normal_523.wav\n",
            "변환 시도 중: /content/drive/MyDrive/2025_VoicePhshing_Detection_Model/dataset/normal_dataset/mp3/524.mp3 -> /content/drive/MyDrive/2025_VoicePhshing_Detection_Model/dataset/normal_dataset/wav/normal_524.wav\n",
            "✅ 변환 완료: normal_524.wav\n",
            "변환 시도 중: /content/drive/MyDrive/2025_VoicePhshing_Detection_Model/dataset/normal_dataset/mp3/525.mp3 -> /content/drive/MyDrive/2025_VoicePhshing_Detection_Model/dataset/normal_dataset/wav/normal_525.wav\n",
            "✅ 변환 완료: normal_525.wav\n",
            "변환 시도 중: /content/drive/MyDrive/2025_VoicePhshing_Detection_Model/dataset/normal_dataset/mp3/526.mp3 -> /content/drive/MyDrive/2025_VoicePhshing_Detection_Model/dataset/normal_dataset/wav/normal_526.wav\n",
            "✅ 변환 완료: normal_526.wav\n",
            "변환 시도 중: /content/drive/MyDrive/2025_VoicePhshing_Detection_Model/dataset/normal_dataset/mp3/527.mp3 -> /content/drive/MyDrive/2025_VoicePhshing_Detection_Model/dataset/normal_dataset/wav/normal_527.wav\n",
            "✅ 변환 완료: normal_527.wav\n",
            "변환 시도 중: /content/drive/MyDrive/2025_VoicePhshing_Detection_Model/dataset/normal_dataset/mp3/528.mp3 -> /content/drive/MyDrive/2025_VoicePhshing_Detection_Model/dataset/normal_dataset/wav/normal_528.wav\n",
            "✅ 변환 완료: normal_528.wav\n",
            "변환 시도 중: /content/drive/MyDrive/2025_VoicePhshing_Detection_Model/dataset/normal_dataset/mp3/529.mp3 -> /content/drive/MyDrive/2025_VoicePhshing_Detection_Model/dataset/normal_dataset/wav/normal_529.wav\n",
            "✅ 변환 완료: normal_529.wav\n",
            "변환 시도 중: /content/drive/MyDrive/2025_VoicePhshing_Detection_Model/dataset/normal_dataset/mp3/530.mp3 -> /content/drive/MyDrive/2025_VoicePhshing_Detection_Model/dataset/normal_dataset/wav/normal_530.wav\n",
            "✅ 변환 완료: normal_530.wav\n",
            "변환 시도 중: /content/drive/MyDrive/2025_VoicePhshing_Detection_Model/dataset/normal_dataset/mp3/531.mp3 -> /content/drive/MyDrive/2025_VoicePhshing_Detection_Model/dataset/normal_dataset/wav/normal_531.wav\n",
            "✅ 변환 완료: normal_531.wav\n",
            "변환 시도 중: /content/drive/MyDrive/2025_VoicePhshing_Detection_Model/dataset/normal_dataset/mp3/533.mp3 -> /content/drive/MyDrive/2025_VoicePhshing_Detection_Model/dataset/normal_dataset/wav/normal_533.wav\n",
            "✅ 변환 완료: normal_533.wav\n",
            "변환 시도 중: /content/drive/MyDrive/2025_VoicePhshing_Detection_Model/dataset/normal_dataset/mp3/534.mp3 -> /content/drive/MyDrive/2025_VoicePhshing_Detection_Model/dataset/normal_dataset/wav/normal_534.wav\n",
            "✅ 변환 완료: normal_534.wav\n",
            "변환 시도 중: /content/drive/MyDrive/2025_VoicePhshing_Detection_Model/dataset/normal_dataset/mp3/535.mp3 -> /content/drive/MyDrive/2025_VoicePhshing_Detection_Model/dataset/normal_dataset/wav/normal_535.wav\n",
            "✅ 변환 완료: normal_535.wav\n",
            "변환 시도 중: /content/drive/MyDrive/2025_VoicePhshing_Detection_Model/dataset/normal_dataset/mp3/536.mp3 -> /content/drive/MyDrive/2025_VoicePhshing_Detection_Model/dataset/normal_dataset/wav/normal_536.wav\n",
            "✅ 변환 완료: normal_536.wav\n",
            "변환 시도 중: /content/drive/MyDrive/2025_VoicePhshing_Detection_Model/dataset/normal_dataset/mp3/537.mp3 -> /content/drive/MyDrive/2025_VoicePhshing_Detection_Model/dataset/normal_dataset/wav/normal_537.wav\n",
            "✅ 변환 완료: normal_537.wav\n",
            "변환 시도 중: /content/drive/MyDrive/2025_VoicePhshing_Detection_Model/dataset/normal_dataset/mp3/538.mp3 -> /content/drive/MyDrive/2025_VoicePhshing_Detection_Model/dataset/normal_dataset/wav/normal_538.wav\n",
            "✅ 변환 완료: normal_538.wav\n",
            "변환 시도 중: /content/drive/MyDrive/2025_VoicePhshing_Detection_Model/dataset/normal_dataset/mp3/539.mp3 -> /content/drive/MyDrive/2025_VoicePhshing_Detection_Model/dataset/normal_dataset/wav/normal_539.wav\n",
            "✅ 변환 완료: normal_539.wav\n",
            "변환 시도 중: /content/drive/MyDrive/2025_VoicePhshing_Detection_Model/dataset/normal_dataset/mp3/540.mp3 -> /content/drive/MyDrive/2025_VoicePhshing_Detection_Model/dataset/normal_dataset/wav/normal_540.wav\n",
            "✅ 변환 완료: normal_540.wav\n",
            "변환 시도 중: /content/drive/MyDrive/2025_VoicePhshing_Detection_Model/dataset/normal_dataset/mp3/541.mp3 -> /content/drive/MyDrive/2025_VoicePhshing_Detection_Model/dataset/normal_dataset/wav/normal_541.wav\n",
            "✅ 변환 완료: normal_541.wav\n",
            "변환 시도 중: /content/drive/MyDrive/2025_VoicePhshing_Detection_Model/dataset/normal_dataset/mp3/542.mp3 -> /content/drive/MyDrive/2025_VoicePhshing_Detection_Model/dataset/normal_dataset/wav/normal_542.wav\n",
            "✅ 변환 완료: normal_542.wav\n",
            "변환 시도 중: /content/drive/MyDrive/2025_VoicePhshing_Detection_Model/dataset/normal_dataset/mp3/544.mp3 -> /content/drive/MyDrive/2025_VoicePhshing_Detection_Model/dataset/normal_dataset/wav/normal_544.wav\n",
            "✅ 변환 완료: normal_544.wav\n",
            "변환 시도 중: /content/drive/MyDrive/2025_VoicePhshing_Detection_Model/dataset/normal_dataset/mp3/545.mp3 -> /content/drive/MyDrive/2025_VoicePhshing_Detection_Model/dataset/normal_dataset/wav/normal_545.wav\n",
            "✅ 변환 완료: normal_545.wav\n",
            "변환 시도 중: /content/drive/MyDrive/2025_VoicePhshing_Detection_Model/dataset/normal_dataset/mp3/546.mp3 -> /content/drive/MyDrive/2025_VoicePhshing_Detection_Model/dataset/normal_dataset/wav/normal_546.wav\n",
            "✅ 변환 완료: normal_546.wav\n",
            "변환 시도 중: /content/drive/MyDrive/2025_VoicePhshing_Detection_Model/dataset/normal_dataset/mp3/547.mp3 -> /content/drive/MyDrive/2025_VoicePhshing_Detection_Model/dataset/normal_dataset/wav/normal_547.wav\n",
            "✅ 변환 완료: normal_547.wav\n",
            "변환 시도 중: /content/drive/MyDrive/2025_VoicePhshing_Detection_Model/dataset/normal_dataset/mp3/548.mp3 -> /content/drive/MyDrive/2025_VoicePhshing_Detection_Model/dataset/normal_dataset/wav/normal_548.wav\n",
            "✅ 변환 완료: normal_548.wav\n",
            "변환 시도 중: /content/drive/MyDrive/2025_VoicePhshing_Detection_Model/dataset/normal_dataset/mp3/549.mp3 -> /content/drive/MyDrive/2025_VoicePhshing_Detection_Model/dataset/normal_dataset/wav/normal_549.wav\n",
            "✅ 변환 완료: normal_549.wav\n",
            "변환 시도 중: /content/drive/MyDrive/2025_VoicePhshing_Detection_Model/dataset/normal_dataset/mp3/550.mp3 -> /content/drive/MyDrive/2025_VoicePhshing_Detection_Model/dataset/normal_dataset/wav/normal_550.wav\n",
            "✅ 변환 완료: normal_550.wav\n",
            "변환 시도 중: /content/drive/MyDrive/2025_VoicePhshing_Detection_Model/dataset/normal_dataset/mp3/551.mp3 -> /content/drive/MyDrive/2025_VoicePhshing_Detection_Model/dataset/normal_dataset/wav/normal_551.wav\n",
            "✅ 변환 완료: normal_551.wav\n",
            "변환 시도 중: /content/drive/MyDrive/2025_VoicePhshing_Detection_Model/dataset/normal_dataset/mp3/552.mp3 -> /content/drive/MyDrive/2025_VoicePhshing_Detection_Model/dataset/normal_dataset/wav/normal_552.wav\n",
            "✅ 변환 완료: normal_552.wav\n",
            "변환 시도 중: /content/drive/MyDrive/2025_VoicePhshing_Detection_Model/dataset/normal_dataset/mp3/553.mp3 -> /content/drive/MyDrive/2025_VoicePhshing_Detection_Model/dataset/normal_dataset/wav/normal_553.wav\n",
            "✅ 변환 완료: normal_553.wav\n",
            "변환 시도 중: /content/drive/MyDrive/2025_VoicePhshing_Detection_Model/dataset/normal_dataset/mp3/555.mp3 -> /content/drive/MyDrive/2025_VoicePhshing_Detection_Model/dataset/normal_dataset/wav/normal_555.wav\n",
            "✅ 변환 완료: normal_555.wav\n",
            "변환 시도 중: /content/drive/MyDrive/2025_VoicePhshing_Detection_Model/dataset/normal_dataset/mp3/556.mp3 -> /content/drive/MyDrive/2025_VoicePhshing_Detection_Model/dataset/normal_dataset/wav/normal_556.wav\n",
            "✅ 변환 완료: normal_556.wav\n",
            "변환 시도 중: /content/drive/MyDrive/2025_VoicePhshing_Detection_Model/dataset/normal_dataset/mp3/557.mp3 -> /content/drive/MyDrive/2025_VoicePhshing_Detection_Model/dataset/normal_dataset/wav/normal_557.wav\n",
            "✅ 변환 완료: normal_557.wav\n",
            "변환 시도 중: /content/drive/MyDrive/2025_VoicePhshing_Detection_Model/dataset/normal_dataset/mp3/558.mp3 -> /content/drive/MyDrive/2025_VoicePhshing_Detection_Model/dataset/normal_dataset/wav/normal_558.wav\n",
            "✅ 변환 완료: normal_558.wav\n",
            "변환 시도 중: /content/drive/MyDrive/2025_VoicePhshing_Detection_Model/dataset/normal_dataset/mp3/559.mp3 -> /content/drive/MyDrive/2025_VoicePhshing_Detection_Model/dataset/normal_dataset/wav/normal_559.wav\n",
            "✅ 변환 완료: normal_559.wav\n",
            "변환 시도 중: /content/drive/MyDrive/2025_VoicePhshing_Detection_Model/dataset/normal_dataset/mp3/560.mp3 -> /content/drive/MyDrive/2025_VoicePhshing_Detection_Model/dataset/normal_dataset/wav/normal_560.wav\n",
            "✅ 변환 완료: normal_560.wav\n",
            "변환 시도 중: /content/drive/MyDrive/2025_VoicePhshing_Detection_Model/dataset/normal_dataset/mp3/561.mp3 -> /content/drive/MyDrive/2025_VoicePhshing_Detection_Model/dataset/normal_dataset/wav/normal_561.wav\n",
            "✅ 변환 완료: normal_561.wav\n",
            "변환 시도 중: /content/drive/MyDrive/2025_VoicePhshing_Detection_Model/dataset/normal_dataset/mp3/562.mp3 -> /content/drive/MyDrive/2025_VoicePhshing_Detection_Model/dataset/normal_dataset/wav/normal_562.wav\n",
            "✅ 변환 완료: normal_562.wav\n",
            "변환 시도 중: /content/drive/MyDrive/2025_VoicePhshing_Detection_Model/dataset/normal_dataset/mp3/563.mp3 -> /content/drive/MyDrive/2025_VoicePhshing_Detection_Model/dataset/normal_dataset/wav/normal_563.wav\n",
            "✅ 변환 완료: normal_563.wav\n",
            "변환 시도 중: /content/drive/MyDrive/2025_VoicePhshing_Detection_Model/dataset/normal_dataset/mp3/564.mp3 -> /content/drive/MyDrive/2025_VoicePhshing_Detection_Model/dataset/normal_dataset/wav/normal_564.wav\n",
            "✅ 변환 완료: normal_564.wav\n",
            "변환 시도 중: /content/drive/MyDrive/2025_VoicePhshing_Detection_Model/dataset/normal_dataset/mp3/566.mp3 -> /content/drive/MyDrive/2025_VoicePhshing_Detection_Model/dataset/normal_dataset/wav/normal_566.wav\n",
            "✅ 변환 완료: normal_566.wav\n",
            "변환 시도 중: /content/drive/MyDrive/2025_VoicePhshing_Detection_Model/dataset/normal_dataset/mp3/567.mp3 -> /content/drive/MyDrive/2025_VoicePhshing_Detection_Model/dataset/normal_dataset/wav/normal_567.wav\n",
            "✅ 변환 완료: normal_567.wav\n",
            "변환 시도 중: /content/drive/MyDrive/2025_VoicePhshing_Detection_Model/dataset/normal_dataset/mp3/568.mp3 -> /content/drive/MyDrive/2025_VoicePhshing_Detection_Model/dataset/normal_dataset/wav/normal_568.wav\n",
            "✅ 변환 완료: normal_568.wav\n",
            "변환 시도 중: /content/drive/MyDrive/2025_VoicePhshing_Detection_Model/dataset/normal_dataset/mp3/569.mp3 -> /content/drive/MyDrive/2025_VoicePhshing_Detection_Model/dataset/normal_dataset/wav/normal_569.wav\n",
            "✅ 변환 완료: normal_569.wav\n",
            "변환 시도 중: /content/drive/MyDrive/2025_VoicePhshing_Detection_Model/dataset/normal_dataset/mp3/570.mp3 -> /content/drive/MyDrive/2025_VoicePhshing_Detection_Model/dataset/normal_dataset/wav/normal_570.wav\n",
            "✅ 변환 완료: normal_570.wav\n",
            "변환 시도 중: /content/drive/MyDrive/2025_VoicePhshing_Detection_Model/dataset/normal_dataset/mp3/571.mp3 -> /content/drive/MyDrive/2025_VoicePhshing_Detection_Model/dataset/normal_dataset/wav/normal_571.wav\n",
            "✅ 변환 완료: normal_571.wav\n",
            "변환 시도 중: /content/drive/MyDrive/2025_VoicePhshing_Detection_Model/dataset/normal_dataset/mp3/572.mp3 -> /content/drive/MyDrive/2025_VoicePhshing_Detection_Model/dataset/normal_dataset/wav/normal_572.wav\n",
            "✅ 변환 완료: normal_572.wav\n",
            "변환 시도 중: /content/drive/MyDrive/2025_VoicePhshing_Detection_Model/dataset/normal_dataset/mp3/573.mp3 -> /content/drive/MyDrive/2025_VoicePhshing_Detection_Model/dataset/normal_dataset/wav/normal_573.wav\n",
            "✅ 변환 완료: normal_573.wav\n",
            "변환 시도 중: /content/drive/MyDrive/2025_VoicePhshing_Detection_Model/dataset/normal_dataset/mp3/574.mp3 -> /content/drive/MyDrive/2025_VoicePhshing_Detection_Model/dataset/normal_dataset/wav/normal_574.wav\n",
            "✅ 변환 완료: normal_574.wav\n",
            "변환 시도 중: /content/drive/MyDrive/2025_VoicePhshing_Detection_Model/dataset/normal_dataset/mp3/575.mp3 -> /content/drive/MyDrive/2025_VoicePhshing_Detection_Model/dataset/normal_dataset/wav/normal_575.wav\n",
            "✅ 변환 완료: normal_575.wav\n",
            "변환 시도 중: /content/drive/MyDrive/2025_VoicePhshing_Detection_Model/dataset/normal_dataset/mp3/577.mp3 -> /content/drive/MyDrive/2025_VoicePhshing_Detection_Model/dataset/normal_dataset/wav/normal_577.wav\n",
            "✅ 변환 완료: normal_577.wav\n",
            "변환 시도 중: /content/drive/MyDrive/2025_VoicePhshing_Detection_Model/dataset/normal_dataset/mp3/578.mp3 -> /content/drive/MyDrive/2025_VoicePhshing_Detection_Model/dataset/normal_dataset/wav/normal_578.wav\n",
            "✅ 변환 완료: normal_578.wav\n",
            "변환 시도 중: /content/drive/MyDrive/2025_VoicePhshing_Detection_Model/dataset/normal_dataset/mp3/579.mp3 -> /content/drive/MyDrive/2025_VoicePhshing_Detection_Model/dataset/normal_dataset/wav/normal_579.wav\n",
            "✅ 변환 완료: normal_579.wav\n",
            "변환 시도 중: /content/drive/MyDrive/2025_VoicePhshing_Detection_Model/dataset/normal_dataset/mp3/580.mp3 -> /content/drive/MyDrive/2025_VoicePhshing_Detection_Model/dataset/normal_dataset/wav/normal_580.wav\n",
            "✅ 변환 완료: normal_580.wav\n",
            "변환 시도 중: /content/drive/MyDrive/2025_VoicePhshing_Detection_Model/dataset/normal_dataset/mp3/581.mp3 -> /content/drive/MyDrive/2025_VoicePhshing_Detection_Model/dataset/normal_dataset/wav/normal_581.wav\n",
            "✅ 변환 완료: normal_581.wav\n",
            "변환 시도 중: /content/drive/MyDrive/2025_VoicePhshing_Detection_Model/dataset/normal_dataset/mp3/582.mp3 -> /content/drive/MyDrive/2025_VoicePhshing_Detection_Model/dataset/normal_dataset/wav/normal_582.wav\n",
            "✅ 변환 완료: normal_582.wav\n",
            "변환 시도 중: /content/drive/MyDrive/2025_VoicePhshing_Detection_Model/dataset/normal_dataset/mp3/583.mp3 -> /content/drive/MyDrive/2025_VoicePhshing_Detection_Model/dataset/normal_dataset/wav/normal_583.wav\n",
            "✅ 변환 완료: normal_583.wav\n",
            "변환 시도 중: /content/drive/MyDrive/2025_VoicePhshing_Detection_Model/dataset/normal_dataset/mp3/584.mp3 -> /content/drive/MyDrive/2025_VoicePhshing_Detection_Model/dataset/normal_dataset/wav/normal_584.wav\n",
            "✅ 변환 완료: normal_584.wav\n",
            "변환 시도 중: /content/drive/MyDrive/2025_VoicePhshing_Detection_Model/dataset/normal_dataset/mp3/585.mp3 -> /content/drive/MyDrive/2025_VoicePhshing_Detection_Model/dataset/normal_dataset/wav/normal_585.wav\n",
            "✅ 변환 완료: normal_585.wav\n",
            "변환 시도 중: /content/drive/MyDrive/2025_VoicePhshing_Detection_Model/dataset/normal_dataset/mp3/586.mp3 -> /content/drive/MyDrive/2025_VoicePhshing_Detection_Model/dataset/normal_dataset/wav/normal_586.wav\n",
            "✅ 변환 완료: normal_586.wav\n",
            "변환 시도 중: /content/drive/MyDrive/2025_VoicePhshing_Detection_Model/dataset/normal_dataset/mp3/588.mp3 -> /content/drive/MyDrive/2025_VoicePhshing_Detection_Model/dataset/normal_dataset/wav/normal_588.wav\n",
            "✅ 변환 완료: normal_588.wav\n",
            "변환 시도 중: /content/drive/MyDrive/2025_VoicePhshing_Detection_Model/dataset/normal_dataset/mp3/589.mp3 -> /content/drive/MyDrive/2025_VoicePhshing_Detection_Model/dataset/normal_dataset/wav/normal_589.wav\n",
            "✅ 변환 완료: normal_589.wav\n",
            "변환 시도 중: /content/drive/MyDrive/2025_VoicePhshing_Detection_Model/dataset/normal_dataset/mp3/590.mp3 -> /content/drive/MyDrive/2025_VoicePhshing_Detection_Model/dataset/normal_dataset/wav/normal_590.wav\n",
            "✅ 변환 완료: normal_590.wav\n",
            "변환 시도 중: /content/drive/MyDrive/2025_VoicePhshing_Detection_Model/dataset/normal_dataset/mp3/591.mp3 -> /content/drive/MyDrive/2025_VoicePhshing_Detection_Model/dataset/normal_dataset/wav/normal_591.wav\n",
            "✅ 변환 완료: normal_591.wav\n",
            "변환 시도 중: /content/drive/MyDrive/2025_VoicePhshing_Detection_Model/dataset/normal_dataset/mp3/592.mp3 -> /content/drive/MyDrive/2025_VoicePhshing_Detection_Model/dataset/normal_dataset/wav/normal_592.wav\n",
            "✅ 변환 완료: normal_592.wav\n",
            "변환 시도 중: /content/drive/MyDrive/2025_VoicePhshing_Detection_Model/dataset/normal_dataset/mp3/593.mp3 -> /content/drive/MyDrive/2025_VoicePhshing_Detection_Model/dataset/normal_dataset/wav/normal_593.wav\n",
            "✅ 변환 완료: normal_593.wav\n",
            "변환 시도 중: /content/drive/MyDrive/2025_VoicePhshing_Detection_Model/dataset/normal_dataset/mp3/594.mp3 -> /content/drive/MyDrive/2025_VoicePhshing_Detection_Model/dataset/normal_dataset/wav/normal_594.wav\n",
            "✅ 변환 완료: normal_594.wav\n",
            "변환 시도 중: /content/drive/MyDrive/2025_VoicePhshing_Detection_Model/dataset/normal_dataset/mp3/595.mp3 -> /content/drive/MyDrive/2025_VoicePhshing_Detection_Model/dataset/normal_dataset/wav/normal_595.wav\n",
            "✅ 변환 완료: normal_595.wav\n",
            "변환 시도 중: /content/drive/MyDrive/2025_VoicePhshing_Detection_Model/dataset/normal_dataset/mp3/596.mp3 -> /content/drive/MyDrive/2025_VoicePhshing_Detection_Model/dataset/normal_dataset/wav/normal_596.wav\n",
            "✅ 변환 완료: normal_596.wav\n",
            "변환 시도 중: /content/drive/MyDrive/2025_VoicePhshing_Detection_Model/dataset/normal_dataset/mp3/597.mp3 -> /content/drive/MyDrive/2025_VoicePhshing_Detection_Model/dataset/normal_dataset/wav/normal_597.wav\n",
            "✅ 변환 완료: normal_597.wav\n",
            "변환 시도 중: /content/drive/MyDrive/2025_VoicePhshing_Detection_Model/dataset/normal_dataset/mp3/599.mp3 -> /content/drive/MyDrive/2025_VoicePhshing_Detection_Model/dataset/normal_dataset/wav/normal_599.wav\n",
            "✅ 변환 완료: normal_599.wav\n",
            "변환 시도 중: /content/drive/MyDrive/2025_VoicePhshing_Detection_Model/dataset/normal_dataset/mp3/600.mp3 -> /content/drive/MyDrive/2025_VoicePhshing_Detection_Model/dataset/normal_dataset/wav/normal_600.wav\n",
            "✅ 변환 완료: normal_600.wav\n",
            "변환 시도 중: /content/drive/MyDrive/2025_VoicePhshing_Detection_Model/dataset/normal_dataset/mp3/601.mp3 -> /content/drive/MyDrive/2025_VoicePhshing_Detection_Model/dataset/normal_dataset/wav/normal_601.wav\n",
            "✅ 변환 완료: normal_601.wav\n",
            "변환 시도 중: /content/drive/MyDrive/2025_VoicePhshing_Detection_Model/dataset/normal_dataset/mp3/602.mp3 -> /content/drive/MyDrive/2025_VoicePhshing_Detection_Model/dataset/normal_dataset/wav/normal_602.wav\n",
            "✅ 변환 완료: normal_602.wav\n",
            "변환 시도 중: /content/drive/MyDrive/2025_VoicePhshing_Detection_Model/dataset/normal_dataset/mp3/603.mp3 -> /content/drive/MyDrive/2025_VoicePhshing_Detection_Model/dataset/normal_dataset/wav/normal_603.wav\n",
            "✅ 변환 완료: normal_603.wav\n",
            "변환 시도 중: /content/drive/MyDrive/2025_VoicePhshing_Detection_Model/dataset/normal_dataset/mp3/604.mp3 -> /content/drive/MyDrive/2025_VoicePhshing_Detection_Model/dataset/normal_dataset/wav/normal_604.wav\n",
            "✅ 변환 완료: normal_604.wav\n",
            "변환 시도 중: /content/drive/MyDrive/2025_VoicePhshing_Detection_Model/dataset/normal_dataset/mp3/605.mp3 -> /content/drive/MyDrive/2025_VoicePhshing_Detection_Model/dataset/normal_dataset/wav/normal_605.wav\n",
            "✅ 변환 완료: normal_605.wav\n",
            "변환 시도 중: /content/drive/MyDrive/2025_VoicePhshing_Detection_Model/dataset/normal_dataset/mp3/606.mp3 -> /content/drive/MyDrive/2025_VoicePhshing_Detection_Model/dataset/normal_dataset/wav/normal_606.wav\n",
            "✅ 변환 완료: normal_606.wav\n",
            "변환 시도 중: /content/drive/MyDrive/2025_VoicePhshing_Detection_Model/dataset/normal_dataset/mp3/607.mp3 -> /content/drive/MyDrive/2025_VoicePhshing_Detection_Model/dataset/normal_dataset/wav/normal_607.wav\n",
            "✅ 변환 완료: normal_607.wav\n",
            "변환 시도 중: /content/drive/MyDrive/2025_VoicePhshing_Detection_Model/dataset/normal_dataset/mp3/608.mp3 -> /content/drive/MyDrive/2025_VoicePhshing_Detection_Model/dataset/normal_dataset/wav/normal_608.wav\n",
            "✅ 변환 완료: normal_608.wav\n",
            "변환 시도 중: /content/drive/MyDrive/2025_VoicePhshing_Detection_Model/dataset/normal_dataset/mp3/610.mp3 -> /content/drive/MyDrive/2025_VoicePhshing_Detection_Model/dataset/normal_dataset/wav/normal_610.wav\n",
            "✅ 변환 완료: normal_610.wav\n",
            "변환 시도 중: /content/drive/MyDrive/2025_VoicePhshing_Detection_Model/dataset/normal_dataset/mp3/611.mp3 -> /content/drive/MyDrive/2025_VoicePhshing_Detection_Model/dataset/normal_dataset/wav/normal_611.wav\n",
            "✅ 변환 완료: normal_611.wav\n",
            "변환 시도 중: /content/drive/MyDrive/2025_VoicePhshing_Detection_Model/dataset/normal_dataset/mp3/612.mp3 -> /content/drive/MyDrive/2025_VoicePhshing_Detection_Model/dataset/normal_dataset/wav/normal_612.wav\n",
            "✅ 변환 완료: normal_612.wav\n",
            "변환 시도 중: /content/drive/MyDrive/2025_VoicePhshing_Detection_Model/dataset/normal_dataset/mp3/613.mp3 -> /content/drive/MyDrive/2025_VoicePhshing_Detection_Model/dataset/normal_dataset/wav/normal_613.wav\n",
            "✅ 변환 완료: normal_613.wav\n",
            "변환 시도 중: /content/drive/MyDrive/2025_VoicePhshing_Detection_Model/dataset/normal_dataset/mp3/614.mp3 -> /content/drive/MyDrive/2025_VoicePhshing_Detection_Model/dataset/normal_dataset/wav/normal_614.wav\n",
            "✅ 변환 완료: normal_614.wav\n",
            "변환 시도 중: /content/drive/MyDrive/2025_VoicePhshing_Detection_Model/dataset/normal_dataset/mp3/615.mp3 -> /content/drive/MyDrive/2025_VoicePhshing_Detection_Model/dataset/normal_dataset/wav/normal_615.wav\n",
            "✅ 변환 완료: normal_615.wav\n",
            "변환 시도 중: /content/drive/MyDrive/2025_VoicePhshing_Detection_Model/dataset/normal_dataset/mp3/616.mp3 -> /content/drive/MyDrive/2025_VoicePhshing_Detection_Model/dataset/normal_dataset/wav/normal_616.wav\n",
            "✅ 변환 완료: normal_616.wav\n",
            "변환 시도 중: /content/drive/MyDrive/2025_VoicePhshing_Detection_Model/dataset/normal_dataset/mp3/617.mp3 -> /content/drive/MyDrive/2025_VoicePhshing_Detection_Model/dataset/normal_dataset/wav/normal_617.wav\n",
            "✅ 변환 완료: normal_617.wav\n",
            "변환 시도 중: /content/drive/MyDrive/2025_VoicePhshing_Detection_Model/dataset/normal_dataset/mp3/618.mp3 -> /content/drive/MyDrive/2025_VoicePhshing_Detection_Model/dataset/normal_dataset/wav/normal_618.wav\n",
            "✅ 변환 완료: normal_618.wav\n",
            "변환 시도 중: /content/drive/MyDrive/2025_VoicePhshing_Detection_Model/dataset/normal_dataset/mp3/619.mp3 -> /content/drive/MyDrive/2025_VoicePhshing_Detection_Model/dataset/normal_dataset/wav/normal_619.wav\n",
            "✅ 변환 완료: normal_619.wav\n",
            "변환 시도 중: /content/drive/MyDrive/2025_VoicePhshing_Detection_Model/dataset/normal_dataset/mp3/520.mp3 -> /content/drive/MyDrive/2025_VoicePhshing_Detection_Model/dataset/normal_dataset/wav/normal_520.wav\n",
            "✅ 변환 완료: normal_520.wav\n",
            "변환 시도 중: /content/drive/MyDrive/2025_VoicePhshing_Detection_Model/dataset/normal_dataset/mp3/521.mp3 -> /content/drive/MyDrive/2025_VoicePhshing_Detection_Model/dataset/normal_dataset/wav/normal_521.wav\n",
            "✅ 변환 완료: normal_521.wav\n",
            "변환 시도 중: /content/drive/MyDrive/2025_VoicePhshing_Detection_Model/dataset/normal_dataset/mp3/522.mp3 -> /content/drive/MyDrive/2025_VoicePhshing_Detection_Model/dataset/normal_dataset/wav/normal_522.wav\n",
            "✅ 변환 완료: normal_522.wav\n",
            "\n",
            "===== 변환 결과 =====\n",
            "성공: 619 파일\n",
            "실패: 0 파일\n"
          ]
        }
      ]
    },
    {
      "cell_type": "markdown",
      "source": [
        "[2] phishing_data"
      ],
      "metadata": {
        "id": "p6du7Yp8hITK"
      }
    },
    {
      "cell_type": "markdown",
      "source": [
        "(1) mp4 -> mp3 변환"
      ],
      "metadata": {
        "id": "BwwopuJNhNfs"
      }
    },
    {
      "cell_type": "code",
      "source": [
        "# 라이브러리 임포트\n",
        "from moviepy.editor import VideoFileClip\n",
        "import os\n",
        "\n",
        "project_path = Path(\"/content/drive/MyDrive/2025_VoicePhshing_Detection_Model\")\n",
        "\n",
        "# mp3 디렉토리 (phshing_dataset)\n",
        "phishing_mp3_1_dir = project_path / \"dataset\" / \"phishing_dataset\" / \"FSS_voicephishing_data\" / \"mp3\" / \"대출사기형\"\n",
        "phishing_mp3_2_dir = project_path / \"dataset\" / \"phishing_dataset\" / \"FSS_voicephishing_data\" / \"mp3\" / \"수사기관_사칭형\"\n",
        "phishing_mp3_3_dir = project_path / \"dataset\" / \"phishing_dataset\" / \"FSS_voicephishing_data\" / \"mp3\" / \"기타유형\"\n",
        "# mp4 디렉토리 (phshing_dataset)\n",
        "phishing_mp4_dir = project_path / \"dataset\" / \"phishing_dataset\" / \"FSS_voicephishing_data\" / \"mp4\"\n",
        "# wav 디렉토리 (phshing_dataset)\n",
        "phishing_wav_dir = project_path / \"dataset\" / \"phishing_dataset\" / \"FSS_voicephishing_data\" / \"wav\"\n",
        "\n",
        "# mp4 -> mp3 변환 저장 디렉토리\n",
        "mp3_output_dir = project_path / \"dataset\" / \"phishing_dataset\" / \"FSS_voicephishing_data\" / \"mp3\" / \"기타유형\"\n",
        "os.makedirs(mp3_output_dir, exist_ok=True)\n",
        "\n",
        "# 변환 시작\n",
        "for filename in os.listdir(phishing_mp4_dir):\n",
        "    if filename.endswith(\".mp4\"):\n",
        "        mp4_path = os.path.join(phishing_mp4_dir, filename)\n",
        "        mp3_filename = os.path.splitext(filename)[0] + \".mp3\"\n",
        "        mp3_path = os.path.join(mp3_output_dir, mp3_filename)\n",
        "\n",
        "        try:\n",
        "            video = VideoFileClip(mp4_path)\n",
        "            video.audio.write_audiofile(mp3_path)\n",
        "            print(f\"🎵 변환 완료: {mp3_filename}\")\n",
        "        except Exception as e:\n",
        "            print(f\"⚠️ 변환 실패 ({filename}): {e}\")"
      ],
      "metadata": {
        "id": "IEYhUmXchSCX",
        "colab": {
          "base_uri": "https://localhost:8080/"
        },
        "outputId": "87ecacd6-e4a4-427d-a802-33750ec93f4e"
      },
      "execution_count": null,
      "outputs": [
        {
          "output_type": "stream",
          "name": "stdout",
          "text": [
            "MoviePy - Writing audio in /content/drive/MyDrive/2025_VoicePhshing_Detection_Model/dataset/phishing_dataset/FSS_voicephishing_data/mp3/기타유형/금감원_보이스피싱_12_수정07(1).mp3\n"
          ]
        },
        {
          "output_type": "stream",
          "name": "stderr",
          "text": []
        },
        {
          "output_type": "stream",
          "name": "stdout",
          "text": [
            "MoviePy - Done.\n",
            "🎵 변환 완료: 금감원_보이스피싱_12_수정07(1).mp3\n",
            "MoviePy - Writing audio in /content/drive/MyDrive/2025_VoicePhshing_Detection_Model/dataset/phishing_dataset/FSS_voicephishing_data/mp3/기타유형/금감원_보이스피싱_12_수정07.mp3\n"
          ]
        },
        {
          "output_type": "stream",
          "name": "stderr",
          "text": []
        },
        {
          "output_type": "stream",
          "name": "stdout",
          "text": [
            "MoviePy - Done.\n",
            "🎵 변환 완료: 금감원_보이스피싱_12_수정07.mp3\n",
            "MoviePy - Writing audio in /content/drive/MyDrive/2025_VoicePhshing_Detection_Model/dataset/phishing_dataset/FSS_voicephishing_data/mp3/기타유형/금감원_보이스피싱_11_수정07.mp3\n"
          ]
        },
        {
          "output_type": "stream",
          "name": "stderr",
          "text": []
        },
        {
          "output_type": "stream",
          "name": "stdout",
          "text": [
            "MoviePy - Done.\n",
            "🎵 변환 완료: 금감원_보이스피싱_11_수정07.mp3\n",
            "MoviePy - Writing audio in /content/drive/MyDrive/2025_VoicePhshing_Detection_Model/dataset/phishing_dataset/FSS_voicephishing_data/mp3/기타유형/금감원_보이스피싱_10_수정07.mp3\n"
          ]
        },
        {
          "output_type": "stream",
          "name": "stderr",
          "text": []
        },
        {
          "output_type": "stream",
          "name": "stdout",
          "text": [
            "MoviePy - Done.\n",
            "🎵 변환 완료: 금감원_보이스피싱_10_수정07.mp3\n",
            "MoviePy - Writing audio in /content/drive/MyDrive/2025_VoicePhshing_Detection_Model/dataset/phishing_dataset/FSS_voicephishing_data/mp3/기타유형/금감원_보이스피싱_9_수정06.mp3\n"
          ]
        },
        {
          "output_type": "stream",
          "name": "stderr",
          "text": []
        },
        {
          "output_type": "stream",
          "name": "stdout",
          "text": [
            "MoviePy - Done.\n",
            "🎵 변환 완료: 금감원_보이스피싱_9_수정06.mp3\n",
            "MoviePy - Writing audio in /content/drive/MyDrive/2025_VoicePhshing_Detection_Model/dataset/phishing_dataset/FSS_voicephishing_data/mp3/기타유형/금감원_보이스피싱_8_수정06.mp3\n"
          ]
        },
        {
          "output_type": "stream",
          "name": "stderr",
          "text": []
        },
        {
          "output_type": "stream",
          "name": "stdout",
          "text": [
            "MoviePy - Done.\n",
            "🎵 변환 완료: 금감원_보이스피싱_8_수정06.mp3\n",
            "MoviePy - Writing audio in /content/drive/MyDrive/2025_VoicePhshing_Detection_Model/dataset/phishing_dataset/FSS_voicephishing_data/mp3/기타유형/금감원_보이스피싱_5_수정07.mp3\n"
          ]
        },
        {
          "output_type": "stream",
          "name": "stderr",
          "text": []
        },
        {
          "output_type": "stream",
          "name": "stdout",
          "text": [
            "MoviePy - Done.\n",
            "🎵 변환 완료: 금감원_보이스피싱_5_수정07.mp3\n",
            "MoviePy - Writing audio in /content/drive/MyDrive/2025_VoicePhshing_Detection_Model/dataset/phishing_dataset/FSS_voicephishing_data/mp3/기타유형/금감원_보이스피싱_4_수정07.mp3\n"
          ]
        },
        {
          "output_type": "stream",
          "name": "stderr",
          "text": []
        },
        {
          "output_type": "stream",
          "name": "stdout",
          "text": [
            "MoviePy - Done.\n",
            "🎵 변환 완료: 금감원_보이스피싱_4_수정07.mp3\n",
            "MoviePy - Writing audio in /content/drive/MyDrive/2025_VoicePhshing_Detection_Model/dataset/phishing_dataset/FSS_voicephishing_data/mp3/기타유형/금감원_보이스피싱_3_수정07.mp3\n"
          ]
        },
        {
          "output_type": "stream",
          "name": "stderr",
          "text": []
        },
        {
          "output_type": "stream",
          "name": "stdout",
          "text": [
            "MoviePy - Done.\n",
            "🎵 변환 완료: 금감원_보이스피싱_3_수정07.mp3\n",
            "MoviePy - Writing audio in /content/drive/MyDrive/2025_VoicePhshing_Detection_Model/dataset/phishing_dataset/FSS_voicephishing_data/mp3/기타유형/금감원_보이스피싱_2_수정07.mp3\n"
          ]
        },
        {
          "output_type": "stream",
          "name": "stderr",
          "text": []
        },
        {
          "output_type": "stream",
          "name": "stdout",
          "text": [
            "MoviePy - Done.\n",
            "🎵 변환 완료: 금감원_보이스피싱_2_수정07.mp3\n",
            "MoviePy - Writing audio in /content/drive/MyDrive/2025_VoicePhshing_Detection_Model/dataset/phishing_dataset/FSS_voicephishing_data/mp3/기타유형/금감원_보이스피싱_1_수정08.mp3\n"
          ]
        },
        {
          "output_type": "stream",
          "name": "stderr",
          "text": []
        },
        {
          "output_type": "stream",
          "name": "stdout",
          "text": [
            "MoviePy - Done.\n",
            "🎵 변환 완료: 금감원_보이스피싱_1_수정08.mp3\n",
            "MoviePy - Writing audio in /content/drive/MyDrive/2025_VoicePhshing_Detection_Model/dataset/phishing_dataset/FSS_voicephishing_data/mp3/기타유형/15master.mp3\n"
          ]
        },
        {
          "output_type": "stream",
          "name": "stderr",
          "text": []
        },
        {
          "output_type": "stream",
          "name": "stdout",
          "text": [
            "MoviePy - Done.\n",
            "🎵 변환 완료: 15master.mp3\n",
            "MoviePy - Writing audio in /content/drive/MyDrive/2025_VoicePhshing_Detection_Model/dataset/phishing_dataset/FSS_voicephishing_data/mp3/기타유형/7master.mp3\n"
          ]
        },
        {
          "output_type": "stream",
          "name": "stderr",
          "text": []
        },
        {
          "output_type": "stream",
          "name": "stdout",
          "text": [
            "MoviePy - Done.\n",
            "🎵 변환 완료: 7master.mp3\n",
            "MoviePy - Writing audio in /content/drive/MyDrive/2025_VoicePhshing_Detection_Model/dataset/phishing_dataset/FSS_voicephishing_data/mp3/기타유형/14번수정.mp3\n"
          ]
        },
        {
          "output_type": "stream",
          "name": "stderr",
          "text": []
        },
        {
          "output_type": "stream",
          "name": "stdout",
          "text": [
            "MoviePy - Done.\n",
            "🎵 변환 완료: 14번수정.mp3\n",
            "MoviePy - Writing audio in /content/drive/MyDrive/2025_VoicePhshing_Detection_Model/dataset/phishing_dataset/FSS_voicephishing_data/mp3/기타유형/17번수정.mp3\n"
          ]
        },
        {
          "output_type": "stream",
          "name": "stderr",
          "text": []
        },
        {
          "output_type": "stream",
          "name": "stdout",
          "text": [
            "MoviePy - Done.\n",
            "🎵 변환 완료: 17번수정.mp3\n",
            "MoviePy - Writing audio in /content/drive/MyDrive/2025_VoicePhshing_Detection_Model/dataset/phishing_dataset/FSS_voicephishing_data/mp3/기타유형/16번수정.mp3\n"
          ]
        },
        {
          "output_type": "stream",
          "name": "stderr",
          "text": []
        },
        {
          "output_type": "stream",
          "name": "stdout",
          "text": [
            "MoviePy - Done.\n",
            "🎵 변환 완료: 16번수정.mp3\n",
            "MoviePy - Writing audio in /content/drive/MyDrive/2025_VoicePhshing_Detection_Model/dataset/phishing_dataset/FSS_voicephishing_data/mp3/기타유형/15번_3차례 신고된 남성 전화금융사기범 (음성_15).mp3\n"
          ]
        },
        {
          "output_type": "stream",
          "name": "stderr",
          "text": []
        },
        {
          "output_type": "stream",
          "name": "stdout",
          "text": [
            "MoviePy - Done.\n",
            "🎵 변환 완료: 15번_3차례 신고된 남성 전화금융사기범 (음성_15).mp3\n",
            "MoviePy - Writing audio in /content/drive/MyDrive/2025_VoicePhshing_Detection_Model/dataset/phishing_dataset/FSS_voicephishing_data/mp3/기타유형/13번수정.mp3\n"
          ]
        },
        {
          "output_type": "stream",
          "name": "stderr",
          "text": []
        },
        {
          "output_type": "stream",
          "name": "stdout",
          "text": [
            "MoviePy - Done.\n",
            "🎵 변환 완료: 13번수정.mp3\n",
            "MoviePy - Writing audio in /content/drive/MyDrive/2025_VoicePhshing_Detection_Model/dataset/phishing_dataset/FSS_voicephishing_data/mp3/기타유형/10번_3차례 신고된 남성 전화금융사기범 (음성_10).mp3\n"
          ]
        },
        {
          "output_type": "stream",
          "name": "stderr",
          "text": []
        },
        {
          "output_type": "stream",
          "name": "stdout",
          "text": [
            "MoviePy - Done.\n",
            "🎵 변환 완료: 10번_3차례 신고된 남성 전화금융사기범 (음성_10).mp3\n",
            "MoviePy - Writing audio in /content/drive/MyDrive/2025_VoicePhshing_Detection_Model/dataset/phishing_dataset/FSS_voicephishing_data/mp3/기타유형/9번_3차례 신고된 남성 전화금융사기범 (음성_9).mp3\n"
          ]
        },
        {
          "output_type": "stream",
          "name": "stderr",
          "text": []
        },
        {
          "output_type": "stream",
          "name": "stdout",
          "text": [
            "MoviePy - Done.\n",
            "🎵 변환 완료: 9번_3차례 신고된 남성 전화금융사기범 (음성_9).mp3\n",
            "MoviePy - Writing audio in /content/drive/MyDrive/2025_VoicePhshing_Detection_Model/dataset/phishing_dataset/FSS_voicephishing_data/mp3/기타유형/8번_3차례 신고된 남성 전화금융사기범 (음성_8).mp3\n"
          ]
        },
        {
          "output_type": "stream",
          "name": "stderr",
          "text": []
        },
        {
          "output_type": "stream",
          "name": "stdout",
          "text": [
            "MoviePy - Done.\n",
            "🎵 변환 완료: 8번_3차례 신고된 남성 전화금융사기범 (음성_8).mp3\n",
            "MoviePy - Writing audio in /content/drive/MyDrive/2025_VoicePhshing_Detection_Model/dataset/phishing_dataset/FSS_voicephishing_data/mp3/기타유형/5번수정.mp3\n"
          ]
        },
        {
          "output_type": "stream",
          "name": "stderr",
          "text": []
        },
        {
          "output_type": "stream",
          "name": "stdout",
          "text": [
            "MoviePy - Done.\n",
            "🎵 변환 완료: 5번수정.mp3\n",
            "MoviePy - Writing audio in /content/drive/MyDrive/2025_VoicePhshing_Detection_Model/dataset/phishing_dataset/FSS_voicephishing_data/mp3/기타유형/4차례 신고된 여성 전화금융사기범.mp3\n"
          ]
        },
        {
          "output_type": "stream",
          "name": "stderr",
          "text": []
        },
        {
          "output_type": "stream",
          "name": "stdout",
          "text": [
            "MoviePy - Done.\n",
            "🎵 변환 완료: 4차례 신고된 여성 전화금융사기범.mp3\n",
            "MoviePy - Writing audio in /content/drive/MyDrive/2025_VoicePhshing_Detection_Model/dataset/phishing_dataset/FSS_voicephishing_data/mp3/기타유형/2번_3차례 신고된 여성 전화금융사기범 (음성_2).mp3\n"
          ]
        },
        {
          "output_type": "stream",
          "name": "stderr",
          "text": []
        },
        {
          "output_type": "stream",
          "name": "stdout",
          "text": [
            "MoviePy - Done.\n",
            "🎵 변환 완료: 2번_3차례 신고된 여성 전화금융사기범 (음성_2).mp3\n",
            "MoviePy - Writing audio in /content/drive/MyDrive/2025_VoicePhshing_Detection_Model/dataset/phishing_dataset/FSS_voicephishing_data/mp3/기타유형/6차례 신고된 남성 전화금융사기범 음성 3.mp3\n"
          ]
        },
        {
          "output_type": "stream",
          "name": "stderr",
          "text": []
        },
        {
          "output_type": "stream",
          "name": "stdout",
          "text": [
            "MoviePy - Done.\n",
            "🎵 변환 완료: 6차례 신고된 남성 전화금융사기범 음성 3.mp3\n",
            "MoviePy - Writing audio in /content/drive/MyDrive/2025_VoicePhshing_Detection_Model/dataset/phishing_dataset/FSS_voicephishing_data/mp3/기타유형/6차례 신고된 남성 전화금융사기범 음성 2.mp3\n"
          ]
        },
        {
          "output_type": "stream",
          "name": "stderr",
          "text": []
        },
        {
          "output_type": "stream",
          "name": "stdout",
          "text": [
            "MoviePy - Done.\n",
            "🎵 변환 완료: 6차례 신고된 남성 전화금융사기범 음성 2.mp3\n",
            "MoviePy - Writing audio in /content/drive/MyDrive/2025_VoicePhshing_Detection_Model/dataset/phishing_dataset/FSS_voicephishing_data/mp3/기타유형/6차례 신고된 남성 전화금융사기범 음성 1.mp3\n"
          ]
        },
        {
          "output_type": "stream",
          "name": "stderr",
          "text": []
        },
        {
          "output_type": "stream",
          "name": "stdout",
          "text": [
            "MoviePy - Done.\n",
            "🎵 변환 완료: 6차례 신고된 남성 전화금융사기범 음성 1.mp3\n",
            "MoviePy - Writing audio in /content/drive/MyDrive/2025_VoicePhshing_Detection_Model/dataset/phishing_dataset/FSS_voicephishing_data/mp3/기타유형/5차례 신고된 남성 전화금융사기범 음성 4.mp3\n"
          ]
        },
        {
          "output_type": "stream",
          "name": "stderr",
          "text": []
        },
        {
          "output_type": "stream",
          "name": "stdout",
          "text": [
            "MoviePy - Done.\n",
            "🎵 변환 완료: 5차례 신고된 남성 전화금융사기범 음성 4.mp3\n",
            "MoviePy - Writing audio in /content/drive/MyDrive/2025_VoicePhshing_Detection_Model/dataset/phishing_dataset/FSS_voicephishing_data/mp3/기타유형/5차례 신고된 남성 전화금융사기범 음성 3.mp3\n"
          ]
        },
        {
          "output_type": "stream",
          "name": "stderr",
          "text": []
        },
        {
          "output_type": "stream",
          "name": "stdout",
          "text": [
            "MoviePy - Done.\n",
            "🎵 변환 완료: 5차례 신고된 남성 전화금융사기범 음성 3.mp3\n",
            "MoviePy - Writing audio in /content/drive/MyDrive/2025_VoicePhshing_Detection_Model/dataset/phishing_dataset/FSS_voicephishing_data/mp3/기타유형/5차례 신고된 남성 전화금융사기범 음성 2.mp3\n"
          ]
        },
        {
          "output_type": "stream",
          "name": "stderr",
          "text": []
        },
        {
          "output_type": "stream",
          "name": "stdout",
          "text": [
            "MoviePy - Done.\n",
            "🎵 변환 완료: 5차례 신고된 남성 전화금융사기범 음성 2.mp3\n",
            "MoviePy - Writing audio in /content/drive/MyDrive/2025_VoicePhshing_Detection_Model/dataset/phishing_dataset/FSS_voicephishing_data/mp3/기타유형/5차례 신고된 남성 전화금융사기범 음성 1.mp3\n"
          ]
        },
        {
          "output_type": "stream",
          "name": "stderr",
          "text": []
        },
        {
          "output_type": "stream",
          "name": "stdout",
          "text": [
            "MoviePy - Done.\n",
            "🎵 변환 완료: 5차례 신고된 남성 전화금융사기범 음성 1.mp3\n",
            "MoviePy - Writing audio in /content/drive/MyDrive/2025_VoicePhshing_Detection_Model/dataset/phishing_dataset/FSS_voicephishing_data/mp3/기타유형/4차례 신고된 여성 전화금융사기범 음성 2.mp3\n"
          ]
        },
        {
          "output_type": "stream",
          "name": "stderr",
          "text": []
        },
        {
          "output_type": "stream",
          "name": "stdout",
          "text": [
            "MoviePy - Done.\n",
            "🎵 변환 완료: 4차례 신고된 여성 전화금융사기범 음성 2.mp3\n",
            "MoviePy - Writing audio in /content/drive/MyDrive/2025_VoicePhshing_Detection_Model/dataset/phishing_dataset/FSS_voicephishing_data/mp3/기타유형/4차례 신고된 남성 전화금융사기범 음성 7.mp3\n"
          ]
        },
        {
          "output_type": "stream",
          "name": "stderr",
          "text": []
        },
        {
          "output_type": "stream",
          "name": "stdout",
          "text": [
            "MoviePy - Done.\n",
            "🎵 변환 완료: 4차례 신고된 남성 전화금융사기범 음성 7.mp3\n",
            "MoviePy - Writing audio in /content/drive/MyDrive/2025_VoicePhshing_Detection_Model/dataset/phishing_dataset/FSS_voicephishing_data/mp3/기타유형/4차례 신고된 남성 전화금융사기범 음성 6.mp3\n"
          ]
        },
        {
          "output_type": "stream",
          "name": "stderr",
          "text": []
        },
        {
          "output_type": "stream",
          "name": "stdout",
          "text": [
            "MoviePy - Done.\n",
            "🎵 변환 완료: 4차례 신고된 남성 전화금융사기범 음성 6.mp3\n",
            "MoviePy - Writing audio in /content/drive/MyDrive/2025_VoicePhshing_Detection_Model/dataset/phishing_dataset/FSS_voicephishing_data/mp3/기타유형/4차례 신고된 남성 전화금융사기범 음성 5.mp3\n"
          ]
        },
        {
          "output_type": "stream",
          "name": "stderr",
          "text": []
        },
        {
          "output_type": "stream",
          "name": "stdout",
          "text": [
            "MoviePy - Done.\n",
            "🎵 변환 완료: 4차례 신고된 남성 전화금융사기범 음성 5.mp3\n",
            "MoviePy - Writing audio in /content/drive/MyDrive/2025_VoicePhshing_Detection_Model/dataset/phishing_dataset/FSS_voicephishing_data/mp3/기타유형/4차례 신고된 남성 전화금융사기범 음성 4.mp3\n"
          ]
        },
        {
          "output_type": "stream",
          "name": "stderr",
          "text": []
        },
        {
          "output_type": "stream",
          "name": "stdout",
          "text": [
            "MoviePy - Done.\n",
            "🎵 변환 완료: 4차례 신고된 남성 전화금융사기범 음성 4.mp3\n",
            "MoviePy - Writing audio in /content/drive/MyDrive/2025_VoicePhshing_Detection_Model/dataset/phishing_dataset/FSS_voicephishing_data/mp3/기타유형/4차례 신고된 남성 전화금융사기범 음성 3.mp3\n"
          ]
        },
        {
          "output_type": "stream",
          "name": "stderr",
          "text": []
        },
        {
          "output_type": "stream",
          "name": "stdout",
          "text": [
            "MoviePy - Done.\n",
            "🎵 변환 완료: 4차례 신고된 남성 전화금융사기범 음성 3.mp3\n",
            "MoviePy - Writing audio in /content/drive/MyDrive/2025_VoicePhshing_Detection_Model/dataset/phishing_dataset/FSS_voicephishing_data/mp3/기타유형/4차례 신고된 남성 전화금융사기범 음성 2.mp3\n"
          ]
        },
        {
          "output_type": "stream",
          "name": "stderr",
          "text": []
        },
        {
          "output_type": "stream",
          "name": "stdout",
          "text": [
            "MoviePy - Done.\n",
            "🎵 변환 완료: 4차례 신고된 남성 전화금융사기범 음성 2.mp3\n",
            "MoviePy - Writing audio in /content/drive/MyDrive/2025_VoicePhshing_Detection_Model/dataset/phishing_dataset/FSS_voicephishing_data/mp3/기타유형/4차례 신고된 남성 전화금융사기범 음성 1.mp3\n"
          ]
        },
        {
          "output_type": "stream",
          "name": "stderr",
          "text": []
        },
        {
          "output_type": "stream",
          "name": "stdout",
          "text": [
            "MoviePy - Done.\n",
            "🎵 변환 완료: 4차례 신고된 남성 전화금융사기범 음성 1.mp3\n",
            "MoviePy - Writing audio in /content/drive/MyDrive/2025_VoicePhshing_Detection_Model/dataset/phishing_dataset/FSS_voicephishing_data/mp3/기타유형/3차-(1).16차례 신고된 남성 전화금융사기범 음성.mp3\n"
          ]
        },
        {
          "output_type": "stream",
          "name": "stderr",
          "text": []
        },
        {
          "output_type": "stream",
          "name": "stdout",
          "text": [
            "MoviePy - Done.\n",
            "🎵 변환 완료: 3차-(1).16차례 신고된 남성 전화금융사기범 음성.mp3\n",
            "MoviePy - Writing audio in /content/drive/MyDrive/2025_VoicePhshing_Detection_Model/dataset/phishing_dataset/FSS_voicephishing_data/mp3/기타유형/3차-(2).6차례 신고된 남성 전화금융사기범 음성.mp3\n"
          ]
        },
        {
          "output_type": "stream",
          "name": "stderr",
          "text": []
        },
        {
          "output_type": "stream",
          "name": "stdout",
          "text": [
            "MoviePy - Done.\n",
            "🎵 변환 완료: 3차-(2).6차례 신고된 남성 전화금융사기범 음성.mp3\n",
            "MoviePy - Writing audio in /content/drive/MyDrive/2025_VoicePhshing_Detection_Model/dataset/phishing_dataset/FSS_voicephishing_data/mp3/기타유형/3차-(3).5차례 신고된 남성 전화금융사기범 음성 1.mp3\n"
          ]
        },
        {
          "output_type": "stream",
          "name": "stderr",
          "text": []
        },
        {
          "output_type": "stream",
          "name": "stdout",
          "text": [
            "MoviePy - Done.\n",
            "🎵 변환 완료: 3차-(3).5차례 신고된 남성 전화금융사기범 음성 1.mp3\n",
            "MoviePy - Writing audio in /content/drive/MyDrive/2025_VoicePhshing_Detection_Model/dataset/phishing_dataset/FSS_voicephishing_data/mp3/기타유형/3차-(4).5차례 신고된 남성 전화금융사기범 음성 2.mp3\n"
          ]
        },
        {
          "output_type": "stream",
          "name": "stderr",
          "text": []
        },
        {
          "output_type": "stream",
          "name": "stdout",
          "text": [
            "MoviePy - Done.\n",
            "🎵 변환 완료: 3차-(4).5차례 신고된 남성 전화금융사기범 음성 2.mp3\n",
            "MoviePy - Writing audio in /content/drive/MyDrive/2025_VoicePhshing_Detection_Model/dataset/phishing_dataset/FSS_voicephishing_data/mp3/기타유형/3차-(5).5차례 신고된 남성 전화금융사기범 음성 3.mp3\n"
          ]
        },
        {
          "output_type": "stream",
          "name": "stderr",
          "text": []
        },
        {
          "output_type": "stream",
          "name": "stdout",
          "text": [
            "MoviePy - Done.\n",
            "🎵 변환 완료: 3차-(5).5차례 신고된 남성 전화금융사기범 음성 3.mp3\n",
            "MoviePy - Writing audio in /content/drive/MyDrive/2025_VoicePhshing_Detection_Model/dataset/phishing_dataset/FSS_voicephishing_data/mp3/기타유형/3차-(6).5차례 신고된 남성 전화금융사기범 음성 4.mp3\n"
          ]
        },
        {
          "output_type": "stream",
          "name": "stderr",
          "text": []
        },
        {
          "output_type": "stream",
          "name": "stdout",
          "text": [
            "MoviePy - Done.\n",
            "🎵 변환 완료: 3차-(6).5차례 신고된 남성 전화금융사기범 음성 4.mp3\n",
            "MoviePy - Writing audio in /content/drive/MyDrive/2025_VoicePhshing_Detection_Model/dataset/phishing_dataset/FSS_voicephishing_data/mp3/기타유형/3차-(9).4차례 신고된 남성 전화금융사기범 음성 1.mp3\n"
          ]
        },
        {
          "output_type": "stream",
          "name": "stderr",
          "text": []
        },
        {
          "output_type": "stream",
          "name": "stdout",
          "text": [
            "MoviePy - Done.\n",
            "🎵 변환 완료: 3차-(9).4차례 신고된 남성 전화금융사기범 음성 1.mp3\n",
            "MoviePy - Writing audio in /content/drive/MyDrive/2025_VoicePhshing_Detection_Model/dataset/phishing_dataset/FSS_voicephishing_data/mp3/기타유형/3차-(10).4차례 신고된 남성 전화금융사기범 음성 2.mp3\n"
          ]
        },
        {
          "output_type": "stream",
          "name": "stderr",
          "text": []
        },
        {
          "output_type": "stream",
          "name": "stdout",
          "text": [
            "MoviePy - Done.\n",
            "🎵 변환 완료: 3차-(10).4차례 신고된 남성 전화금융사기범 음성 2.mp3\n",
            "MoviePy - Writing audio in /content/drive/MyDrive/2025_VoicePhshing_Detection_Model/dataset/phishing_dataset/FSS_voicephishing_data/mp3/기타유형/3차-(11).4차례 신고된 남성 전화금융사기범 음성 3.mp3\n"
          ]
        },
        {
          "output_type": "stream",
          "name": "stderr",
          "text": []
        },
        {
          "output_type": "stream",
          "name": "stdout",
          "text": [
            "MoviePy - Done.\n",
            "🎵 변환 완료: 3차-(11).4차례 신고된 남성 전화금융사기범 음성 3.mp3\n",
            "MoviePy - Writing audio in /content/drive/MyDrive/2025_VoicePhshing_Detection_Model/dataset/phishing_dataset/FSS_voicephishing_data/mp3/기타유형/3차-(12).4차례 신고된 남성 전화금융사기범 음성 4.mp3\n"
          ]
        },
        {
          "output_type": "stream",
          "name": "stderr",
          "text": []
        },
        {
          "output_type": "stream",
          "name": "stdout",
          "text": [
            "MoviePy - Done.\n",
            "🎵 변환 완료: 3차-(12).4차례 신고된 남성 전화금융사기범 음성 4.mp3\n",
            "MoviePy - Writing audio in /content/drive/MyDrive/2025_VoicePhshing_Detection_Model/dataset/phishing_dataset/FSS_voicephishing_data/mp3/기타유형/3차-(13).4차례 신고된 남성 전화금융사기범 음성 5.mp3\n"
          ]
        },
        {
          "output_type": "stream",
          "name": "stderr",
          "text": []
        },
        {
          "output_type": "stream",
          "name": "stdout",
          "text": [
            "MoviePy - Done.\n",
            "🎵 변환 완료: 3차-(13).4차례 신고된 남성 전화금융사기범 음성 5.mp3\n",
            "MoviePy - Writing audio in /content/drive/MyDrive/2025_VoicePhshing_Detection_Model/dataset/phishing_dataset/FSS_voicephishing_data/mp3/기타유형/3차-(14).4차례 신고된 남성 전화금융사기범 음성 6.mp3\n"
          ]
        },
        {
          "output_type": "stream",
          "name": "stderr",
          "text": []
        },
        {
          "output_type": "stream",
          "name": "stdout",
          "text": [
            "MoviePy - Done.\n",
            "🎵 변환 완료: 3차-(14).4차례 신고된 남성 전화금융사기범 음성 6.mp3\n",
            "MoviePy - Writing audio in /content/drive/MyDrive/2025_VoicePhshing_Detection_Model/dataset/phishing_dataset/FSS_voicephishing_data/mp3/기타유형/3차-(15).4차례 신고된 남성 전화금융사기범 음성 7.mp3\n"
          ]
        },
        {
          "output_type": "stream",
          "name": "stderr",
          "text": []
        },
        {
          "output_type": "stream",
          "name": "stdout",
          "text": [
            "MoviePy - Done.\n",
            "🎵 변환 완료: 3차-(15).4차례 신고된 남성 전화금융사기범 음성 7.mp3\n",
            "MoviePy - Writing audio in /content/drive/MyDrive/2025_VoicePhshing_Detection_Model/dataset/phishing_dataset/FSS_voicephishing_data/mp3/기타유형/바로 이 목소리_6차례 신고된 남성 전화금융사기범 음성.mp3\n"
          ]
        },
        {
          "output_type": "stream",
          "name": "stderr",
          "text": []
        },
        {
          "output_type": "stream",
          "name": "stdout",
          "text": [
            "MoviePy - Done.\n",
            "🎵 변환 완료: 바로 이 목소리_6차례 신고된 남성 전화금융사기범 음성.mp3\n",
            "MoviePy - Writing audio in /content/drive/MyDrive/2025_VoicePhshing_Detection_Model/dataset/phishing_dataset/FSS_voicephishing_data/mp3/기타유형/바로 이 목소리_5차례 신고된 남성 전화금융사기범 음성_2.mp3\n"
          ]
        },
        {
          "output_type": "stream",
          "name": "stderr",
          "text": []
        },
        {
          "output_type": "stream",
          "name": "stdout",
          "text": [
            "MoviePy - Done.\n",
            "🎵 변환 완료: 바로 이 목소리_5차례 신고된 남성 전화금융사기범 음성_2.mp3\n",
            "MoviePy - Writing audio in /content/drive/MyDrive/2025_VoicePhshing_Detection_Model/dataset/phishing_dataset/FSS_voicephishing_data/mp3/기타유형/바로 이 목소리_4차례 신고된 남성 전화금융사기범 음성_1.mp3\n"
          ]
        },
        {
          "output_type": "stream",
          "name": "stderr",
          "text": []
        },
        {
          "output_type": "stream",
          "name": "stdout",
          "text": [
            "MoviePy - Done.\n",
            "🎵 변환 완료: 바로 이 목소리_4차례 신고된 남성 전화금융사기범 음성_1.mp3\n",
            "MoviePy - Writing audio in /content/drive/MyDrive/2025_VoicePhshing_Detection_Model/dataset/phishing_dataset/FSS_voicephishing_data/mp3/기타유형/대출빙자형 사례 7_편법을 통해 피해자 신용평점을 상향시키기 위한 대출상환 요구.mp3\n"
          ]
        },
        {
          "output_type": "stream",
          "name": "stderr",
          "text": []
        },
        {
          "output_type": "stream",
          "name": "stdout",
          "text": [
            "MoviePy - Done.\n",
            "🎵 변환 완료: 대출빙자형 사례 7_편법을 통해 피해자 신용평점을 상향시키기 위한 대출상환 요구.mp3\n",
            "MoviePy - Writing audio in /content/drive/MyDrive/2025_VoicePhshing_Detection_Model/dataset/phishing_dataset/FSS_voicephishing_data/mp3/기타유형/대출빙자형 사례 6_편법을 통해 피해자 신용평점을 상향시키기 위한 대출상환 요구.mp3\n"
          ]
        },
        {
          "output_type": "stream",
          "name": "stderr",
          "text": []
        },
        {
          "output_type": "stream",
          "name": "stdout",
          "text": [
            "MoviePy - Done.\n",
            "🎵 변환 완료: 대출빙자형 사례 6_편법을 통해 피해자 신용평점을 상향시키기 위한 대출상환 요구.mp3\n",
            "MoviePy - Writing audio in /content/drive/MyDrive/2025_VoicePhshing_Detection_Model/dataset/phishing_dataset/FSS_voicephishing_data/mp3/기타유형/대출빙자형 사례 5_사금융 대환대출 명목으로 피해자의 무통장입금 유도.mp3\n"
          ]
        },
        {
          "output_type": "stream",
          "name": "stderr",
          "text": []
        },
        {
          "output_type": "stream",
          "name": "stdout",
          "text": [
            "MoviePy - Done.\n",
            "🎵 변환 완료: 대출빙자형 사례 5_사금융 대환대출 명목으로 피해자의 무통장입금 유도.mp3\n",
            "MoviePy - Writing audio in /content/drive/MyDrive/2025_VoicePhshing_Detection_Model/dataset/phishing_dataset/FSS_voicephishing_data/mp3/기타유형/대출빙자형 사례 4_햇살론을 받기 위하여 피해자의 기존 대출을 일부 상환해야 한다고 유도.mp3\n"
          ]
        },
        {
          "output_type": "stream",
          "name": "stderr",
          "text": []
        },
        {
          "output_type": "stream",
          "name": "stdout",
          "text": [
            "MoviePy - Done.\n",
            "🎵 변환 완료: 대출빙자형 사례 4_햇살론을 받기 위하여 피해자의 기존 대출을 일부 상환해야 한다고 유도.mp3\n",
            "MoviePy - Writing audio in /content/drive/MyDrive/2025_VoicePhshing_Detection_Model/dataset/phishing_dataset/FSS_voicephishing_data/mp3/기타유형/대출빙자형 사례 3_은행을 사칭하면서 서민금융나들목 상품 명목의 대출을 안내.mp3\n"
          ]
        },
        {
          "output_type": "stream",
          "name": "stderr",
          "text": []
        },
        {
          "output_type": "stream",
          "name": "stdout",
          "text": [
            "MoviePy - Done.\n",
            "🎵 변환 완료: 대출빙자형 사례 3_은행을 사칭하면서 서민금융나들목 상품 명목의 대출을 안내.mp3\n",
            "MoviePy - Writing audio in /content/drive/MyDrive/2025_VoicePhshing_Detection_Model/dataset/phishing_dataset/FSS_voicephishing_data/mp3/기타유형/출입국 관리 사무국 직원 사칭(여름 휴가철 보이스피싱_1).mp3\n"
          ]
        },
        {
          "output_type": "stream",
          "name": "stderr",
          "text": []
        },
        {
          "output_type": "stream",
          "name": "stdout",
          "text": [
            "MoviePy - Done.\n",
            "🎵 변환 완료: 출입국 관리 사무국 직원 사칭(여름 휴가철 보이스피싱_1).mp3\n",
            "MoviePy - Writing audio in /content/drive/MyDrive/2025_VoicePhshing_Detection_Model/dataset/phishing_dataset/FSS_voicephishing_data/mp3/기타유형/바로 이 목소리 사례2_F.mp3\n"
          ]
        },
        {
          "output_type": "stream",
          "name": "stderr",
          "text": []
        },
        {
          "output_type": "stream",
          "name": "stdout",
          "text": [
            "MoviePy - Done.\n",
            "🎵 변환 완료: 바로 이 목소리 사례2_F.mp3\n",
            "MoviePy - Writing audio in /content/drive/MyDrive/2025_VoicePhshing_Detection_Model/dataset/phishing_dataset/FSS_voicephishing_data/mp3/기타유형/바로 이 목소리 사례3_F.mp3\n"
          ]
        },
        {
          "output_type": "stream",
          "name": "stderr",
          "text": []
        },
        {
          "output_type": "stream",
          "name": "stdout",
          "text": [
            "MoviePy - Done.\n",
            "🎵 변환 완료: 바로 이 목소리 사례3_F.mp3\n",
            "MoviePy - Writing audio in /content/drive/MyDrive/2025_VoicePhshing_Detection_Model/dataset/phishing_dataset/FSS_voicephishing_data/mp3/기타유형/바로 이 목소리 사례4_F.mp3\n"
          ]
        },
        {
          "output_type": "stream",
          "name": "stderr",
          "text": []
        },
        {
          "output_type": "stream",
          "name": "stdout",
          "text": [
            "MoviePy - Done.\n",
            "🎵 변환 완료: 바로 이 목소리 사례4_F.mp3\n",
            "MoviePy - Writing audio in /content/drive/MyDrive/2025_VoicePhshing_Detection_Model/dataset/phishing_dataset/FSS_voicephishing_data/mp3/기타유형/바로 이 목소리 사례5_F.mp3\n"
          ]
        },
        {
          "output_type": "stream",
          "name": "stderr",
          "text": []
        },
        {
          "output_type": "stream",
          "name": "stdout",
          "text": [
            "MoviePy - Done.\n",
            "🎵 변환 완료: 바로 이 목소리 사례5_F.mp3\n",
            "MoviePy - Writing audio in /content/drive/MyDrive/2025_VoicePhshing_Detection_Model/dataset/phishing_dataset/FSS_voicephishing_data/mp3/기타유형/바로 이 목소리 사례6_F.mp3\n"
          ]
        },
        {
          "output_type": "stream",
          "name": "stderr",
          "text": []
        },
        {
          "output_type": "stream",
          "name": "stdout",
          "text": [
            "MoviePy - Done.\n",
            "🎵 변환 완료: 바로 이 목소리 사례6_F.mp3\n",
            "MoviePy - Writing audio in /content/drive/MyDrive/2025_VoicePhshing_Detection_Model/dataset/phishing_dataset/FSS_voicephishing_data/mp3/기타유형/바로 이 목소리_사례7_F.mp3\n"
          ]
        },
        {
          "output_type": "stream",
          "name": "stderr",
          "text": []
        },
        {
          "output_type": "stream",
          "name": "stdout",
          "text": [
            "MoviePy - Done.\n",
            "🎵 변환 완료: 바로 이 목소리_사례7_F.mp3\n",
            "MoviePy - Writing audio in /content/drive/MyDrive/2025_VoicePhshing_Detection_Model/dataset/phishing_dataset/FSS_voicephishing_data/mp3/기타유형/바로 이 목소리_사례8_F.mp3\n"
          ]
        },
        {
          "output_type": "stream",
          "name": "stderr",
          "text": []
        },
        {
          "output_type": "stream",
          "name": "stdout",
          "text": [
            "MoviePy - Done.\n",
            "🎵 변환 완료: 바로 이 목소리_사례8_F.mp3\n",
            "MoviePy - Writing audio in /content/drive/MyDrive/2025_VoicePhshing_Detection_Model/dataset/phishing_dataset/FSS_voicephishing_data/mp3/기타유형/바로 이 목소리 사례9_F.mp3\n"
          ]
        },
        {
          "output_type": "stream",
          "name": "stderr",
          "text": []
        },
        {
          "output_type": "stream",
          "name": "stdout",
          "text": [
            "MoviePy - Done.\n",
            "🎵 변환 완료: 바로 이 목소리 사례9_F.mp3\n",
            "MoviePy - Writing audio in /content/drive/MyDrive/2025_VoicePhshing_Detection_Model/dataset/phishing_dataset/FSS_voicephishing_data/mp3/기타유형/대출사기 사례2_대출사기 전산삭제과정 금감원 모니터링 걸림.mp3\n"
          ]
        },
        {
          "output_type": "stream",
          "name": "stderr",
          "text": []
        },
        {
          "output_type": "stream",
          "name": "stdout",
          "text": [
            "MoviePy - Done.\n",
            "🎵 변환 완료: 대출사기 사례2_대출사기 전산삭제과정 금감원 모니터링 걸림.mp3\n",
            "MoviePy - Writing audio in /content/drive/MyDrive/2025_VoicePhshing_Detection_Model/dataset/phishing_dataset/FSS_voicephishing_data/mp3/기타유형/대출사기 사례1_대출사기 전산오류로 선입금 360만원 요구.mp3\n"
          ]
        },
        {
          "output_type": "stream",
          "name": "stderr",
          "text": []
        },
        {
          "output_type": "stream",
          "name": "stdout",
          "text": [
            "MoviePy - Done.\n",
            "🎵 변환 완료: 대출사기 사례1_대출사기 전산오류로 선입금 360만원 요구.mp3\n",
            "MoviePy - Writing audio in /content/drive/MyDrive/2025_VoicePhshing_Detection_Model/dataset/phishing_dataset/FSS_voicephishing_data/mp3/기타유형/납치빙자 F.mp3\n"
          ]
        },
        {
          "output_type": "stream",
          "name": "stderr",
          "text": []
        },
        {
          "output_type": "stream",
          "name": "stdout",
          "text": [
            "MoviePy - Done.\n",
            "🎵 변환 완료: 납치빙자 F.mp3\n",
            "⚠️ 변환 실패 (NR0079_검찰사칭 [착한 피해자에게 걸려온 검찰 사칭 보이스피싱].mp4): MoviePy error: failed to read the duration of file /content/drive/MyDrive/2025_VoicePhshing_Detection_Model/dataset/phishing_dataset/FSS_voicephishing_data/mp4/NR0079_검찰사칭 [착한 피해자에게 걸려온 검찰 사칭 보이스피싱].mp4.\n",
            "Here are the file infos returned by ffmpeg:\n",
            "\n",
            "ffmpeg version 7.0.2-static https://johnvansickle.com/ffmpeg/  Copyright (c) 2000-2024 the FFmpeg developers\n",
            "  built with gcc 8 (Debian 8.3.0-6)\n",
            "  configuration: --enable-gpl --enable-version3 --enable-static --disable-debug --disable-ffplay --disable-indev=sndio --disable-outdev=sndio --cc=gcc --enable-fontconfig --enable-frei0r --enable-gnutls --enable-gmp --enable-libgme --enable-gray --enable-libaom --enable-libfribidi --enable-libass --enable-libvmaf --enable-libfreetype --enable-libmp3lame --enable-libopencore-amrnb --enable-libopencore-amrwb --enable-libopenjpeg --enable-librubberband --enable-libsoxr --enable-libspeex --enable-libsrt --enable-libvorbis --enable-libopus --enable-libtheora --enable-libvidstab --enable-libvo-amrwbenc --enable-libvpx --enable-libwebp --enable-libx264 --enable-libx265 --enable-libxml2 --enable-libdav1d --enable-libxvid --enable-libzvbi --enable-libzimg\n",
            "  libavutil      59.  8.100 / 59.  8.100\n",
            "  libavcodec     61.  3.100 / 61.  3.100\n",
            "  libavformat    61.  1.100 / 61.  1.100\n",
            "  libavdevice    61.  1.100 / 61.  1.100\n",
            "  libavfilter    10.  1.100 / 10.  1.100\n",
            "  libswscale      8.  1.100 /  8.  1.100\n",
            "  libswresample   5.  1.100 /  5.  1.100\n",
            "  libpostproc    58.  1.100 / 58.  1.100\n",
            "[mov,mp4,m4a,3gp,3g2,mj2 @ 0x2282ee00] moov atom not found\n",
            "[in#0 @ 0x2282eb00] Error opening input: Invalid data found when processing input\n",
            "Error opening input file /content/drive/MyDrive/2025_VoicePhshing_Detection_Model/dataset/phishing_dataset/FSS_voicephishing_data/mp4/NR0079_검찰사칭 [착한 피해자에게 걸려온 검찰 사칭 보이스피싱].mp4.\n",
            "Error opening input files: Invalid data found when processing input\n",
            "\n",
            "MoviePy - Writing audio in /content/drive/MyDrive/2025_VoicePhshing_Detection_Model/dataset/phishing_dataset/FSS_voicephishing_data/mp3/기타유형/UCC_[이벤트행사_통장한개당_300만원_제안].mp3\n"
          ]
        },
        {
          "output_type": "stream",
          "name": "stderr",
          "text": []
        },
        {
          "output_type": "stream",
          "name": "stdout",
          "text": [
            "MoviePy - Done.\n",
            "🎵 변환 완료: UCC_[이벤트행사_통장한개당_300만원_제안].mp3\n",
            "MoviePy - Writing audio in /content/drive/MyDrive/2025_VoicePhshing_Detection_Model/dataset/phishing_dataset/FSS_voicephishing_data/mp3/기타유형/UCC_[사이버경찰청_수사관_사칭_감기오셨어요_부산사나이의_화끈한_대처법].mp3\n"
          ]
        },
        {
          "output_type": "stream",
          "name": "stderr",
          "text": []
        },
        {
          "output_type": "stream",
          "name": "stdout",
          "text": [
            "MoviePy - Done.\n",
            "🎵 변환 완료: UCC_[사이버경찰청_수사관_사칭_감기오셨어요_부산사나이의_화끈한_대처법].mp3\n"
          ]
        }
      ]
    },
    {
      "cell_type": "markdown",
      "source": [
        "(2) mp3 -> wav 변환"
      ],
      "metadata": {
        "id": "UAbM3bVbhsiA"
      }
    },
    {
      "cell_type": "code",
      "source": [
        "# pydub 라이브러리 설치\n",
        "#!pip install pydub\n",
        "#!apt-get install ffmpeg -y"
      ],
      "metadata": {
        "id": "wjtPbR1ghu99"
      },
      "execution_count": null,
      "outputs": []
    },
    {
      "cell_type": "code",
      "source": [
        "from pydub import AudioSegment\n",
        "import os\n",
        "import csv\n",
        "from pathlib import Path\n",
        "\n",
        "project_path = Path(\"/content/drive/MyDrive/2025_VoicePhshing_Detection_Model\")\n",
        "\n",
        "# wav 디렉토리 (phshing_dataset)\n",
        "phishing_wav_dir = project_path / \"dataset\" / \"phishing_dataset\" / \"FSS_voicephishing_data\" / \"wav\"\n",
        "\n",
        "# 디렉토리들\n",
        "mp3_dirs = {\n",
        "    \"대출사기형\": project_path / \"dataset\" / \"phishing_dataset\" / \"FSS_voicephishing_data\" / \"mp3\" / \"대출사기형\",\n",
        "    \"수사기관_사칭형\": project_path / \"dataset\" / \"phishing_dataset\" / \"FSS_voicephishing_data\" / \"mp3\" / \"수사기관_사칭형\",\n",
        "    \"기타\": project_path / \"dataset\" / \"phishing_dataset\" / \"FSS_voicephishing_data\" / \"mp3\" / \"기타유형\"\n",
        "}\n",
        "\n",
        "# 메타데이터 저장용 CSV 파일 경로\n",
        "metadata_csv_path = os.path.join(phishing_wav_dir, \"metadata.csv\")\n",
        "\n",
        "# 디렉토리 생성 (존재하지 않으면)\n",
        "os.makedirs(os.path.dirname(metadata_csv_path), exist_ok=True)\n",
        "\n",
        "# 변환 및 메타데이터 저장\n",
        "with open(metadata_csv_path, mode=\"w\", newline='', encoding=\"utf-8\") as csvfile:\n",
        "    writer = csv.writer(csvfile)\n",
        "    writer.writerow([\"filename\", \"label\", \"source_path\"])  # 헤더\n",
        "\n",
        "    for label, mp3_dir in mp3_dirs.items():\n",
        "        for filename in os.listdir(mp3_dir):\n",
        "            if filename.endswith(\".mp3\"):\n",
        "                mp3_path = os.path.join(mp3_dir, filename)\n",
        "                # 라벨_원래이름.wav 형태로 저장\n",
        "                clean_filename = os.path.splitext(filename)[0]\n",
        "                wav_filename = f\"{label}_{clean_filename}.wav\"\n",
        "                wav_path = os.path.join(phishing_wav_dir, wav_filename)\n",
        "\n",
        "                try:\n",
        "                    audio = AudioSegment.from_mp3(mp3_path)\n",
        "                    audio.export(wav_path, format=\"wav\")\n",
        "                    writer.writerow([wav_filename, label, mp3_path])\n",
        "                    print(f\"🔊 변환 및 저장 완료: {wav_filename}\")\n",
        "                except Exception as e:\n",
        "                    print(f\"⚠️ 변환 실패 ({filename}): {e}\")"
      ],
      "metadata": {
        "id": "NiWtvwL8h0MQ",
        "colab": {
          "base_uri": "https://localhost:8080/",
          "height": 1000
        },
        "outputId": "32ef25ab-41f9-4d3b-f399-782d04f1c1ef"
      },
      "execution_count": 1,
      "outputs": [
        {
          "output_type": "stream",
          "name": "stdout",
          "text": [
            "🔊 변환 및 저장 완료: 대출사기형_185.wav\n",
            "🔊 변환 및 저장 완료: 대출사기형_184.wav\n",
            "🔊 변환 및 저장 완료: 대출사기형_183.wav\n",
            "🔊 변환 및 저장 완료: 대출사기형_182.wav\n",
            "🔊 변환 및 저장 완료: 대출사기형_181.wav\n",
            "🔊 변환 및 저장 완료: 대출사기형_180.wav\n",
            "🔊 변환 및 저장 완료: 대출사기형_179.wav\n",
            "🔊 변환 및 저장 완료: 대출사기형_178.wav\n",
            "🔊 변환 및 저장 완료: 대출사기형_177.wav\n",
            "🔊 변환 및 저장 완료: 대출사기형_176.wav\n",
            "🔊 변환 및 저장 완료: 대출사기형_175.wav\n",
            "🔊 변환 및 저장 완료: 대출사기형_174.wav\n",
            "🔊 변환 및 저장 완료: 대출사기형_173.wav\n",
            "🔊 변환 및 저장 완료: 대출사기형_172.wav\n",
            "🔊 변환 및 저장 완료: 대출사기형_171.wav\n",
            "🔊 변환 및 저장 완료: 대출사기형_170.wav\n",
            "🔊 변환 및 저장 완료: 대출사기형_169.wav\n",
            "🔊 변환 및 저장 완료: 대출사기형_168.wav\n",
            "🔊 변환 및 저장 완료: 대출사기형_167.wav\n",
            "🔊 변환 및 저장 완료: 대출사기형_166.wav\n",
            "🔊 변환 및 저장 완료: 대출사기형_165.wav\n",
            "🔊 변환 및 저장 완료: 대출사기형_164.wav\n",
            "🔊 변환 및 저장 완료: 대출사기형_163.wav\n",
            "🔊 변환 및 저장 완료: 대출사기형_162.wav\n",
            "🔊 변환 및 저장 완료: 대출사기형_161.wav\n",
            "🔊 변환 및 저장 완료: 대출사기형_160.wav\n",
            "🔊 변환 및 저장 완료: 대출사기형_159.wav\n",
            "🔊 변환 및 저장 완료: 대출사기형_158.wav\n",
            "🔊 변환 및 저장 완료: 대출사기형_157.wav\n",
            "🔊 변환 및 저장 완료: 대출사기형_156.wav\n",
            "🔊 변환 및 저장 완료: 대출사기형_155.wav\n",
            "🔊 변환 및 저장 완료: 대출사기형_154.wav\n",
            "🔊 변환 및 저장 완료: 대출사기형_153.wav\n",
            "🔊 변환 및 저장 완료: 대출사기형_152.wav\n",
            "🔊 변환 및 저장 완료: 대출사기형_151.wav\n",
            "🔊 변환 및 저장 완료: 대출사기형_150.wav\n",
            "🔊 변환 및 저장 완료: 대출사기형_149.wav\n",
            "🔊 변환 및 저장 완료: 대출사기형_148.wav\n",
            "🔊 변환 및 저장 완료: 대출사기형_147.wav\n",
            "🔊 변환 및 저장 완료: 대출사기형_146.wav\n",
            "🔊 변환 및 저장 완료: 대출사기형_145.wav\n",
            "🔊 변환 및 저장 완료: 대출사기형_144.wav\n"
          ]
        },
        {
          "output_type": "error",
          "ename": "KeyboardInterrupt",
          "evalue": "",
          "traceback": [
            "\u001b[0;31m---------------------------------------------------------------------------\u001b[0m",
            "\u001b[0;31mKeyboardInterrupt\u001b[0m                         Traceback (most recent call last)",
            "\u001b[0;32m/tmp/ipython-input-1-1074374851.py\u001b[0m in \u001b[0;36m<cell line: 0>\u001b[0;34m()\u001b[0m\n\u001b[1;32m     37\u001b[0m \u001b[0;34m\u001b[0m\u001b[0m\n\u001b[1;32m     38\u001b[0m                 \u001b[0;32mtry\u001b[0m\u001b[0;34m:\u001b[0m\u001b[0;34m\u001b[0m\u001b[0;34m\u001b[0m\u001b[0m\n\u001b[0;32m---> 39\u001b[0;31m                     \u001b[0maudio\u001b[0m \u001b[0;34m=\u001b[0m \u001b[0mAudioSegment\u001b[0m\u001b[0;34m.\u001b[0m\u001b[0mfrom_mp3\u001b[0m\u001b[0;34m(\u001b[0m\u001b[0mmp3_path\u001b[0m\u001b[0;34m)\u001b[0m\u001b[0;34m\u001b[0m\u001b[0;34m\u001b[0m\u001b[0m\n\u001b[0m\u001b[1;32m     40\u001b[0m                     \u001b[0maudio\u001b[0m\u001b[0;34m.\u001b[0m\u001b[0mexport\u001b[0m\u001b[0;34m(\u001b[0m\u001b[0mwav_path\u001b[0m\u001b[0;34m,\u001b[0m \u001b[0mformat\u001b[0m\u001b[0;34m=\u001b[0m\u001b[0;34m\"wav\"\u001b[0m\u001b[0;34m)\u001b[0m\u001b[0;34m\u001b[0m\u001b[0;34m\u001b[0m\u001b[0m\n\u001b[1;32m     41\u001b[0m                     \u001b[0mwriter\u001b[0m\u001b[0;34m.\u001b[0m\u001b[0mwriterow\u001b[0m\u001b[0;34m(\u001b[0m\u001b[0;34m[\u001b[0m\u001b[0mwav_filename\u001b[0m\u001b[0;34m,\u001b[0m \u001b[0mlabel\u001b[0m\u001b[0;34m,\u001b[0m \u001b[0mmp3_path\u001b[0m\u001b[0;34m]\u001b[0m\u001b[0;34m)\u001b[0m\u001b[0;34m\u001b[0m\u001b[0;34m\u001b[0m\u001b[0m\n",
            "\u001b[0;32m/usr/local/lib/python3.11/dist-packages/pydub/audio_segment.py\u001b[0m in \u001b[0;36mfrom_mp3\u001b[0;34m(cls, file, parameters)\u001b[0m\n\u001b[1;32m    794\u001b[0m     \u001b[0;34m@\u001b[0m\u001b[0mclassmethod\u001b[0m\u001b[0;34m\u001b[0m\u001b[0;34m\u001b[0m\u001b[0m\n\u001b[1;32m    795\u001b[0m     \u001b[0;32mdef\u001b[0m \u001b[0mfrom_mp3\u001b[0m\u001b[0;34m(\u001b[0m\u001b[0mcls\u001b[0m\u001b[0;34m,\u001b[0m \u001b[0mfile\u001b[0m\u001b[0;34m,\u001b[0m \u001b[0mparameters\u001b[0m\u001b[0;34m=\u001b[0m\u001b[0;32mNone\u001b[0m\u001b[0;34m)\u001b[0m\u001b[0;34m:\u001b[0m\u001b[0;34m\u001b[0m\u001b[0;34m\u001b[0m\u001b[0m\n\u001b[0;32m--> 796\u001b[0;31m         \u001b[0;32mreturn\u001b[0m \u001b[0mcls\u001b[0m\u001b[0;34m.\u001b[0m\u001b[0mfrom_file\u001b[0m\u001b[0;34m(\u001b[0m\u001b[0mfile\u001b[0m\u001b[0;34m,\u001b[0m \u001b[0;34m'mp3'\u001b[0m\u001b[0;34m,\u001b[0m \u001b[0mparameters\u001b[0m\u001b[0;34m=\u001b[0m\u001b[0mparameters\u001b[0m\u001b[0;34m)\u001b[0m\u001b[0;34m\u001b[0m\u001b[0;34m\u001b[0m\u001b[0m\n\u001b[0m\u001b[1;32m    797\u001b[0m \u001b[0;34m\u001b[0m\u001b[0m\n\u001b[1;32m    798\u001b[0m     \u001b[0;34m@\u001b[0m\u001b[0mclassmethod\u001b[0m\u001b[0;34m\u001b[0m\u001b[0;34m\u001b[0m\u001b[0m\n",
            "\u001b[0;32m/usr/local/lib/python3.11/dist-packages/pydub/audio_segment.py\u001b[0m in \u001b[0;36mfrom_file\u001b[0;34m(cls, file, format, codec, parameters, start_second, duration, **kwargs)\u001b[0m\n\u001b[1;32m    778\u001b[0m         \u001b[0mfix_wav_headers\u001b[0m\u001b[0;34m(\u001b[0m\u001b[0mp_out\u001b[0m\u001b[0;34m)\u001b[0m\u001b[0;34m\u001b[0m\u001b[0;34m\u001b[0m\u001b[0m\n\u001b[1;32m    779\u001b[0m         \u001b[0mp_out\u001b[0m \u001b[0;34m=\u001b[0m \u001b[0mbytes\u001b[0m\u001b[0;34m(\u001b[0m\u001b[0mp_out\u001b[0m\u001b[0;34m)\u001b[0m\u001b[0;34m\u001b[0m\u001b[0;34m\u001b[0m\u001b[0m\n\u001b[0;32m--> 780\u001b[0;31m         \u001b[0mobj\u001b[0m \u001b[0;34m=\u001b[0m \u001b[0mcls\u001b[0m\u001b[0;34m(\u001b[0m\u001b[0mp_out\u001b[0m\u001b[0;34m)\u001b[0m\u001b[0;34m\u001b[0m\u001b[0;34m\u001b[0m\u001b[0m\n\u001b[0m\u001b[1;32m    781\u001b[0m \u001b[0;34m\u001b[0m\u001b[0m\n\u001b[1;32m    782\u001b[0m         \u001b[0;32mif\u001b[0m \u001b[0mclose_file\u001b[0m\u001b[0;34m:\u001b[0m\u001b[0;34m\u001b[0m\u001b[0;34m\u001b[0m\u001b[0m\n",
            "\u001b[0;32m/usr/local/lib/python3.11/dist-packages/pydub/audio_segment.py\u001b[0m in \u001b[0;36m__init__\u001b[0;34m(self, data, *args, **kwargs)\u001b[0m\n\u001b[1;32m    220\u001b[0m                 \u001b[0mdata\u001b[0m \u001b[0;34m=\u001b[0m \u001b[0md\u001b[0m\u001b[0;34m\u001b[0m\u001b[0;34m\u001b[0m\u001b[0m\n\u001b[1;32m    221\u001b[0m \u001b[0;34m\u001b[0m\u001b[0m\n\u001b[0;32m--> 222\u001b[0;31m             \u001b[0mwav_data\u001b[0m \u001b[0;34m=\u001b[0m \u001b[0mread_wav_audio\u001b[0m\u001b[0;34m(\u001b[0m\u001b[0mdata\u001b[0m\u001b[0;34m)\u001b[0m\u001b[0;34m\u001b[0m\u001b[0;34m\u001b[0m\u001b[0m\n\u001b[0m\u001b[1;32m    223\u001b[0m             \u001b[0;32mif\u001b[0m \u001b[0;32mnot\u001b[0m \u001b[0mwav_data\u001b[0m\u001b[0;34m:\u001b[0m\u001b[0;34m\u001b[0m\u001b[0;34m\u001b[0m\u001b[0m\n\u001b[1;32m    224\u001b[0m                 \u001b[0;32mraise\u001b[0m \u001b[0mCouldntDecodeError\u001b[0m\u001b[0;34m(\u001b[0m\u001b[0;34m\"Couldn't read wav audio from data\"\u001b[0m\u001b[0;34m)\u001b[0m\u001b[0;34m\u001b[0m\u001b[0;34m\u001b[0m\u001b[0m\n",
            "\u001b[0;32m/usr/local/lib/python3.11/dist-packages/pydub/audio_segment.py\u001b[0m in \u001b[0;36mread_wav_audio\u001b[0;34m(data, headers)\u001b[0m\n\u001b[1;32m    129\u001b[0m \u001b[0;34m\u001b[0m\u001b[0m\n\u001b[1;32m    130\u001b[0m     \u001b[0mpos\u001b[0m \u001b[0;34m=\u001b[0m \u001b[0mdata_hdr\u001b[0m\u001b[0;34m.\u001b[0m\u001b[0mposition\u001b[0m \u001b[0;34m+\u001b[0m \u001b[0;36m8\u001b[0m\u001b[0;34m\u001b[0m\u001b[0;34m\u001b[0m\u001b[0m\n\u001b[0;32m--> 131\u001b[0;31m     return WavData(audio_format, channels, sample_rate, bits_per_sample,\n\u001b[0m\u001b[1;32m    132\u001b[0m                    data[pos:pos + data_hdr.size])\n\u001b[1;32m    133\u001b[0m \u001b[0;34m\u001b[0m\u001b[0m\n",
            "\u001b[0;32m<string>\u001b[0m in \u001b[0;36m<lambda>\u001b[0;34m(_cls, audio_format, channels, sample_rate, bits_per_sample, raw_data)\u001b[0m\n",
            "\u001b[0;31mKeyboardInterrupt\u001b[0m: "
          ]
        }
      ]
    },
    {
      "cell_type": "markdown",
      "source": [
        "- 중간에 중단하여 오류가 뜬 것\n",
        "- 파일 변환은 정상적으로 잘 진행됨"
      ],
      "metadata": {
        "id": "tCobZCmyn4xt"
      }
    }
  ]
}